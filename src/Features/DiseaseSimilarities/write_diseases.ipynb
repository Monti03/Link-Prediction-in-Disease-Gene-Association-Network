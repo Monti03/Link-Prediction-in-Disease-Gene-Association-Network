{
 "metadata": {
  "language_info": {
   "codemirror_mode": {
    "name": "ipython",
    "version": 3
   },
   "file_extension": ".py",
   "mimetype": "text/x-python",
   "name": "python",
   "nbconvert_exporter": "python",
   "pygments_lexer": "ipython3",
   "version": "3.8.5-final"
  },
  "orig_nbformat": 2,
  "kernelspec": {
   "name": "python3",
   "display_name": "Python 3",
   "language": "python"
  }
 },
 "nbformat": 4,
 "nbformat_minor": 2,
 "cells": [
  {
   "cell_type": "code",
   "execution_count": 6,
   "metadata": {},
   "outputs": [],
   "source": [
    "file_name = 'DG-Miner_miner-disease-gene.tsv'\n",
    "with open(file_name) as fin:\n",
    "\n",
    "    diseases = set()\n",
    "    for line in fin:\n",
    "        if(line == '' or line[:4] == 'OMIM' or 'Disease(MESH)' in line):\n",
    "            continue\n",
    "        disease = line.split('\\t')\n",
    "        diseases.add(disease[0][5:])\n",
    "\n"
   ]
  },
  {
   "cell_type": "code",
   "execution_count": 7,
   "metadata": {},
   "outputs": [],
   "source": [
    "with open('diseases.txt', 'w') as fout:\n",
    "    for disease in diseases:\n",
    "        fout.write(disease+'\\n') "
   ]
  },
  {
   "cell_type": "code",
   "execution_count": null,
   "metadata": {},
   "outputs": [],
   "source": []
  }
 ]
}