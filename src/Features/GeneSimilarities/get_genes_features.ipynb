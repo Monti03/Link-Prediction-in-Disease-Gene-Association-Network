{
  "nbformat": 4,
  "nbformat_minor": 0,
  "metadata": {
    "language_info": {
      "codemirror_mode": {
        "name": "ipython",
        "version": 3
      },
      "file_extension": ".py",
      "mimetype": "text/x-python",
      "name": "python",
      "nbconvert_exporter": "python",
      "pygments_lexer": "ipython3",
      "version": "3.8.5-final"
    },
    "orig_nbformat": 2,
    "kernelspec": {
      "name": "python3",
      "display_name": "Python 3.8.5 64-bit",
      "metadata": {
        "interpreter": {
          "hash": "31f2aee4e71d21fbe5cf8b01ff0e069b9275f58929596ceb00d14d90e3e16cd6"
        }
      }
    },
    "colab": {
      "name": "get_GO_terms.ipynb",
      "provenance": [],
      "collapsed_sections": []
    }
  },
  "cells": [
    {
      "source": [
        "# Compute the pairwise gene similarity"
      ],
      "cell_type": "markdown",
      "metadata": {}
    },
    {
      "source": [
        "## Importing the libraries "
      ],
      "cell_type": "markdown",
      "metadata": {}
    },
    {
      "cell_type": "code",
      "metadata": {
        "id": "xJB9erNj1iPj"
      },
      "source": [
        "import os\n",
        "import pandas as pd\n",
        "import numpy as np\n",
        "import pickle\n",
        "\n",
        "import mygene\n",
        "from goatools.base import get_godag\n",
        "from goatools.semsim.termwise.wang import SsWang # GO terms similarity defined in the Wang paper"
      ],
      "execution_count": 1,
      "outputs": []
    },
    {
      "source": [
        "## Importing the dataset"
      ],
      "cell_type": "markdown",
      "metadata": {}
    },
    {
      "cell_type": "code",
      "metadata": {
        "id": "tZUnw3eR1iPu"
      },
      "source": [
        "data_folder_path = os.path.join(os.getcwd(),'data')\n",
        "data_path = os.path.join(data_folder_path, 'DG-Miner_miner-disease-gene.tsv')\n",
        "\n",
        "data = pd.read_csv(data_path, sep='\\t', header=0, names=['diseases','genes'])"
      ],
      "execution_count": 2,
      "outputs": []
    },
    {
      "cell_type": "code",
      "metadata": {
        "id": "EgI3f8o51iPu",
        "outputId": "a5a3fd36-493d-4030-90c0-cfedb4ddd8d0"
      },
      "source": [
        "print(\"Number of links: \", len(data.index))\n",
        "print('\\n')\n",
        "print(\"Unique values:\")\n",
        "print(data.nunique())"
      ],
      "execution_count": null,
      "outputs": [
        {
          "output_type": "stream",
          "text": [
            "Number of links:  15509619\n",
            "\n",
            "\n",
            "Unique values:\n",
            "diseases     5664\n",
            "genes       17822\n",
            "dtype: int64\n"
          ],
          "name": "stdout"
        }
      ]
    },
    {
      "source": [
        "## Getting the GO terms associated to each gene in our dataset using the *mygene* library"
      ],
      "cell_type": "markdown",
      "metadata": {}
    },
    {
      "cell_type": "code",
      "metadata": {
        "tags": [],
        "id": "OAHn1oei1iPv",
        "outputId": "4d4e3b35-f6e0-429a-e3aa-28e2bf52d674"
      },
      "source": [
        "missing_genes_count = 0\n",
        "MF_GO_terms_dict = {}\n",
        "mg = mygene.MyGeneInfo()\n",
        "i = 0\n",
        "\n",
        "for gene_code in data['genes'].unique():\n",
        "    \n",
        "    query_res = mg.query(gene_code, size=1)\n",
        "    if len(query_res['hits']) == 0:\n",
        "        missing_genes_count += 1\n",
        "        continue\n",
        "    \n",
        "    gene_id = query_res['hits'][0]['_id']\n",
        "    gene_dict = mg.getgene(gene_id)\n",
        "    if 'go' not in gene_dict:\n",
        "        missing_genes_count += 1\n",
        "        continue\n",
        "    \n",
        "    gene_GO_terms_dict = gene_dict['go']\n",
        "    if 'MF' not in gene_GO_terms_dict:\n",
        "        missing_genes_count += 1\n",
        "        continue\n",
        "    \n",
        "    gene_MF_GO_terms_dicts = gene_GO_terms_dict['MF']\n",
        "    gene_MF_GO_terms = set()\n",
        "    if type(gene_MF_GO_terms_dicts) != list:\n",
        "        gene_MF_GO_terms.add(gene_MF_GO_terms_dicts['id'][3:])\n",
        "    else:\n",
        "        for MF_GO_term_dict in gene_MF_GO_terms_dicts:\n",
        "            gene_MF_GO_terms.add(MF_GO_term_dict['id'][3:])\n",
        "    MF_GO_terms_dict[gene_code] = gene_MF_GO_terms\n",
        "\n",
        "    i += 1\n",
        "    if i%1000 == 0:\n",
        "        print(\"Processed \", i, \" genes\")"
      ],
      "execution_count": null,
      "outputs": [
        {
          "output_type": "stream",
          "text": [
            "Processed  1  genes\n",
            "Processed  1001  genes\n",
            "Processed  2001  genes\n",
            "Processed  3001  genes\n",
            "Processed  4001  genes\n",
            "Processed  5001  genes\n",
            "Processed  6001  genes\n",
            "Processed  7001  genes\n",
            "Processed  8001  genes\n",
            "Processed  9001  genes\n",
            "Processed  10001  genes\n",
            "Processed  11001  genes\n",
            "Processed  12001  genes\n",
            "Processed  13001  genes\n",
            "Processed  14001  genes\n",
            "Processed  15001  genes\n",
            "Processed  16001  genes\n"
          ],
          "name": "stdout"
        }
      ]
    },
    {
      "cell_type": "code",
      "metadata": {
        "id": "YR37R2Bh1iPx",
        "outputId": "74405607-bc4b-4620-bfcc-21245d9f81c0"
      },
      "source": [
        "print(missing_genes_count)"
      ],
      "execution_count": null,
      "outputs": [
        {
          "output_type": "stream",
          "text": [
            "1170\n"
          ],
          "name": "stdout"
        }
      ]
    },
    {
      "cell_type": "code",
      "metadata": {
        "id": "qM2A4DGc1iPx",
        "outputId": "25f2048c-91ee-421b-b6e9-5e68b466efbd"
      },
      "source": [
        "# Uncomment this code if you don't have the file containing the dictionary (key, value) ---> (gene_code, GO_terms), that is the GO_terms_dict.txt file present in the repo.\n",
        "'''\n",
        "with open('GO_terms_dict.txt', 'wb') as handle:\n",
        "    pickle.dump(MF_GO_terms_dict, handle)\n",
        "'''\n"
      ],
      "execution_count": 1,
      "outputs": [
        {
          "output_type": "execute_result",
          "data": {
            "text/plain": [
              "\"\\nwith open('GO_terms_dict.txt', 'wb') as handle:\\n    pickle.dump(MF_GO_terms_dict, handle)\\n\""
            ]
          },
          "metadata": {},
          "execution_count": 1
        }
      ]
    },
    {
      "cell_type": "code",
      "metadata": {
        "id": "CXucUmL-1iPy"
      },
      "source": [
        "with open('GO_terms_dict.txt', 'rb') as handle:\n",
        "    MF_GO_terms_dict = pickle.loads(handle.read())"
      ],
      "execution_count": 2,
      "outputs": []
    },
    {
      "cell_type": "code",
      "metadata": {
        "id": "Qx6RqfCo1iPy",
        "outputId": "c991000e-fd4c-4cf5-dd17-9019342326dc"
      },
      "source": [
        "print(len(MF_GO_terms_dict))"
      ],
      "execution_count": null,
      "outputs": [
        {
          "output_type": "stream",
          "text": [
            "16652\n"
          ],
          "name": "stdout"
        }
      ]
    },
    {
      "source": [
        "## Retrieving GO terms ontology from the web"
      ],
      "cell_type": "markdown",
      "metadata": {}
    },
    {
      "cell_type": "code",
      "metadata": {
        "id": "R1GQRm2G1iPz",
        "outputId": "452432ef-6568-4445-f370-78175ae10ac9"
      },
      "source": [
        "godag_path = os.path.join(data_folder_path, 'go-basic.obo')\n",
        "godag = get_godag(godag_path)"
      ],
      "execution_count": 3,
      "outputs": [
        {
          "output_type": "stream",
          "name": "stdout",
          "text": [
            "  EXISTS: ./data/go-basic.obo\n",
            "./data/go-basic.obo: fmt(1.2) rel(2021-01-01) 47,285 GO Terms\n"
          ]
        }
      ]
    },
    {
      "cell_type": "code",
      "metadata": {
        "id": "pkdywF6k1iP0"
      },
      "source": [
        "for gene_code in MF_GO_terms_dict:\n",
        "    MF_GO_terms_dict[gene_code] = set(map(lambda term: 'GO:' + term, MF_GO_terms_dict[gene_code])) # We add the prefix \"GO:\" to each term in our dict because it is needed for the goatools library"
      ],
      "execution_count": 4,
      "outputs": []
    },
    {
      "cell_type": "code",
      "metadata": {
        "id": "wf62rysn1iP0",
        "outputId": "2d54721a-0477-415f-9b17-f370ac612fd9"
      },
      "source": [
        "goids = set()\n",
        "for terms in MF_GO_terms_dict.values():\n",
        "    goids = goids.union(terms)\n",
        "print(\"Number of different GO terms in our dataset:\", len(goids))"
      ],
      "execution_count": 5,
      "outputs": [
        {
          "output_type": "stream",
          "name": "stdout",
          "text": [
            "Number of different GO terms in our dataset: 4285\n"
          ]
        }
      ]
    },
    {
      "cell_type": "code",
      "metadata": {
        "id": "NAJS1wiW1iP0",
        "outputId": "4f8ac10a-e17a-48ad-deaa-18fc0d179917"
      },
      "source": [
        "wang = SsWang(goids, godag) # We pass the all the GO terms between which we have to compute the pairwise GO term similarity and we see that some GO terms are not present in the godag ---> we remove all associated genes, because for these we cannot compute the genes simialrity"
      ],
      "execution_count": 6,
      "outputs": [
        {
          "output_type": "stream",
          "name": "stdout",
          "text": [
            "**WARNING: GO IDs NOT FOUND: ['GO:0030375', 'GO:0045155']\n"
          ]
        }
      ]
    },
    {
      "cell_type": "code",
      "metadata": {
        "id": "ar1b9Qg91iP0"
      },
      "source": [
        "genes_to_delete = []\n",
        "\n",
        "for gene_code in MF_GO_terms_dict:\n",
        "    if 'GO:0030375' in MF_GO_terms_dict[gene_code] or 'GO:0045155' in MF_GO_terms_dict[gene_code]:\n",
        "        genes_to_delete.append(gene_code)"
      ],
      "execution_count": 7,
      "outputs": []
    },
    {
      "cell_type": "code",
      "metadata": {
        "id": "V-k2kTEt1iP1",
        "outputId": "0887fc6d-f320-4ed0-8744-192f8fc795c1"
      },
      "source": [
        "genes_to_delete"
      ],
      "execution_count": 8,
      "outputs": [
        {
          "output_type": "execute_result",
          "data": {
            "text/plain": [
              "['Q15648', 'P99999', 'F6THM6', 'Q9Y2X0', 'P08574', 'Q15596']"
            ]
          },
          "metadata": {},
          "execution_count": 8
        }
      ]
    },
    {
      "cell_type": "code",
      "metadata": {
        "id": "6L6ycOpz1iP1"
      },
      "source": [
        "for gene_to_delete in genes_to_delete:\n",
        "    MF_GO_terms_dict.pop(gene_to_delete)"
      ],
      "execution_count": 9,
      "outputs": []
    },
    {
      "cell_type": "code",
      "metadata": {
        "id": "k7cXUmN11iP1",
        "outputId": "d79cf569-d12e-4ee0-e49b-96ba75568062"
      },
      "source": [
        "goids.discard('GO:0030375')\n",
        "goids.discard('GO:0045155')\n",
        "print(\"Number of different GO terms in our dataset after the removal of non-present terms in the DAG:\", len(goids))"
      ],
      "execution_count": 10,
      "outputs": [
        {
          "output_type": "stream",
          "name": "stdout",
          "text": [
            "Number of different GO terms in our dataset after the removal of non-present terms in the DAG: 4283\n"
          ]
        }
      ]
    },
    {
      "cell_type": "code",
      "metadata": {
        "id": "GlpUIrSW1iP1"
      },
      "source": [
        "wang = SsWang(goids, godag)"
      ],
      "execution_count": null,
      "outputs": []
    },
    {
      "source": [
        "## Computing pairwise gene similarity"
      ],
      "cell_type": "markdown",
      "metadata": {}
    },
    {
      "cell_type": "code",
      "metadata": {
        "id": "HhUtRg031iP2"
      },
      "source": [
        "def term_set_similarity(GO_term, GO_terms):\n",
        "    max_sim = 0.0\n",
        "    for term in GO_terms:\n",
        "        sim = wang.get_sim(GO_term, term)\n",
        "        if sim > max_sim:\n",
        "            max_sim = sim\n",
        "    return max_sim\n",
        "\n",
        "def genes_similarity(GO_terms1, GO_terms2):\n",
        "    similarities_sum = 0.0\n",
        "    for GO_term in GO_terms1:\n",
        "        similarities_sum += term_set_similarity(GO_term, GO_terms2)\n",
        "    for GO_term in GO_terms2:\n",
        "        similarities_sum += term_set_similarity(GO_term, GO_terms1)\n",
        "    return similarities_sum / (len(GO_terms1) + len(GO_terms2))\n",
        "\n",
        "\n",
        "genes_GO_terms = list(MF_GO_terms_dict.values())\n",
        "num_genes = len(genes_GO_terms)\n",
        "genes_features_matrix = np.zeros( (num_genes, num_genes) )\n",
        "for i in range(num_genes - 1):\n",
        "    terms1 = genes_GO_terms[i]\n",
        "    for j in range(i + 1, num_genes):\n",
        "        sim = genes_similarity(terms1, genes_GO_terms[j])\n",
        "        genes_features_matrix[i][j] = genes_features_matrix[j][i] = sim"
      ],
      "execution_count": null,
      "outputs": []
    },
    {
      "cell_type": "code",
      "metadata": {
        "id": "ruAy2to-1iP3"
      },
      "source": [
        "np.fill_diagonal(genes_features_matrix, 1.0)"
      ],
      "execution_count": null,
      "outputs": []
    },
    {
      "cell_type": "code",
      "metadata": {
        "id": "WVU87KYq1iP3",
        "outputId": "8309b072-6412-441a-beaf-93d1c1da05af"
      },
      "source": [
        "np.count_nonzero(genes_features_matrix==0.0)"
      ],
      "execution_count": null,
      "outputs": [
        {
          "output_type": "execute_result",
          "data": {
            "text/plain": [
              "0"
            ]
          },
          "metadata": {
            "tags": []
          },
          "execution_count": 21
        }
      ]
    },
    {
      "cell_type": "code",
      "metadata": {
        "id": "zYT_NAiH1iP3",
        "outputId": "89dbfde5-f4df-4a22-84bb-d0ee999c3a8e"
      },
      "source": [
        "np.amin(genes_features_matrix)"
      ],
      "execution_count": null,
      "outputs": [
        {
          "output_type": "execute_result",
          "data": {
            "text/plain": [
              "0.019664435298605537"
            ]
          },
          "metadata": {
            "tags": []
          },
          "execution_count": 24
        }
      ]
    },
    {
      "cell_type": "code",
      "execution_count": null,
      "metadata": {},
      "outputs": [],
      "source": [
        "np.save('genes_features_matrix.npy', genes_features_matrix)"
      ]
    }
  ]
}