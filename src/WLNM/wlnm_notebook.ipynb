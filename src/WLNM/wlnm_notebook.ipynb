{
 "cells": [
  {
   "cell_type": "markdown",
   "metadata": {},
   "source": [
    "# Weisfeiler-Lehman Neural Machine for Link Prediction"
   ]
  },
  {
   "cell_type": "markdown",
   "metadata": {},
   "source": [
    "## Importing the libraries"
   ]
  },
  {
   "cell_type": "code",
   "execution_count": 1,
   "metadata": {},
   "outputs": [],
   "source": [
    "import networkx as nx\n",
    "import scipy.sparse\n",
    "import matplotlib.pyplot as plt\n",
    "import numpy as np\n",
    "import math\n",
    "import pandas as pd\n",
    "import os\n",
    "import random\n",
    "import multiprocessing\n",
    "from decimal import Decimal # It is used to avoid overflow error"
   ]
  },
  {
   "cell_type": "markdown",
   "metadata": {},
   "source": [
    "## Importing the dataset"
   ]
  },
  {
   "cell_type": "code",
   "execution_count": 2,
   "metadata": {},
   "outputs": [],
   "source": [
    "data_folder_path = os.path.join(os.getcwd(),'data')\n",
    "data_path = os.path.join(data_folder_path, 'DG-Miner_miner-disease-gene.tsv')\n",
    "\n",
    "data = pd.read_csv(data_path, sep='\\t', header=0, names=['diseases','genes'])"
   ]
  },
  {
   "cell_type": "code",
   "execution_count": 3,
   "metadata": {},
   "outputs": [
    {
     "output_type": "execute_result",
     "data": {
      "text/plain": [
       "              diseases       genes\n",
       "0         MESH:D005756  A0A087WZV0\n",
       "1         MESH:D055370      P11464\n",
       "2         MESH:D007410      Q92945\n",
       "3         MESH:D014062      Q6ISS4\n",
       "4         MESH:D054549      Q96RU8\n",
       "...                ...         ...\n",
       "15509614  MESH:D006086      E9PDE8\n",
       "15509615  MESH:D002869      O95994\n",
       "15509616  MESH:D009182      E9PFI4\n",
       "15509617  MESH:D015433  A0A087WWV9\n",
       "15509618  MESH:D009135      P51589\n",
       "\n",
       "[15509619 rows x 2 columns]"
      ],
      "text/html": "<div>\n<style scoped>\n    .dataframe tbody tr th:only-of-type {\n        vertical-align: middle;\n    }\n\n    .dataframe tbody tr th {\n        vertical-align: top;\n    }\n\n    .dataframe thead th {\n        text-align: right;\n    }\n</style>\n<table border=\"1\" class=\"dataframe\">\n  <thead>\n    <tr style=\"text-align: right;\">\n      <th></th>\n      <th>diseases</th>\n      <th>genes</th>\n    </tr>\n  </thead>\n  <tbody>\n    <tr>\n      <th>0</th>\n      <td>MESH:D005756</td>\n      <td>A0A087WZV0</td>\n    </tr>\n    <tr>\n      <th>1</th>\n      <td>MESH:D055370</td>\n      <td>P11464</td>\n    </tr>\n    <tr>\n      <th>2</th>\n      <td>MESH:D007410</td>\n      <td>Q92945</td>\n    </tr>\n    <tr>\n      <th>3</th>\n      <td>MESH:D014062</td>\n      <td>Q6ISS4</td>\n    </tr>\n    <tr>\n      <th>4</th>\n      <td>MESH:D054549</td>\n      <td>Q96RU8</td>\n    </tr>\n    <tr>\n      <th>...</th>\n      <td>...</td>\n      <td>...</td>\n    </tr>\n    <tr>\n      <th>15509614</th>\n      <td>MESH:D006086</td>\n      <td>E9PDE8</td>\n    </tr>\n    <tr>\n      <th>15509615</th>\n      <td>MESH:D002869</td>\n      <td>O95994</td>\n    </tr>\n    <tr>\n      <th>15509616</th>\n      <td>MESH:D009182</td>\n      <td>E9PFI4</td>\n    </tr>\n    <tr>\n      <th>15509617</th>\n      <td>MESH:D015433</td>\n      <td>A0A087WWV9</td>\n    </tr>\n    <tr>\n      <th>15509618</th>\n      <td>MESH:D009135</td>\n      <td>P51589</td>\n    </tr>\n  </tbody>\n</table>\n<p>15509619 rows × 2 columns</p>\n</div>"
     },
     "metadata": {},
     "execution_count": 3
    }
   ],
   "source": [
    "data"
   ]
  },
  {
   "cell_type": "code",
   "execution_count": 4,
   "metadata": {},
   "outputs": [
    {
     "output_type": "execute_result",
     "data": {
      "text/plain": [
       "                 diseases   genes\n",
       "10673635  # Disease(MESH)    Gene\n",
       "14511576  MESH:C000600608  Q8NCH0\n",
       "7823287      MESH:C531609  P47712\n",
       "4140998      MESH:C531609  P01270\n",
       "6158148      MESH:C531609  P13716\n",
       "...                   ...     ...\n",
       "11880360      OMIM:613789  P07358\n",
       "3998525       OMIM:613790  P07357\n",
       "10928321      OMIM:613843  O00294\n",
       "6683297       OMIM:614456  O75030\n",
       "10340515      OMIM:614869  H0YKC8\n",
       "\n",
       "[15509619 rows x 2 columns]"
      ],
      "text/html": "<div>\n<style scoped>\n    .dataframe tbody tr th:only-of-type {\n        vertical-align: middle;\n    }\n\n    .dataframe tbody tr th {\n        vertical-align: top;\n    }\n\n    .dataframe thead th {\n        text-align: right;\n    }\n</style>\n<table border=\"1\" class=\"dataframe\">\n  <thead>\n    <tr style=\"text-align: right;\">\n      <th></th>\n      <th>diseases</th>\n      <th>genes</th>\n    </tr>\n  </thead>\n  <tbody>\n    <tr>\n      <th>10673635</th>\n      <td># Disease(MESH)</td>\n      <td>Gene</td>\n    </tr>\n    <tr>\n      <th>14511576</th>\n      <td>MESH:C000600608</td>\n      <td>Q8NCH0</td>\n    </tr>\n    <tr>\n      <th>7823287</th>\n      <td>MESH:C531609</td>\n      <td>P47712</td>\n    </tr>\n    <tr>\n      <th>4140998</th>\n      <td>MESH:C531609</td>\n      <td>P01270</td>\n    </tr>\n    <tr>\n      <th>6158148</th>\n      <td>MESH:C531609</td>\n      <td>P13716</td>\n    </tr>\n    <tr>\n      <th>...</th>\n      <td>...</td>\n      <td>...</td>\n    </tr>\n    <tr>\n      <th>11880360</th>\n      <td>OMIM:613789</td>\n      <td>P07358</td>\n    </tr>\n    <tr>\n      <th>3998525</th>\n      <td>OMIM:613790</td>\n      <td>P07357</td>\n    </tr>\n    <tr>\n      <th>10928321</th>\n      <td>OMIM:613843</td>\n      <td>O00294</td>\n    </tr>\n    <tr>\n      <th>6683297</th>\n      <td>OMIM:614456</td>\n      <td>O75030</td>\n    </tr>\n    <tr>\n      <th>10340515</th>\n      <td>OMIM:614869</td>\n      <td>H0YKC8</td>\n    </tr>\n  </tbody>\n</table>\n<p>15509619 rows × 2 columns</p>\n</div>"
     },
     "metadata": {},
     "execution_count": 4
    }
   ],
   "source": [
    "data.sort_values(by=['diseases'])"
   ]
  },
  {
   "source": [
    "## Removing of the \"fake\" row in the Pandas dataframe obtained from the dataset file"
   ],
   "cell_type": "markdown",
   "metadata": {}
  },
  {
   "cell_type": "code",
   "execution_count": 3,
   "metadata": {},
   "outputs": [],
   "source": [
    "data = data.drop(10673635)\n",
    "data.reset_index(drop=True, inplace=True)"
   ]
  },
  {
   "cell_type": "code",
   "execution_count": 4,
   "metadata": {},
   "outputs": [
    {
     "output_type": "stream",
     "name": "stdout",
     "text": [
      "['MESH:C000600608' 'MESH:C531609' 'MESH:C531616' ... 'OMIM:613843'\n 'OMIM:614456' 'OMIM:614869']\n['A0A024QZ42' 'A0A024QZX5' 'A0A024R0T9' ... 'U3KPV4' 'W5XKT8' 'X6R868']\n"
     ]
    }
   ],
   "source": [
    "diseases = np.sort(data.diseases.unique())\n",
    "genes = np.sort(data.genes.unique())\n",
    "print(diseases)\n",
    "print(genes)"
   ]
  },
  {
   "source": [
    "## Sample nodes, in order to be able to compute the enclosing subgraphs in a reasonable time"
   ],
   "cell_type": "markdown",
   "metadata": {}
  },
  {
   "cell_type": "code",
   "execution_count": 5,
   "metadata": {},
   "outputs": [
    {
     "output_type": "stream",
     "name": "stdout",
     "text": [
      "After sampling we have left 3528 genes and 1141 diseases\n"
     ]
    }
   ],
   "source": [
    "random.seed(45)\n",
    "DROP_NODE_PROB = 0.8\n",
    "\n",
    "def sample_data(p, genes, diseases):\n",
    "    sampled_diseases = []\n",
    "    for disease in diseases:\n",
    "        i = random.random()\n",
    "        if i>p:\n",
    "            sampled_diseases.append(disease)\n",
    "    sampled_genes = []\n",
    "    for gene in genes:\n",
    "        i = random.random()\n",
    "        if i>p:\n",
    "            sampled_genes.append(gene)\n",
    "    return sampled_genes, sampled_diseases\n",
    "\n",
    "genes, diseases = sample_data(DROP_NODE_PROB, genes, diseases)\n",
    "num_genes = len(genes)\n",
    "num_diseases = len(diseases)\n",
    "num_nodes = num_diseases + num_genes\n",
    "print(\"After sampling we have left {} genes and {} diseases\".format(num_genes, num_diseases))"
   ]
  },
  {
   "cell_type": "code",
   "execution_count": 6,
   "metadata": {},
   "outputs": [
    {
     "output_type": "execute_result",
     "data": {
      "text/plain": [
       "              diseases   genes\n",
       "12        MESH:D006975  P22033\n",
       "29        MESH:D003922  Q9UL25\n",
       "39        MESH:D006505  Q8WY91\n",
       "55        MESH:D013290  Q16576\n",
       "67        MESH:D014591  P22760\n",
       "...                ...     ...\n",
       "15509511  MESH:D001281  Q9UD71\n",
       "15509548  MESH:D008133  O95239\n",
       "15509566  MESH:D015769  P30086\n",
       "15509598  MESH:D007021  Q6UW56\n",
       "15509608  MESH:D000402  P42081\n",
       "\n",
       "[619437 rows x 2 columns]"
      ],
      "text/html": "<div>\n<style scoped>\n    .dataframe tbody tr th:only-of-type {\n        vertical-align: middle;\n    }\n\n    .dataframe tbody tr th {\n        vertical-align: top;\n    }\n\n    .dataframe thead th {\n        text-align: right;\n    }\n</style>\n<table border=\"1\" class=\"dataframe\">\n  <thead>\n    <tr style=\"text-align: right;\">\n      <th></th>\n      <th>diseases</th>\n      <th>genes</th>\n    </tr>\n  </thead>\n  <tbody>\n    <tr>\n      <th>12</th>\n      <td>MESH:D006975</td>\n      <td>P22033</td>\n    </tr>\n    <tr>\n      <th>29</th>\n      <td>MESH:D003922</td>\n      <td>Q9UL25</td>\n    </tr>\n    <tr>\n      <th>39</th>\n      <td>MESH:D006505</td>\n      <td>Q8WY91</td>\n    </tr>\n    <tr>\n      <th>55</th>\n      <td>MESH:D013290</td>\n      <td>Q16576</td>\n    </tr>\n    <tr>\n      <th>67</th>\n      <td>MESH:D014591</td>\n      <td>P22760</td>\n    </tr>\n    <tr>\n      <th>...</th>\n      <td>...</td>\n      <td>...</td>\n    </tr>\n    <tr>\n      <th>15509511</th>\n      <td>MESH:D001281</td>\n      <td>Q9UD71</td>\n    </tr>\n    <tr>\n      <th>15509548</th>\n      <td>MESH:D008133</td>\n      <td>O95239</td>\n    </tr>\n    <tr>\n      <th>15509566</th>\n      <td>MESH:D015769</td>\n      <td>P30086</td>\n    </tr>\n    <tr>\n      <th>15509598</th>\n      <td>MESH:D007021</td>\n      <td>Q6UW56</td>\n    </tr>\n    <tr>\n      <th>15509608</th>\n      <td>MESH:D000402</td>\n      <td>P42081</td>\n    </tr>\n  </tbody>\n</table>\n<p>619437 rows × 2 columns</p>\n</div>"
     },
     "metadata": {},
     "execution_count": 6
    }
   ],
   "source": [
    "data = data[(data.diseases.isin(diseases)) & (data.genes.isin(genes))]\n",
    "data"
   ]
  },
  {
   "cell_type": "code",
   "execution_count": 7,
   "metadata": {},
   "outputs": [
    {
     "output_type": "execute_result",
     "data": {
      "text/plain": [
       "(729, 3524)"
      ]
     },
     "metadata": {},
     "execution_count": 7
    }
   ],
   "source": [
    "data.diseases.nunique(), data.genes.nunique()"
   ]
  },
  {
   "source": [
    "## Some sampled nodes (diseases or genes) are not present in the filtered dataframe, we add it"
   ],
   "cell_type": "markdown",
   "metadata": {}
  },
  {
   "source": [
    "data_genes = data.genes.unique()\n",
    "genes_to_add = []\n",
    "for gene in genes:\n",
    "    if gene not in data_genes:\n",
    "        genes_to_add.append(gene)\n",
    "data_diseases = data.diseases.unique()\n",
    "diseases_to_add = []\n",
    "for disease in diseases:\n",
    "    if disease not in data_diseases:\n",
    "        diseases_to_add.append(disease)\n",
    "data_genes = None\n",
    "data_diseases = None\n",
    "genes_to_add = np.array(genes_to_add)\n",
    "diseases_to_add = np.array(diseases_to_add)"
   ],
   "cell_type": "code",
   "metadata": {
    "tags": []
   },
   "execution_count": 8,
   "outputs": []
  },
  {
   "cell_type": "code",
   "execution_count": 9,
   "metadata": {},
   "outputs": [
    {
     "output_type": "execute_result",
     "data": {
      "text/plain": [
       "(1141, 3528)"
      ]
     },
     "metadata": {},
     "execution_count": 9
    }
   ],
   "source": [
    "diseases = np.concatenate( (data['diseases'].unique(), diseases_to_add) )\n",
    "genes = np.concatenate( (data['genes'].unique(), genes_to_add) )\n",
    "num_diseases = len(diseases)\n",
    "num_genes = len(genes)\n",
    "nodes_list = np.concatenate( (genes, diseases) ) # It represents the order in which we will consider the rows (columns) of the adj matrix of the network\n",
    "diseases = None\n",
    "genes = None\n",
    "num_diseases, num_genes"
   ]
  },
  {
   "cell_type": "code",
   "execution_count": 10,
   "metadata": {},
   "outputs": [
    {
     "output_type": "execute_result",
     "data": {
      "text/plain": [
       "(array(['Q5J5C9', 'Q6ZVW7', 'Q9H339', 'Q9NYZ4'], dtype='<U6'),\n",
       " array(['MESH:C535314', 'MESH:C535328', 'MESH:C535344', 'MESH:C535382',\n",
       "        'MESH:C535395', 'MESH:C535396', 'MESH:C535418', 'MESH:C535424',\n",
       "        'MESH:C535460', 'MESH:C535478', 'MESH:C535501', 'MESH:C535502',\n",
       "        'MESH:C535540', 'MESH:C535566', 'MESH:C535576', 'MESH:C535600',\n",
       "        'MESH:C535627', 'MESH:C535661', 'MESH:C535684', 'MESH:C535702',\n",
       "        'MESH:C535705', 'MESH:C535729', 'MESH:C535737', 'MESH:C535741',\n",
       "        'MESH:C535780', 'MESH:C535788', 'MESH:C535852', 'MESH:C535896',\n",
       "        'MESH:C535898', 'MESH:C535904', 'MESH:C535924', 'MESH:C535934',\n",
       "        'MESH:C535959', 'MESH:C535982', 'MESH:C536008', 'MESH:C536029',\n",
       "        'MESH:C536030', 'MESH:C536044', 'MESH:C536045', 'MESH:C536049',\n",
       "        'MESH:C536079', 'MESH:C536080', 'MESH:C536088', 'MESH:C536089',\n",
       "        'MESH:C536092', 'MESH:C536129', 'MESH:C536163', 'MESH:C536167',\n",
       "        'MESH:C536185', 'MESH:C536192', 'MESH:C536196', 'MESH:C536200',\n",
       "        'MESH:C536225', 'MESH:C536227', 'MESH:C536275', 'MESH:C536329',\n",
       "        'MESH:C536333', 'MESH:C536464', 'MESH:C536482', 'MESH:C536485',\n",
       "        'MESH:C536498', 'MESH:C536508', 'MESH:C536510', 'MESH:C536530',\n",
       "        'MESH:C536575', 'MESH:C536602', 'MESH:C536604', 'MESH:C536644',\n",
       "        'MESH:C536657', 'MESH:C536736', 'MESH:C536781', 'MESH:C536830',\n",
       "        'MESH:C536833', 'MESH:C536836', 'MESH:C536866', 'MESH:C536979',\n",
       "        'MESH:C537022', 'MESH:C537088', 'MESH:C537111', 'MESH:C537124',\n",
       "        'MESH:C537134', 'MESH:C537182', 'MESH:C537185', 'MESH:C537218',\n",
       "        'MESH:C537248', 'MESH:C537250', 'MESH:C537252', 'MESH:C537257',\n",
       "        'MESH:C537265', 'MESH:C537300', 'MESH:C537313', 'MESH:C537328',\n",
       "        'MESH:C537333', 'MESH:C537352', 'MESH:C537356', 'MESH:C537360',\n",
       "        'MESH:C537457', 'MESH:C537465', 'MESH:C537470', 'MESH:C537485',\n",
       "        'MESH:C537525', 'MESH:C537568', 'MESH:C537571', 'MESH:C537607',\n",
       "        'MESH:C537608', 'MESH:C537633', 'MESH:C537651', 'MESH:C537731',\n",
       "        'MESH:C537756', 'MESH:C537775', 'MESH:C537777', 'MESH:C537833',\n",
       "        'MESH:C537839', 'MESH:C537849', 'MESH:C537907', 'MESH:C537913',\n",
       "        'MESH:C537944', 'MESH:C538001', 'MESH:C538089', 'MESH:C538133',\n",
       "        'MESH:C538137', 'MESH:C538138', 'MESH:C538157', 'MESH:C538191',\n",
       "        'MESH:C538237', 'MESH:C538259', 'MESH:C538324', 'MESH:C538331',\n",
       "        'MESH:C538375', 'MESH:C538539', 'MESH:C538613', 'MESH:C548028',\n",
       "        'MESH:C548032', 'MESH:C548033', 'MESH:C562434', 'MESH:C562467',\n",
       "        'MESH:C562479', 'MESH:C562576', 'MESH:C562590', 'MESH:C562591',\n",
       "        'MESH:C562594', 'MESH:C562638', 'MESH:C562646', 'MESH:C562647',\n",
       "        'MESH:C562656', 'MESH:C562792', 'MESH:C562842', 'MESH:C562897',\n",
       "        'MESH:C563032', 'MESH:C563039', 'MESH:C563156', 'MESH:C563206',\n",
       "        'MESH:C563209', 'MESH:C563278', 'MESH:C563295', 'MESH:C563306',\n",
       "        'MESH:C563327', 'MESH:C563396', 'MESH:C563461', 'MESH:C563462',\n",
       "        'MESH:C563475', 'MESH:C563538', 'MESH:C563660', 'MESH:C563663',\n",
       "        'MESH:C563671', 'MESH:C563690', 'MESH:C563740', 'MESH:C563799',\n",
       "        'MESH:C563832', 'MESH:C563839', 'MESH:C563898', 'MESH:C563985',\n",
       "        'MESH:C563999', 'MESH:C564008', 'MESH:C564190', 'MESH:C564310',\n",
       "        'MESH:C564315', 'MESH:C564333', 'MESH:C564359', 'MESH:C564390',\n",
       "        'MESH:C564392', 'MESH:C564404', 'MESH:C564499', 'MESH:C564520',\n",
       "        'MESH:C564589', 'MESH:C564593', 'MESH:C564629', 'MESH:C564633',\n",
       "        'MESH:C564643', 'MESH:C564675', 'MESH:C564694', 'MESH:C564703',\n",
       "        'MESH:C564835', 'MESH:C564948', 'MESH:C564968', 'MESH:C565054',\n",
       "        'MESH:C565100', 'MESH:C565176', 'MESH:C565193', 'MESH:C565198',\n",
       "        'MESH:C565276', 'MESH:C565293', 'MESH:C565309', 'MESH:C565394',\n",
       "        'MESH:C565504', 'MESH:C565510', 'MESH:C565611', 'MESH:C565707',\n",
       "        'MESH:C565715', 'MESH:C565726', 'MESH:C565754', 'MESH:C565826',\n",
       "        'MESH:C565840', 'MESH:C566024', 'MESH:C566254', 'MESH:C566333',\n",
       "        'MESH:C566339', 'MESH:C566353', 'MESH:C566398', 'MESH:C566437',\n",
       "        'MESH:C566440', 'MESH:C566464', 'MESH:C566473', 'MESH:C566478',\n",
       "        'MESH:C566557', 'MESH:C566600', 'MESH:C566608', 'MESH:C566619',\n",
       "        'MESH:C566672', 'MESH:C566715', 'MESH:C566815', 'MESH:C566899',\n",
       "        'MESH:C566910', 'MESH:C566925', 'MESH:C566951', 'MESH:C566954',\n",
       "        'MESH:C566963', 'MESH:C566970', 'MESH:C566984', 'MESH:C567005',\n",
       "        'MESH:C567006', 'MESH:C567016', 'MESH:C567043', 'MESH:C567046',\n",
       "        'MESH:C567048', 'MESH:C567057', 'MESH:C567066', 'MESH:C567070',\n",
       "        'MESH:C567166', 'MESH:C567195', 'MESH:C567202', 'MESH:C567207',\n",
       "        'MESH:C567234', 'MESH:C567244', 'MESH:C567253', 'MESH:C567261',\n",
       "        'MESH:C567279', 'MESH:C567287', 'MESH:C567340', 'MESH:C567378',\n",
       "        'MESH:C567379', 'MESH:C567382', 'MESH:C567408', 'MESH:C567461',\n",
       "        'MESH:C567515', 'MESH:C567516', 'MESH:C567520', 'MESH:C567551',\n",
       "        'MESH:C567556', 'MESH:C567605', 'MESH:C567639', 'MESH:C567645',\n",
       "        'MESH:C567686', 'MESH:C567688', 'MESH:C567699', 'MESH:C567703',\n",
       "        'MESH:C567707', 'MESH:C567716', 'MESH:C567730', 'MESH:C567734',\n",
       "        'MESH:C567769', 'MESH:C567772', 'MESH:C567784', 'MESH:C567815',\n",
       "        'MESH:C567832', 'MESH:C567833', 'MESH:C567845', 'MESH:C567932',\n",
       "        'MESH:C572568', 'MESH:D000130', 'MESH:D001117', 'MESH:D001478',\n",
       "        'MESH:D001816', 'MESH:D003410', 'MESH:D003811', 'MESH:D005175',\n",
       "        'MESH:D005177', 'MESH:D005236', 'MESH:D005935', 'MESH:D006061',\n",
       "        'MESH:D006105', 'MESH:D006453', 'MESH:D006552', 'MESH:D006616',\n",
       "        'MESH:D006828', 'MESH:D007863', 'MESH:D008065', 'MESH:D008072',\n",
       "        'MESH:D008363', 'MESH:D008557', 'MESH:D009081', 'MESH:D010580',\n",
       "        'MESH:D010855', 'MESH:D011001', 'MESH:D012214', 'MESH:D012783',\n",
       "        'MESH:D013103', 'MESH:D014849', 'MESH:D015012', 'MESH:D015408',\n",
       "        'MESH:D015418', 'MESH:D015518', 'MESH:D015831', 'MESH:D016098',\n",
       "        'MESH:D017085', 'MESH:D017282', 'MESH:D018219', 'MESH:D018640',\n",
       "        'MESH:D018761', 'MESH:D018901', 'MESH:D019080', 'MESH:D019339',\n",
       "        'MESH:D020162', 'MESH:D020252', 'MESH:D020274', 'MESH:D020288',\n",
       "        'MESH:D025063', 'MESH:D025241', 'MESH:D025861', 'MESH:D028243',\n",
       "        'MESH:D028922', 'MESH:D030321', 'MESH:D046150', 'MESH:D049932',\n",
       "        'MESH:D050035', 'MESH:D052159', 'MESH:D052536', 'MESH:D053559',\n",
       "        'MESH:D053579', 'MESH:D053632', 'MESH:D054091', 'MESH:D054331',\n",
       "        'MESH:D054437', 'MESH:D054463', 'MESH:D054880', 'MESH:D055577',\n",
       "        'MESH:D056693', 'MESH:D056733', 'MESH:D056734', 'MESH:D056887',\n",
       "        'MESH:D058490', 'MESH:D062685', 'MESH:D064726', 'OMIM:108120',\n",
       "        'OMIM:108900', 'OMIM:113900', 'OMIM:120970', 'OMIM:143470',\n",
       "        'OMIM:171200', 'OMIM:184095', 'OMIM:191900', 'OMIM:192605',\n",
       "        'OMIM:212500', 'OMIM:215150', 'OMIM:245400', 'OMIM:256600',\n",
       "        'OMIM:256810', 'OMIM:271700', 'OMIM:275350', 'OMIM:277000',\n",
       "        'OMIM:300306', 'OMIM:300497', 'OMIM:305390', 'OMIM:400044',\n",
       "        'OMIM:600309', 'OMIM:600630', 'OMIM:600652', 'OMIM:600791',\n",
       "        'OMIM:600803', 'OMIM:601419', 'OMIM:602025', 'OMIM:604169',\n",
       "        'OMIM:604391', 'OMIM:607447', 'OMIM:608681', 'OMIM:609165',\n",
       "        'OMIM:609821', 'OMIM:612281', 'OMIM:612336', 'OMIM:612379',\n",
       "        'OMIM:612555', 'OMIM:612561', 'OMIM:613152', 'OMIM:613382',\n",
       "        'OMIM:613402', 'OMIM:613454', 'OMIM:613456', 'OMIM:613489',\n",
       "        'OMIM:613617', 'OMIM:613643', 'OMIM:613704', 'OMIM:613790'],\n",
       "       dtype='<U12'),\n",
       " array(['P22033', 'Q9UL25', 'Q8WY91', ..., 'OMIM:613643', 'OMIM:613704',\n",
       "        'OMIM:613790'], dtype=object))"
      ]
     },
     "metadata": {},
     "execution_count": 10
    }
   ],
   "source": [
    "genes_to_add, diseases_to_add, nodes_list"
   ]
  },
  {
   "cell_type": "code",
   "execution_count": 11,
   "metadata": {},
   "outputs": [
    {
     "output_type": "execute_result",
     "data": {
      "text/plain": [
       "(str, numpy.str_, numpy.str_)"
      ]
     },
     "metadata": {},
     "execution_count": 11
    }
   ],
   "source": [
    "type(nodes_list[0]), type(diseases_to_add[0]), type(genes_to_add[0])"
   ]
  },
  {
   "cell_type": "markdown",
   "metadata": {},
   "source": [
    "## Create a graph from the Pandas dataframe"
   ]
  },
  {
   "cell_type": "code",
   "execution_count": 12,
   "metadata": {},
   "outputs": [],
   "source": [
    "network_train = nx.convert_matrix.from_pandas_edgelist(data, 'diseases', 'genes')\n",
    "data = None\n",
    "network_train.add_nodes_from(diseases_to_add)\n",
    "network_train.add_nodes_from(genes_to_add)\n",
    "diseases_to_add = None\n",
    "genes_to_add = None"
   ]
  },
  {
   "cell_type": "code",
   "execution_count": 13,
   "metadata": {},
   "outputs": [
    {
     "output_type": "execute_result",
     "data": {
      "text/plain": [
       "(4669, 619437)"
      ]
     },
     "metadata": {},
     "execution_count": 13
    }
   ],
   "source": [
    "total_n_nodes, total_n_edges = network_train.number_of_nodes(), network_train.number_of_edges()\n",
    "total_n_nodes, total_n_edges"
   ]
  },
  {
   "cell_type": "markdown",
   "metadata": {},
   "source": [
    "## Creating the test network"
   ]
  },
  {
   "cell_type": "code",
   "execution_count": 14,
   "metadata": {},
   "outputs": [],
   "source": [
    "network_test = nx.Graph()\n",
    "network_test.add_nodes_from(network_train.nodes)"
   ]
  },
  {
   "cell_type": "code",
   "execution_count": 15,
   "metadata": {},
   "outputs": [],
   "source": [
    "train_ratio = 0.01\n",
    "n_links = network_train.number_of_edges()\n",
    "n_links_train = math.ceil(train_ratio * n_links)\n",
    "n_links_test = n_links_train"
   ]
  },
  {
   "cell_type": "code",
   "execution_count": 16,
   "metadata": {},
   "outputs": [
    {
     "output_type": "execute_result",
     "data": {
      "text/plain": [
       "(619437, 6195, 6195)"
      ]
     },
     "metadata": {},
     "execution_count": 16
    }
   ],
   "source": [
    "n_links, n_links_train, n_links_test"
   ]
  },
  {
   "cell_type": "code",
   "execution_count": 17,
   "metadata": {},
   "outputs": [],
   "source": [
    "selected_pos_links_id = np.random.choice(np.arange(n_links), size=n_links_train + n_links_test, replace=False)"
   ]
  },
  {
   "cell_type": "code",
   "execution_count": 18,
   "metadata": {},
   "outputs": [],
   "source": [
    "links = list(network_train.edges)"
   ]
  },
  {
   "cell_type": "code",
   "execution_count": 19,
   "metadata": {},
   "outputs": [],
   "source": [
    "train_links = []\n",
    "for i in range(n_links_train):\n",
    "    train_links.append(links[selected_pos_links_id[i]])\n",
    "\n",
    "test_links = []\n",
    "for i in range(n_links_train, n_links_train + n_links_test):\n",
    "    test_links.append(links[selected_pos_links_id[i]])\n",
    "\n",
    "selected_pos_links_id = None\n",
    "links = None\n",
    "total_adj_triu = scipy.sparse.triu(nx.adj_matrix(network_train, nodes_list), k=1).tocsr()\n",
    "network_train.remove_edges_from(test_links)\n",
    "network_test.add_edges_from(test_links)"
   ]
  },
  {
   "cell_type": "code",
   "execution_count": 20,
   "metadata": {},
   "outputs": [
    {
     "output_type": "execute_result",
     "data": {
      "text/plain": [
       "(613242, 6195, 6195)"
      ]
     },
     "metadata": {},
     "execution_count": 20
    }
   ],
   "source": [
    "network_train.number_of_edges(), network_test.number_of_edges(), len(train_links)"
   ]
  },
  {
   "cell_type": "code",
   "execution_count": 21,
   "metadata": {},
   "outputs": [
    {
     "output_type": "execute_result",
     "data": {
      "text/plain": [
       "(4669, 4669)"
      ]
     },
     "metadata": {},
     "execution_count": 21
    }
   ],
   "source": [
    "network_train.number_of_nodes(), network_test.number_of_nodes()"
   ]
  },
  {
   "cell_type": "markdown",
   "metadata": {},
   "source": [
    "## Sampling negative links"
   ]
  },
  {
   "cell_type": "code",
   "execution_count": 22,
   "metadata": {},
   "outputs": [
    {
     "output_type": "execute_result",
     "data": {
      "text/plain": [
       "(6195, 6195, 6195, 6195)"
      ]
     },
     "metadata": {},
     "execution_count": 22
    }
   ],
   "source": [
    "n_links_train_pos = len(train_links)\n",
    "n_links_test_pos = network_test.number_of_edges()\n",
    "n_links_train_neg = n_links_train_pos\n",
    "n_links_test_neg = n_links_test_pos\n",
    "n_links_train_pos, n_links_test_pos, n_links_train_neg, n_links_test_neg"
   ]
  },
  {
   "cell_type": "code",
   "execution_count": 23,
   "metadata": {},
   "outputs": [],
   "source": [
    "neg_network_train = nx.Graph()\n",
    "neg_network_train.add_nodes_from(network_train.nodes)\n",
    "neg_network_test = nx.Graph()\n",
    "neg_network_test.add_nodes_from(network_train.nodes)"
   ]
  },
  {
   "cell_type": "code",
   "execution_count": 24,
   "metadata": {},
   "outputs": [
    {
     "output_type": "execute_result",
     "data": {
      "text/plain": [
       "[('MESH:D006975', 'P22033'),\n",
       " ('MESH:D006975', 'O75914'),\n",
       " ('MESH:D006975', 'O60356'),\n",
       " ('MESH:D006975', 'Q7Z401'),\n",
       " ('MESH:D006975', 'Q9NYG5'),\n",
       " ('MESH:D006975', 'B7Z5N5'),\n",
       " ('MESH:D006975', 'P84090'),\n",
       " ('MESH:D006975', 'P43251'),\n",
       " ('MESH:D006975', 'A8MV65'),\n",
       " ('MESH:D006975', 'Q9UM47')]"
      ]
     },
     "metadata": {},
     "execution_count": 24
    }
   ],
   "source": [
    "list(network_train.edges)[:10] # All the links in our network are tuples of the form: (disease, gene)"
   ]
  },
  {
   "cell_type": "code",
   "execution_count": 25,
   "metadata": {},
   "outputs": [],
   "source": [
    "def get_neg_links(adj_triu, num_neg_edges, nodes_list, num_genes, num_diseases):\n",
    "\n",
    "    neg_edges = set()\n",
    "    while len(neg_edges) < num_neg_edges:\n",
    "\n",
    "        i, j = random.randint(0, num_genes-1), random.randint(num_genes, num_genes + num_diseases - 1)\n",
    "        if adj_triu[i, j] == 0:\n",
    "            neg_edges.add( (nodes_list[j], nodes_list[i]) )\n",
    "\n",
    "    return list(neg_edges)"
   ]
  },
  {
   "cell_type": "code",
   "execution_count": 26,
   "metadata": {},
   "outputs": [],
   "source": [
    "neg_links = get_neg_links(total_adj_triu, n_links_train_neg + n_links_test_neg, nodes_list, num_genes, num_diseases)\n",
    "total_adj_triu = None\n",
    "nodes_list = None\n",
    "selected_links = []\n",
    "for i in range(n_links_train_neg):\n",
    "    selected_links.append(neg_links[i])\n",
    "neg_network_train.add_edges_from(selected_links)\n",
    "\n",
    "selected_links = []\n",
    "for i in range(n_links_train_neg, n_links_train_neg + n_links_test_neg):\n",
    "    selected_links.append(neg_links[i])\n",
    "neg_links = None\n",
    "neg_network_test.add_edges_from(selected_links)\n",
    "selected_links = None"
   ]
  },
  {
   "cell_type": "code",
   "execution_count": 27,
   "metadata": {},
   "outputs": [
    {
     "output_type": "execute_result",
     "data": {
      "text/plain": [
       "(4669, 4669)"
      ]
     },
     "metadata": {},
     "execution_count": 27
    }
   ],
   "source": [
    "neg_network_train.number_of_nodes(), neg_network_test.number_of_nodes()"
   ]
  },
  {
   "cell_type": "code",
   "execution_count": 28,
   "metadata": {},
   "outputs": [
    {
     "output_type": "execute_result",
     "data": {
      "text/plain": [
       "(6195, 6195)"
      ]
     },
     "metadata": {},
     "execution_count": 28
    }
   ],
   "source": [
    "neg_network_train.number_of_edges(), neg_network_test.number_of_edges()"
   ]
  },
  {
   "cell_type": "markdown",
   "metadata": {},
   "source": [
    "## Grouping training and test links"
   ]
  },
  {
   "cell_type": "code",
   "execution_count": 29,
   "metadata": {},
   "outputs": [
    {
     "output_type": "execute_result",
     "data": {
      "text/plain": [
       "(12390, 12390)"
      ]
     },
     "metadata": {},
     "execution_count": 29
    }
   ],
   "source": [
    "all_links_train = train_links + list(neg_network_train.edges)\n",
    "label_train = [1] * len(train_links) + [0] * len(neg_network_train.edges)\n",
    "neg_network_train = None\n",
    "len(all_links_train), len(label_train)"
   ]
  },
  {
   "cell_type": "code",
   "execution_count": 30,
   "metadata": {},
   "outputs": [
    {
     "output_type": "execute_result",
     "data": {
      "text/plain": [
       "(12390, 12390)"
      ]
     },
     "metadata": {},
     "execution_count": 30
    }
   ],
   "source": [
    "all_links_test = list(network_test.edges) + list(neg_network_test.edges)\n",
    "label_test = [1] * len(network_test.edges) + [0] * len(neg_network_test.edges)\n",
    "network_test = None\n",
    "neg_network_test = None\n",
    "len(all_links_test), len(label_test)"
   ]
  },
  {
   "cell_type": "code",
   "execution_count": 31,
   "metadata": {},
   "outputs": [],
   "source": [
    "y_train, y_test = np.array(label_train), np.array(label_test)\n",
    "label_train = None\n",
    "label_test = None"
   ]
  },
  {
   "cell_type": "markdown",
   "metadata": {},
   "source": [
    "## Extracting enclosing subgraph for each links"
   ]
  },
  {
   "cell_type": "code",
   "execution_count": 32,
   "metadata": {},
   "outputs": [
    {
     "output_type": "execute_result",
     "data": {
      "text/plain": [
       "('MESH:D033461', 'Q12996')"
      ]
     },
     "metadata": {},
     "execution_count": 32
    }
   ],
   "source": [
    "link = all_links_train[12]\n",
    "link"
   ]
  },
  {
   "cell_type": "code",
   "execution_count": 33,
   "metadata": {},
   "outputs": [],
   "source": [
    "fringe = [link]\n",
    "subgraph = nx.Graph()"
   ]
  },
  {
   "cell_type": "code",
   "execution_count": 34,
   "metadata": {},
   "outputs": [],
   "source": [
    "def enclosing_subgraph(fringe, network, subgraph, distance):\n",
    "    neighbor_links = []\n",
    "    for link in fringe:\n",
    "        u = link[0]\n",
    "        v = link[1]\n",
    "        neighbor_links = neighbor_links + list(network.edges(u))\n",
    "        neighbor_links = neighbor_links + list(network.edges(v))\n",
    "    tmp_subgraph = subgraph.copy()\n",
    "    tmp_subgraph.add_edges_from(neighbor_links)\n",
    "    # Remove duplicate and existed edge\n",
    "    neighbor_links = [li for li in tmp_subgraph.edges() if li not in subgraph.edges()]\n",
    "    tmp_subgraph = subgraph.copy()\n",
    "    tmp_subgraph.add_edges_from(neighbor_links, distance=distance, inverse_distance=1/distance)\n",
    "    return neighbor_links, tmp_subgraph"
   ]
  },
  {
   "source": [
    "fringe, subgraph = enclosing_subgraph(fringe, network_train, subgraph, distance=1)\n",
    "#nx.draw(subgraph, with_labels=True)\n",
    "subgraph.number_of_nodes(), subgraph.number_of_edges()"
   ],
   "cell_type": "code",
   "metadata": {},
   "execution_count": 35,
   "outputs": [
    {
     "output_type": "execute_result",
     "data": {
      "text/plain": [
       "(2280, 2279)"
      ]
     },
     "metadata": {},
     "execution_count": 35
    }
   ]
  },
  {
   "cell_type": "code",
   "execution_count": 36,
   "metadata": {},
   "outputs": [],
   "source": [
    "def extract_enclosing_subgraph(link, network, size=10):\n",
    "    fringe = [link]\n",
    "    subgraph = nx.Graph()\n",
    "    distance = 0\n",
    "    subgraph.add_edge(link[0], link[1], distance=distance)\n",
    "    while subgraph.number_of_nodes() < size and len(fringe) > 0:\n",
    "        distance += 1\n",
    "        fringe, subgraph = enclosing_subgraph(fringe, network, subgraph, distance)\n",
    "    \n",
    "    #print(\"End while\")\n",
    "    tmp_subgraph = network.subgraph(subgraph.nodes)\n",
    "    #print(\"Net subgraph obtained\")\n",
    "    additional_edges = [li for li in tmp_subgraph.edges if li not in subgraph.edges]\n",
    "    #print(\"Additional edges obtained\")\n",
    "    subgraph.add_edges_from(additional_edges, distance=distance+1, inverse_distance=1/(distance+1))\n",
    "    #print(\"Subgraph completed\")\n",
    "    return subgraph"
   ]
  },
  {
   "cell_type": "code",
   "execution_count": 37,
   "metadata": {},
   "outputs": [],
   "source": [
    "e_subgraph = extract_enclosing_subgraph(link, network_train)\n",
    "#nx.draw(e_subgraph, with_labels=True)"
   ]
  },
  {
   "cell_type": "code",
   "execution_count": 38,
   "metadata": {},
   "outputs": [
    {
     "output_type": "execute_result",
     "data": {
      "text/plain": [
       "(2280, 331817)"
      ]
     },
     "metadata": {},
     "execution_count": 38
    }
   ],
   "source": [
    "e_subgraph.number_of_nodes(), e_subgraph.number_of_edges()"
   ]
  },
  {
   "cell_type": "code",
   "execution_count": 39,
   "metadata": {},
   "outputs": [
    {
     "output_type": "stream",
     "name": "stdout",
     "text": [
      "2.69 s ± 16.2 ms per loop (mean ± std. dev. of 7 runs, 1 loop each)\n"
     ]
    }
   ],
   "source": [
    "%%timeit\n",
    "extract_enclosing_subgraph(link, network_train)"
   ]
  },
  {
   "cell_type": "markdown",
   "metadata": {},
   "source": [
    "## Subgraph encoding\n",
    "### Palette-WL for vertex ordering"
   ]
  },
  {
   "cell_type": "code",
   "execution_count": 40,
   "metadata": {},
   "outputs": [],
   "source": [
    "def compute_geometric_mean_distance(subgraph, link):\n",
    "    u = link[0]\n",
    "    v = link[1]\n",
    "    subgraph.remove_edge(u, v)\n",
    "    \n",
    "    n_nodes = subgraph.number_of_nodes()\n",
    "    u_reachable = nx.descendants(subgraph, source=u)\n",
    "    v_reachable = nx.descendants(subgraph, source=v)\n",
    "    #print(u_reachable, v_reachable)\n",
    "    for node in subgraph.nodes:\n",
    "        distance_to_u = 0\n",
    "        distance_to_v = 0\n",
    "        if node != u:\n",
    "            distance_to_u = nx.shortest_path_length(subgraph, source=node, target=u) if node in u_reachable else Decimal(2 ** n_nodes)\n",
    "\n",
    "        if node != v:\n",
    "            distance_to_v = nx.shortest_path_length(subgraph, source=node, target=v) if node in v_reachable else Decimal(2 ** n_nodes)\n",
    "        subgraph.nodes[node]['avg_dist'] = math.sqrt(distance_to_u * distance_to_v)\n",
    "    \n",
    "    subgraph.add_edge(u, v, distance=0)\n",
    "    \n",
    "    return subgraph"
   ]
  },
  {
   "cell_type": "code",
   "execution_count": 41,
   "metadata": {},
   "outputs": [],
   "source": [
    "e_subgraph = compute_geometric_mean_distance(e_subgraph, link)"
   ]
  },
  {
   "cell_type": "code",
   "execution_count": 42,
   "metadata": {},
   "outputs": [
    {
     "output_type": "execute_result",
     "data": {
      "text/plain": [
       "96HU1': 1.4142135623730951,\n",
       " 'Q96LI5': 1.4142135623730951,\n",
       " 'O60563': 1.4142135623730951,\n",
       " 'Q15003': 1.4142135623730951,\n",
       " 'P52737': 1.4142135623730951,\n",
       " 'P41273': 1.4142135623730951,\n",
       " 'Q8IZU8': 1.4142135623730951,\n",
       " 'Q15021': 1.4142135623730951,\n",
       " 'Q9C009': 1.4142135623730951,\n",
       " 'A8MQ02': 1.4142135623730951,\n",
       " 'Q8NB50': 1.4142135623730951,\n",
       " 'O15370': 1.4142135623730951,\n",
       " 'Q96AY2': 1.4142135623730951,\n",
       " 'A8MVV6': 1.4142135623730951,\n",
       " 'Q92793': 1.4142135623730951,\n",
       " 'Q15056': 1.4142135623730951,\n",
       " 'O15198': 1.4142135623730951,\n",
       " 'Q9BSK4': 1.4142135623730951,\n",
       " 'P47944': 1.4142135623730951,\n",
       " 'Q9UBP4': 1.4142135623730951,\n",
       " 'Q92466': 1.4142135623730951,\n",
       " 'P43320': 1.4142135623730951,\n",
       " 'P13671': 1.4142135623730951,\n",
       " 'E9PG37': 1.4142135623730951,\n",
       " 'P57740': 1.4142135623730951,\n",
       " 'Q96AB3': 1.4142135623730951,\n",
       " 'O14818': 1.4142135623730951,\n",
       " 'Q13319': 1.4142135623730951,\n",
       " 'Q9UIL8': 1.4142135623730951,\n",
       " 'P13489': 1.4142135623730951,\n",
       " 'A0A0G2JNH5': 1.4142135623730951,\n",
       " 'F8W876': 1.4142135623730951,\n",
       " 'Q9NZ45': 1.4142135623730951,\n",
       " 'Q9NRN5': 1.4142135623730951,\n",
       " 'B3KSI3': 1.4142135623730951,\n",
       " 'P01116': 1.4142135623730951,\n",
       " 'Q96LT7': 1.4142135623730951,\n",
       " 'B1AP13': 1.4142135623730951,\n",
       " 'Q12933': 1.4142135623730951,\n",
       " 'Q8NGQ2': 1.4142135623730951,\n",
       " 'O00567': 1.4142135623730951,\n",
       " 'Q6P161': 1.4142135623730951,\n",
       " 'O75462': 1.4142135623730951,\n",
       " 'Q9GZS3': 1.4142135623730951,\n",
       " 'F8VU51': 1.4142135623730951,\n",
       " 'O43709': 1.4142135623730951,\n",
       " 'Q15306': 1.4142135623730951,\n",
       " 'Q9NZ08': 1.4142135623730951,\n",
       " 'P28074': 1.4142135623730951,\n",
       " 'Q92575': 1.4142135623730951,\n",
       " 'Q96F25': 1.4142135623730951,\n",
       " 'O76071': 1.4142135623730951,\n",
       " 'A0A0C4DFL7': 1.4142135623730951,\n",
       " 'P26439': 1.4142135623730951,\n",
       " 'Q96N87': 1.4142135623730951,\n",
       " 'Q9UI17': 1.4142135623730951,\n",
       " 'O43747': 1.4142135623730951,\n",
       " 'Q9H819': 1.4142135623730951,\n",
       " 'P16591': 1.4142135623730951,\n",
       " 'Q15773': 1.4142135623730951,\n",
       " 'P41134': 1.4142135623730951,\n",
       " 'Q14183': 1.4142135623730951,\n",
       " 'P50749': 1.4142135623730951,\n",
       " 'Q8N8M0': 1.4142135623730951,\n",
       " 'Q9GZU7': 1.4142135623730951,\n",
       " 'P54219': 1.4142135623730951,\n",
       " 'E7ESI2': 1.4142135623730951,\n",
       " 'P32856': 1.4142135623730951,\n",
       " 'O00339': 1.4142135623730951,\n",
       " 'P13073': 1.4142135623730951,\n",
       " 'P04278': 1.4142135623730951,\n",
       " 'Q96S82': 1.4142135623730951,\n",
       " 'Q9HD33': 1.4142135623730951,\n",
       " 'D4Q8H0': 1.4142135623730951,\n",
       " 'Q9UHC7': 1.4142135623730951,\n",
       " 'Q687X5': 1.4142135623730951,\n",
       " 'Q96C03': 1.4142135623730951,\n",
       " 'A6NGB0': 1.4142135623730951,\n",
       " 'P14210': 1.4142135623730951,\n",
       " 'Q96SQ9': 1.4142135623730951,\n",
       " 'Q13616': 1.4142135623730951,\n",
       " 'O00472': 1.4142135623730951,\n",
       " 'P06753': 1.4142135623730951,\n",
       " 'P41250': 1.4142135623730951,\n",
       " 'Q8WW59': 1.4142135623730951,\n",
       " 'O76081': 1.4142135623730951,\n",
       " 'P51570': 1.4142135623730951,\n",
       " 'P58005': 1.4142135623730951,\n",
       " 'P43116': 1.4142135623730951,\n",
       " 'Q6IA69': 1.4142135623730951,\n",
       " 'Q96A32': 1.4142135623730951,\n",
       " 'Q13015': 1.4142135623730951,\n",
       " 'P33947': 1.4142135623730951,\n",
       " 'Q92796': 1.4142135623730951,\n",
       " 'Q7LFX5': 1.4142135623730951,\n",
       " 'O94979': 1.4142135623730951,\n",
       " 'P63267': 1.4142135623730951,\n",
       " 'Q8NHW3': 1.4142135623730951,\n",
       " 'P49902': 1.4142135623730951,\n",
       " 'Q6PGN9': 1.4142135623730951,\n",
       " 'Q15546': 1.4142135623730951,\n",
       " 'A8MUP8': 1.4142135623730951,\n",
       " 'Q9UI15': 1.4142135623730951,\n",
       " 'Q04760': 1.4142135623730951,\n",
       " 'Q9C0A1': 1.4142135623730951,\n",
       " 'Q6UX71': 1.4142135623730951,\n",
       " 'Q9Y519': 1.4142135623730951,\n",
       " 'O15127': 1.4142135623730951,\n",
       " 'Q8N6M0': 1.4142135623730951,\n",
       " 'Q13873': 1.4142135623730951,\n",
       " 'Q9H015': 1.4142135623730951,\n",
       " 'O60256': 1.4142135623730951,\n",
       " 'Q9BUN5': 1.4142135623730951,\n",
       " 'Q3YBR2': 1.4142135623730951,\n",
       " 'A0A087X0I6': 1.4142135623730951,\n",
       " 'O95936': 1.4142135623730951,\n",
       " 'Q9Y3C6': 1.4142135623730951,\n",
       " 'P33402': 1.4142135623730951,\n",
       " 'Q969G5': 1.4142135623730951,\n",
       " 'Q12857': 1.4142135623730951,\n",
       " 'O75534': 1.4142135623730951,\n",
       " 'Q8IWT6': 1.4142135623730951,\n",
       " 'P07910': 1.4142135623730951,\n",
       " 'Q7Z2K8': 1.4142135623730951,\n",
       " 'Q96DN0': 1.4142135623730951,\n",
       " 'P29590': 1.4142135623730951,\n",
       " 'P68371': 1.4142135623730951,\n",
       " 'A0A0D9SFF0': 1.4142135623730951,\n",
       " 'P07437': 1.4142135623730951,\n",
       " 'A0A087X004': 1.4142135623730951,\n",
       " 'Q02763': 1.4142135623730951,\n",
       " 'Q8N543': 1.4142135623730951,\n",
       " 'Q96L50': 1.4142135623730951,\n",
       " 'P58549': 1.4142135623730951,\n",
       " 'Q6P444': 1.4142135623730951,\n",
       " 'Q9GZX3': 1.4142135623730951,\n",
       " 'O14908': 1.4142135623730951,\n",
       " 'E9PCR7': 1.4142135623730951,\n",
       " 'Q9P2U7': 1.4142135623730951,\n",
       " 'P13866': 1.4142135623730951,\n",
       " 'Q8WUM0': 1.4142135623730951,\n",
       " 'P01562': 1.4142135623730951,\n",
       " 'A0A0U1RRJ0': 1.4142135623730951,\n",
       " 'O95685': 1.4142135623730951,\n",
       " 'Q6L8G5': 1.4142135623730951,\n",
       " 'F8VQP2': 1.4142135623730951,\n",
       " 'Q99442': 1.4142135623730951,\n",
       " 'Q9UHA3': 1.4142135623730951,\n",
       " 'P30086': 1.4142135623730951,\n",
       " 'P49748': 1.4142135623730951,\n",
       " 'Q96AQ2': 1.4142135623730951,\n",
       " 'Q13177': 1.4142135623730951,\n",
       " 'P48059': 1.4142135623730951,\n",
       " 'Q5TGY3': 1.4142135623730951,\n",
       " 'Q9H2L5': 1.4142135623730951,\n",
       " 'P41143': 1.4142135623730951,\n",
       " 'O95477': 1.4142135623730951,\n",
       " 'P09105': 1.4142135623730951,\n",
       " 'Q8N9I9': 1.4142135623730951,\n",
       " 'Q14669': 1.4142135623730951,\n",
       " 'P29536': 1.4142135623730951,\n",
       " 'A3QJZ6': 1.4142135623730951,\n",
       " 'Q96LL3': 1.4142135623730951,\n",
       " 'Q16612': 1.4142135623730951,\n",
       " 'Q99062': 1.4142135623730951,\n",
       " 'O14972': 1.4142135623730951,\n",
       " 'Q9UC07': 1.4142135623730951,\n",
       " 'Q9Y2I7': 1.4142135623730951,\n",
       " 'A0A0A0MQT0': 1.4142135623730951,\n",
       " 'Q9ULP9': 1.4142135623730951,\n",
       " 'Q9Y4I1': 1.4142135623730951,\n",
       " 'Q06278': 1.4142135623730951,\n",
       " 'Q92598': 1.4142135623730951,\n",
       " 'P46091': 1.4142135623730951,\n",
       " 'P15336': 1.4142135623730951,\n",
       " 'Q96RT8': 1.4142135623730951,\n",
       " 'Q99527': 1.4142135623730951,\n",
       " 'F6VUX8': 1.4142135623730951,\n",
       " 'Q9UK41': 1.4142135623730951,\n",
       " 'P19971': 1.4142135623730951,\n",
       " 'Q9BYJ1': 1.4142135623730951,\n",
       " 'P26373': 1.4142135623730951,\n",
       " 'Q9BZ67': 1.4142135623730951,\n",
       " 'Q9H8E8': 1.4142135623730951,\n",
       " 'O43187': 1.4142135623730951,\n",
       " 'Q9UDX4': 1.4142135623730951,\n",
       " 'P35080': 1.4142135623730951,\n",
       " 'P02549': 1.4142135623730951,\n",
       " 'P54619': 1.4142135623730951,\n",
       " 'Q15166': 1.4142135623730951,\n",
       " 'P32320': 1.4142135623730951,\n",
       " 'Q12968': 1.4142135623730951,\n",
       " 'P08758': 1.4142135623730951,\n",
       " 'Q7Z570': 1.4142135623730951,\n",
       " 'A0A087X251': 1.4142135623730951,\n",
       " 'Q96NL6': 1.4142135623730951,\n",
       " 'P12429': 1.4142135623730951,\n",
       " 'O15296': 1.4142135623730951,\n",
       " 'Q9NZJ4': 1.4142135623730951,\n",
       " 'P48775': 1.4142135623730951,\n",
       " 'Q8TE96': 1.4142135623730951,\n",
       " 'Q9Y2L1': 1.4142135623730951,\n",
       " 'Q00013': 1.4142135623730951,\n",
       " 'Q9UK05': 1.4142135623730951,\n",
       " 'A0A087WVY6': 1.4142135623730951,\n",
       " 'Q05932': 1.4142135623730951,\n",
       " 'Q14CZ7': 1.4142135623730951,\n",
       " 'Q9NW75': 1.4142135623730951,\n",
       " 'Q8WWK9': 1.4142135623730951,\n",
       " 'Q04771': 1.4142135623730951,\n",
       " 'Q14289': 1.4142135623730951,\n",
       " 'Q96BY9': 1.4142135623730951,\n",
       " 'Q6ZPD9': 1.4142135623730951,\n",
       " 'B4DPR9': 1.4142135623730951,\n",
       " 'Q9BQ69': 1.4142135623730951,\n",
       " 'E9PHF7': 1.4142135623730951,\n",
       " 'O94868': 1.4142135623730951,\n",
       " 'P18433': 1.4142135623730951,\n",
       " 'Q9UGI0': 1.4142135623730951,\n",
       " 'K7EJR9': 1.4142135623730951,\n",
       " 'P32929': 1.4142135623730951,\n",
       " 'Q9UK97': 1.4142135623730951,\n",
       " 'C9JPL0': 1.4142135623730951,\n",
       " 'O43791': 1.4142135623730951,\n",
       " 'B1AKZ5': 1.4142135623730951,\n",
       " 'Q86XK3': 1.4142135623730951,\n",
       " 'Q9P0S3': 1.4142135623730951,\n",
       " 'Q8IYW5': 1.4142135623730951,\n",
       " 'Q56NI9': 1.4142135623730951,\n",
       " 'P58004': 1.4142135623730951,\n",
       " 'Q09019': 1.4142135623730951,\n",
       " 'Q6P3X3': 1.4142135623730951,\n",
       " 'P30038': 1.4142135623730951,\n",
       " 'F5H4S8': 1.4142135623730951,\n",
       " 'P30279': 1.4142135623730951,\n",
       " 'Q9NRA8': 1.4142135623730951,\n",
       " 'P30039': 1.4142135623730951,\n",
       " 'P55056': 1.4142135623730951,\n",
       " 'O75460': 1.4142135623730951,\n",
       " 'Q8TBH0': 1.4142135623730951,\n",
       " 'F5GYI5': 1.4142135623730951,\n",
       " 'O00221': 1.4142135623730951,\n",
       " 'Q9Y272': 1.4142135623730951,\n",
       " 'P28907': 1.4142135623730951,\n",
       " 'O60683': 1.4142135623730951,\n",
       " 'Q9Y587': 1.4142135623730951,\n",
       " 'Q16775': 1.4142135623730951,\n",
       " 'Q9Y4F5': 1.4142135623730951,\n",
       " 'Q9BXB4': 1.4142135623730951,\n",
       " 'M0R0A9': 1.4142135623730951,\n",
       " 'A8MTJ3': 1.4142135623730951,\n",
       " 'P50613': 1.4142135623730951,\n",
       " 'Q96RG2': 1.4142135623730951,\n",
       " 'Q9BRR8': 1.4142135623730951,\n",
       " 'Q9H832': 1.4142135623730951,\n",
       " 'Q9UMS0': 1.4142135623730951,\n",
       " 'Q86YN6': 1.4142135623730951,\n",
       " 'O95833': 1.4142135623730951,\n",
       " 'Q7Z398': 1.4142135623730951,\n",
       " 'Q7RTV3': 1.4142135623730951,\n",
       " 'A0A0G2JM26': 1.4142135623730951,\n",
       " 'Q9H999': 1.4142135623730951,\n",
       " 'Q86TJ5': 1.4142135623730951,\n",
       " 'Q8NGC0': 1.4142135623730951,\n",
       " 'Q9Y5S9': 1.4142135623730951,\n",
       " 'O75603': 1.4142135623730951,\n",
       " 'Q9UJA2': 1.4142135623730951,\n",
       " 'A0A087X1W9': 1.4142135623730951,\n",
       " 'Q13151': 1.4142135623730951,\n",
       " 'Q9UGJ0': 1.4142135623730951,\n",
       " 'Q53GI3': 1.4142135623730951,\n",
       " 'F6XY72': 1.4142135623730951,\n",
       " 'E5RIK9': 1.4142135623730951,\n",
       " 'Q969H8': 1.4142135623730951,\n",
       " 'P61247': 1.4142135623730951,\n",
       " 'P46063': 1.4142135623730951,\n",
       " 'Q9UPR0': 1.4142135623730951,\n",
       " 'P52758': 1.4142135623730951,\n",
       " 'P19256': 1.4142135623730951,\n",
       " 'P55001': 1.4142135623730951,\n",
       " 'Q9Y6R1': 1.4142135623730951,\n",
       " 'P13598': 1.4142135623730951,\n",
       " 'O60524': 1.4142135623730951,\n",
       " 'O94806': 1.4142135623730951,\n",
       " 'O43581': 1.4142135623730951,\n",
       " 'Q9UDW3': 1.4142135623730951,\n",
       " 'Q8WVM0': 1.4142135623730951,\n",
       " 'Q5VZ19': 1.4142135623730951,\n",
       " 'Q9BRK0': 1.4142135623730951,\n",
       " 'Q9NYG5': 1.4142135623730951,\n",
       " 'O95470': 1.4142135623730951,\n",
       " 'Q13111': 1.4142135623730951,\n",
       " 'Q9H7F0': 1.4142135623730951,\n",
       " 'Q969Q1': 1.4142135623730951,\n",
       " 'Q96GQ7': 1.4142135623730951,\n",
       " 'Q9H8M1': 1.4142135623730951,\n",
       " 'P60981': 1.4142135623730951,\n",
       " 'Q8NEM1': 1.4142135623730951,\n",
       " 'P51790': 1.4142135623730951,\n",
       " 'O00264': 1.4142135623730951,\n",
       " 'P46776': 1.4142135623730951,\n",
       " 'O00175': 1.4142135623730951,\n",
       " 'B7ZLG1': 1.4142135623730951,\n",
       " 'O15273': 1.4142135623730951,\n",
       " 'Q8WW38': 1.4142135623730951,\n",
       " 'Q9UDY6': 1.4142135623730951,\n",
       " 'P51795': 1.4142135623730951,\n",
       " 'Q96DA6': 1.4142135623730951,\n",
       " 'Q0VGL1': 1.4142135623730951,\n",
       " 'P04233': 1.4142135623730951,\n",
       " 'P01579': 1.4142135623730951,\n",
       " 'F5GWT4': 1.4142135623730951,\n",
       " 'Q13324': 1.4142135623730951,\n",
       " 'J3KNW4': 1.4142135623730951,\n",
       " 'Q8IVU3': 1.4142135623730951,\n",
       " 'Q8NAT1': 1.4142135623730951,\n",
       " 'Q8TB73': 1.4142135623730951,\n",
       " 'Q99684': 1.4142135623730951,\n",
       " 'P07510': 1.4142135623730951,\n",
       " 'P04183': 1.4142135623730951,\n",
       " 'Q5JVL4': 1.4142135623730951,\n",
       " 'Q96LW7': 1.4142135623730951,\n",
       " 'P48547': 1.4142135623730951,\n",
       " 'A0A087X0L2': 1.4142135623730951,\n",
       " 'J3KPQ0': 1.4142135623730951,\n",
       " 'B1ALF6': 1.4142135623730951,\n",
       " 'P52789': 1.4142135623730951,\n",
       " 'A0A0A0MTJ9': 1.4142135623730951,\n",
       " 'P21728': 1.4142135623730951,\n",
       " 'P12643': 1.4142135623730951,\n",
       " 'Q9Y3X0': 1.4142135623730951,\n",
       " 'Q9P0W5': 1.4142135623730951,\n",
       " 'O00458': 1.4142135623730951,\n",
       " 'Q9HBF4': 1.4142135623730951,\n",
       " 'A0A0C4DGP0': 1.4142135623730951,\n",
       " 'P11274': 1.4142135623730951,\n",
       " 'Q6PI78': 1.4142135623730951,\n",
       " 'O94855': 1.4142135623730951,\n",
       " 'Q9ULD0': 1.4142135623730951,\n",
       " 'Q14CS0': 1.4142135623730951,\n",
       " 'Q9ULV4': 1.4142135623730951,\n",
       " 'Q8IYS1': 1.4142135623730951,\n",
       " 'Q14764': 1.4142135623730951,\n",
       " 'P08833': 1.4142135623730951,\n",
       " 'Q56VL3': 1.4142135623730951,\n",
       " 'A0A0A0MSX3': 1.4142135623730951,\n",
       " 'Q5T5B0': 1.4142135623730951,\n",
       " 'P01130': 1.4142135623730951,\n",
       " 'Q9BVP2': 1.4142135623730951,\n",
       " 'Q9BXJ7': 1.4142135623730951,\n",
       " 'B4DZG7': 1.4142135623730951,\n",
       " 'P82663': 1.4142135623730951,\n",
       " 'Q9H9Y6': 1.4142135623730951,\n",
       " 'Q6QHF9': 1.4142135623730951,\n",
       " 'F8W8D4': 1.4142135623730951,\n",
       " 'Q9Y388': 1.4142135623730951,\n",
       " 'P10301': 1.4142135623730951,\n",
       " 'Q6ZSZ5': 1.4142135623730951,\n",
       " 'O96017': 1.4142135623730951,\n",
       " 'O15173': 1.4142135623730951,\n",
       " 'B1ALM5': 1.4142135623730951,\n",
       " 'Q6IBS0': 1.4142135623730951,\n",
       " 'P21912': 1.4142135623730951,\n",
       " 'Q15906': 1.4142135623730951,\n",
       " 'Q9UIS9': 1.4142135623730951,\n",
       " 'Q5TA79': 1.4142135623730951,\n",
       " 'Q8TAD4': 1.4142135623730951,\n",
       " 'O95393': 1.4142135623730951,\n",
       " 'P04114': 1.4142135623730951,\n",
       " 'P61962': 1.4142135623730951,\n",
       " 'P31269': 1.4142135623730951,\n",
       " 'Q8N614': 1.4142135623730951,\n",
       " 'O14763': 1.4142135623730951,\n",
       " 'Q9BZW7': 1.4142135623730951,\n",
       " 'Q49B96': 1.4142135623730951,\n",
       " 'Q9HB89': 1.4142135623730951,\n",
       " 'K7EME3': 1.4142135623730951,\n",
       " 'P49184': 1.4142135623730951,\n",
       " 'O75190': 1.4142135623730951,\n",
       " 'Q13562': 1.4142135623730951,\n",
       " 'O43731': 1.4142135623730951,\n",
       " 'Q9H3T3': 1.4142135623730951,\n",
       " 'Q1PHJ8': 1.4142135623730951,\n",
       " 'P27169': 1.4142135623730951,\n",
       " 'P67936': 1.4142135623730951,\n",
       " 'P50150': 1.4142135623730951,\n",
       " 'P48509': 1.4142135623730951,\n",
       " 'O75489': 1.4142135623730951,\n",
       " 'O75438': 1.4142135623730951,\n",
       " 'O14931': 1.4142135623730951,\n",
       " 'A0AUZ9': 1.4142135623730951,\n",
       " 'D6R992': 1.4142135623730951,\n",
       " 'Q86UP8': 1.4142135623730951,\n",
       " 'P29692': 1.4142135623730951,\n",
       " 'O94967': 1.4142135623730951,\n",
       " 'P30405': 1.4142135623730951,\n",
       " 'A0A087WW23': 1.4142135623730951,\n",
       " 'Q92636': 1.4142135623730951,\n",
       " 'Q9Y597': 1.4142135623730951,\n",
       " 'P22102': 1.4142135623730951,\n",
       " 'P17858': 1.4142135623730951,\n",
       " 'A0A0G2JNY3': 1.4142135623730951,\n",
       " 'Q8TEX9': 1.4142135623730951,\n",
       " 'P08686': 1.4142135623730951,\n",
       " 'Q9C091': 1.4142135623730951,\n",
       " 'P56202': 1.4142135623730951,\n",
       " 'Q96PQ7': 1.4142135623730951,\n",
       " 'Q9H201': 1.4142135623730951,\n",
       " 'E9PLN6': 1.4142135623730951,\n",
       " 'O43292': 1.4142135623730951,\n",
       " 'Q15836': 1.4142135623730951,\n",
       " 'P52799': 1.4142135623730951,\n",
       " 'E9PD53': 1.4142135623730951,\n",
       " 'P27658': 1.4142135623730951,\n",
       " 'Q9UEY8': 1.4142135623730951,\n",
       " 'Q9H788': 1.4142135623730951,\n",
       " 'Q8N2W9': 1.4142135623730951,\n",
       " 'O43299': 1.4142135623730951,\n",
       " 'P20396': 1.4142135623730951,\n",
       " 'P51884': 1.4142135623730951,\n",
       " 'P49643': 1.4142135623730951,\n",
       " 'B2R4S9': 1.4142135623730951,\n",
       " 'P42702': 1.4142135623730951,\n",
       " 'Q9UHF4': 1.4142135623730951,\n",
       " 'Q9NPF0': 1.4142135623730951,\n",
       " 'Q71QC5': 1.4142135623730951,\n",
       " 'M9RSF4': 1.4142135623730951,\n",
       " 'A0A087WUM5': 1.4142135623730951,\n",
       " 'O60603': 1.4142135623730951,\n",
       " 'P58872': 1.4142135623730951,\n",
       " 'Q9NZC3': 1.4142135623730951,\n",
       " 'P53384': 1.4142135623730951,\n",
       " 'Q3MIP1': 1.4142135623730951,\n",
       " 'P56278': 1.4142135623730951,\n",
       " 'P40426': 1.4142135623730951,\n",
       " 'Q0D2J5': 1.4142135623730951,\n",
       " 'Q9H0A8': 1.4142135623730951,\n",
       " 'O75473': 1.4142135623730951,\n",
       " 'Q8IYT1': 1.4142135623730951,\n",
       " 'Q15059': 1.4142135623730951,\n",
       " 'J3QKX5': 1.4142135623730951,\n",
       " 'P35218': 1.4142135623730951,\n",
       " 'Q9NP78': 1.4142135623730951,\n",
       " 'Q9BZR6': 1.4142135623730951,\n",
       " 'P49842': 1.4142135623730951,\n",
       " 'Q8N2E2': 1.4142135623730951,\n",
       " 'Q7Z4H8': 1.4142135623730951,\n",
       " 'Q9BYD5': 1.4142135623730951,\n",
       " 'O00471': 1.4142135623730951,\n",
       " 'Q6IA86': 1.4142135623730951,\n",
       " 'Q96BM0': 1.4142135623730951,\n",
       " 'P42695': 1.4142135623730951,\n",
       " 'Q92843': 1.4142135623730951,\n",
       " 'P46087': 1.4142135623730951,\n",
       " 'P62736': 1.4142135623730951,\n",
       " 'Q6UXG3': 1.4142135623730951,\n",
       " 'Q674R7': 1.4142135623730951,\n",
       " 'O95455': 1.4142135623730951,\n",
       " 'Q86YS6': 1.4142135623730951,\n",
       " 'Q9NZ81': 1.4142135623730951,\n",
       " 'Q8N5M4': 1.4142135623730951,\n",
       " 'Q5TCQ9': 1.4142135623730951,\n",
       " 'B7Z2B6': 1.4142135623730951,\n",
       " 'C9J1J0': 1.4142135623730951,\n",
       " 'P26885': 1.4142135623730951,\n",
       " 'Q96GV9': 1.4142135623730951,\n",
       " 'Q9UJP4': 1.4142135623730951,\n",
       " 'A0A0G2JN84': 1.4142135623730951,\n",
       " 'O94777': 1.4142135623730951,\n",
       " 'A9Z1W8': 1.4142135623730951,\n",
       " 'O94842': 1.4142135623730951,\n",
       " 'Q96SL4': 1.4142135623730951,\n",
       " 'P51810': 1.4142135623730951,\n",
       " 'Q9NVH0': 1.4142135623730951,\n",
       " 'A4FU01': 1.4142135623730951,\n",
       " 'O14966': 1.4142135623730951,\n",
       " 'Q86YA3': 1.4142135623730951,\n",
       " 'Q6QNY1': 1.4142135623730951,\n",
       " 'Q8WUB8': 1.4142135623730951,\n",
       " 'Q86Z14': 1.4142135623730951,\n",
       " 'Q9Y5Y4': 1.4142135623730951,\n",
       " 'Q15654': 1.4142135623730951,\n",
       " 'Q92786': 1.4142135623730951,\n",
       " 'P62079': 1.4142135623730951,\n",
       " 'Q9UBK2': 1.4142135623730951,\n",
       " 'E9PCY7': 1.4142135623730951,\n",
       " 'Q96RQ1': 1.4142135623730951,\n",
       " 'O14523': 1.4142135623730951,\n",
       " 'Q9BW91': 1.4142135623730951,\n",
       " 'O94898': 1.4142135623730951,\n",
       " 'P55957': 1.4142135623730951,\n",
       " 'Q8IWB7': 1.4142135623730951,\n",
       " 'Q9NP90': 1.4142135623730951,\n",
       " 'Q96CN5': 1.4142135623730951,\n",
       " 'Q6BDS2': 1.4142135623730951,\n",
       " 'O95563': 1.4142135623730951,\n",
       " 'Q7Z3H0': 1.4142135623730951,\n",
       " 'Q13093': 1.4142135623730951,\n",
       " 'Q8N130': 1.4142135623730951,\n",
       " 'A0A087WVM4': 1.4142135623730951,\n",
       " 'Q8IX03': 1.4142135623730951,\n",
       " 'Q9UL15': 1.4142135623730951,\n",
       " 'P16403': 1.4142135623730951,\n",
       " 'Q8N428': 1.4142135623730951,\n",
       " 'P56730': 1.4142135623730951,\n",
       " 'Q9BXU8': 1.4142135623730951,\n",
       " 'Q9H6Y2': 1.4142135623730951,\n",
       " 'Q9BXS6': 1.4142135623730951,\n",
       " 'P27986': 1.4142135623730951,\n",
       " 'Q8TCD6': 1.4142135623730951,\n",
       " 'M0R2B7': 1.4142135623730951,\n",
       " 'Q9BV20': 1.4142135623730951,\n",
       " 'P67775': 1.4142135623730951,\n",
       " 'Q5TA50': 1.4142135623730951,\n",
       " 'Q8TAT2': 1.4142135623730951,\n",
       " 'Q8N573': 1.4142135623730951,\n",
       " 'O00459': 1.4142135623730951,\n",
       " 'O15111': 1.4142135623730951,\n",
       " 'Q86Z02': 1.4142135623730951,\n",
       " 'Q969X0': 1.4142135623730951,\n",
       " 'Q8IWA0': 1.4142135623730951,\n",
       " 'Q9Y2U5': 1.4142135623730951,\n",
       " 'I3L2M9': 1.4142135623730951,\n",
       " 'Q9UG22': 1.4142135623730951,\n",
       " 'A0A0G2JHL1': 1.4142135623730951,\n",
       " 'Q9Y421': 1.4142135623730951,\n",
       " 'Q709F0': 1.4142135623730951,\n",
       " 'Q96H22': 1.4142135623730951,\n",
       " 'Q02790': 1.4142135623730951,\n",
       " 'P22692': 1.4142135623730951,\n",
       " 'Q7L592': 1.4142135623730951,\n",
       " 'Q8IUF8': 1.4142135623730951,\n",
       " 'Q15628': 1.4142135623730951,\n",
       " 'Q9H1Z4': 1.4142135623730951,\n",
       " 'Q9ULM3': 1.4142135623730951,\n",
       " 'Q9Y5K8': 1.4142135623730951,\n",
       " 'Q99542': 1.4142135623730951,\n",
       " 'P40121': 1.4142135623730951,\n",
       " 'C9J7S5': 1.4142135623730951,\n",
       " 'Q9NZ32': 1.4142135623730951,\n",
       " 'Q8N8V4': 1.4142135623730951,\n",
       " 'Q9NRR6': 1.4142135623730951,\n",
       " 'P36894': 1.4142135623730951,\n",
       " 'Q8N141': 1.4142135623730951,\n",
       " 'Q96RE7': 1.4142135623730951,\n",
       " 'O75581': 1.4142135623730951,\n",
       " 'Q12893': 1.4142135623730951,\n",
       " 'B4DY09': 1.4142135623730951,\n",
       " 'C9JY04': 1.4142135623730951,\n",
       " 'Q8NDL9': 1.4142135623730951,\n",
       " 'O43819': 1.4142135623730951,\n",
       " 'Q6NSJ5': 1.4142135623730951,\n",
       " 'Q5T7W0': 1.4142135623730951,\n",
       " 'Q9UQ84': 1.4142135623730951,\n",
       " 'Q9Y468': 1.4142135623730951,\n",
       " 'Q96L93': 1.4142135623730951,\n",
       " 'O14669': 1.4142135623730951,\n",
       " 'Q9UI08': 1.4142135623730951,\n",
       " 'Q9UK39': 1.4142135623730951,\n",
       " 'M0QXB4': 1.4142135623730951,\n",
       " 'Q8TB40': 1.4142135623730951,\n",
       " 'Q6ZNB6': 1.4142135623730951,\n",
       " 'P42772': 1.4142135623730951,\n",
       " 'Q15650': 1.4142135623730951,\n",
       " 'Q9UKJ0': 1.4142135623730951,\n",
       " 'Q15019': 1.4142135623730951,\n",
       " 'Q9BZQ8': 1.4142135623730951,\n",
       " 'Q9NX52': 1.4142135623730951,\n",
       " 'H7BXQ8': 1.4142135623730951,\n",
       " 'O60239': 1.4142135623730951,\n",
       " 'Q9Y240': 1.4142135623730951,\n",
       " 'Q9NRY7': 1.4142135623730951,\n",
       " 'O75170': 1.4142135623730951,\n",
       " 'O15264': 1.4142135623730951,\n",
       " 'Q5JTY5': 1.4142135623730951,\n",
       " 'Q9H9V9': 1.4142135623730951,\n",
       " 'A0A0A0MRF5': 1.4142135623730951,\n",
       " 'O15528': 1.4142135623730951,\n",
       " 'P28347': 1.4142135623730951,\n",
       " 'Q86UT5': 1.4142135623730951,\n",
       " 'E9PKU7': 1.4142135623730951,\n",
       " 'Q86VV8': 1.4142135623730951,\n",
       " 'A0A087X1W2': 1.4142135623730951,\n",
       " 'Q9P2D6': 1.4142135623730951,\n",
       " 'Q92820': 1.4142135623730951,\n",
       " 'Q9UL25': 1.4142135623730951,\n",
       " 'Q14019': 1.4142135623730951,\n",
       " 'Q14332': 1.4142135623730951,\n",
       " 'Q9H0R6': 1.4142135623730951,\n",
       " 'Q6PHW0': 1.4142135623730951,\n",
       " 'Q14152': 1.4142135623730951,\n",
       " 'Q9HAY2': 1.4142135623730951,\n",
       " 'Q9NX62': 1.4142135623730951,\n",
       " 'B7ZLW4': 1.4142135623730951,\n",
       " 'A4D1E9': 1.4142135623730951,\n",
       " 'Q96KR4': 1.4142135623730951,\n",
       " 'Q9UH17': 1.4142135623730951,\n",
       " 'P22413': 1.4142135623730951,\n",
       " 'Q9HCU8': 1.4142135623730951,\n",
       " 'O00750': 1.4142135623730951,\n",
       " 'Q9BWT7': 1.4142135623730951,\n",
       " 'Q6IEU7': 1.4142135623730951,\n",
       " 'O60494': 1.4142135623730951,\n",
       " 'Q16739': 1.4142135623730951,\n",
       " 'Q96HT8': 1.4142135623730951,\n",
       " 'O75348': 1.4142135623730951,\n",
       " 'Q9Y5W9': 1.4142135623730951,\n",
       " 'A0A096LNH7': 1.4142135623730951,\n",
       " 'Q30KP8': 1.4142135623730951,\n",
       " 'Q8N6G5': 1.4142135623730951,\n",
       " 'Q96GG9': 1.4142135623730951,\n",
       " 'P60014': 1.4142135623730951,\n",
       " 'Q14690': 1.4142135623730951,\n",
       " 'D6RHG7': 1.4142135623730951,\n",
       " 'O00300': 1.4142135623730951,\n",
       " 'Q96GC9': 1.4142135623730951,\n",
       " 'Q8IUC4': 1.4142135623730951,\n",
       " 'A8MV65': 1.4142135623730951,\n",
       " 'Q5T5C0': 1.4142135623730951,\n",
       " 'Q8TE04': 1.4142135623730951,\n",
       " 'Q99757': 1.4142135623730951,\n",
       " 'P18510': 1.4142135623730951,\n",
       " 'P57768': 1.4142135623730951,\n",
       " 'P35579': 1.4142135623730951,\n",
       " 'O95487': 1.4142135623730951,\n",
       " 'O75940': 1.4142135623730951,\n",
       " 'Q9UGJ1': 1.4142135623730951,\n",
       " 'G5EA06': 1.4142135623730951,\n",
       " 'Q5VYS8': 1.4142135623730951,\n",
       " 'Q8TCG1': 1.4142135623730951,\n",
       " 'Q5TCX8': 1.4142135623730951,\n",
       " 'Q9UK76': 1.4142135623730951,\n",
       " 'P19801': 1.4142135623730951,\n",
       " 'P50416': 1.4142135623730951,\n",
       " 'Q86VF5': 1.4142135623730951,\n",
       " 'Q9P016': 1.4142135623730951,\n",
       " 'K7ERG9': 1.4142135623730951,\n",
       " 'Q14694': 1.4142135623730951,\n",
       " 'Q9BWW9': 1.4142135623730951,\n",
       " 'Q96D03': 1.4142135623730951,\n",
       " 'Q99633': 1.4142135623730951,\n",
       " 'Q8TAQ5': 1.4142135623730951,\n",
       " ...}"
      ]
     },
     "metadata": {},
     "execution_count": 42
    }
   ],
   "source": [
    "avg_dist = nx.get_node_attributes(e_subgraph, 'avg_dist')\n",
    "avg_dist"
   ]
  },
  {
   "cell_type": "code",
   "execution_count": 43,
   "metadata": {},
   "outputs": [
    {
     "output_type": "execute_result",
     "data": {
      "text/plain": [
       "{0.0, 1.4142135623730951}"
      ]
     },
     "metadata": {},
     "execution_count": 43
    }
   ],
   "source": [
    "set(avg_dist.values()) # The dataset is extremely connected"
   ]
  },
  {
   "cell_type": "code",
   "execution_count": 44,
   "metadata": {},
   "outputs": [],
   "source": [
    "def prime(x):\n",
    "    if x < 2:\n",
    "        return False\n",
    "    if x == 2 or x == 3:\n",
    "        return True\n",
    "    for i in range(2, x):\n",
    "        if x % i == 0:\n",
    "            return False\n",
    "    return True"
   ]
  },
  {
   "cell_type": "code",
   "execution_count": 45,
   "metadata": {},
   "outputs": [],
   "source": [
    "prime_numbers = np.array([i for i in range(100000) if prime(i)], dtype=np.int)"
   ]
  },
  {
   "cell_type": "code",
   "execution_count": 46,
   "metadata": {},
   "outputs": [
    {
     "output_type": "execute_result",
     "data": {
      "text/plain": [
       "(9592,)"
      ]
     },
     "metadata": {},
     "execution_count": 46
    }
   ],
   "source": [
    "prime_numbers.shape"
   ]
  },
  {
   "cell_type": "code",
   "execution_count": 47,
   "metadata": {},
   "outputs": [],
   "source": [
    "def palette_wl(subgraph, link):\n",
    "    tmp_subgraph = subgraph.copy()\n",
    "    if tmp_subgraph.has_edge(link[0], link[1]):\n",
    "        tmp_subgraph.remove_edge(link[0], link[1])\n",
    "    avg_dist = nx.get_node_attributes(tmp_subgraph, 'avg_dist')\n",
    "    \n",
    "    df = pd.DataFrame.from_dict(avg_dist, orient='index', columns=['hash_value'])\n",
    "    df = df.sort_index()\n",
    "    df['order'] = df['hash_value'].rank(axis=0, method='min').astype(np.int)\n",
    "    df['previous_order'] = np.zeros(df.shape[0], dtype=np.int)\n",
    "    adj_matrix = nx.adj_matrix(tmp_subgraph, nodelist=sorted(tmp_subgraph.nodes)).todense()\n",
    "    while any(df.order != df.previous_order):\n",
    "        df['log_prime'] = np.log(prime_numbers[df['order'].values])\n",
    "        total_log_primes = np.ceil(np.sum(df.log_prime.values))\n",
    "        df['hash_value'] = adj_matrix * df.log_prime.values.reshape(-1, 1) / total_log_primes + df.order.values.reshape(-1, 1)\n",
    "        df.previous_order = df.order\n",
    "        df.order = df.hash_value.rank(axis=0, method='min').astype(np.int)\n",
    "    nodelist = df.order.sort_values().index.values\n",
    "    return nodelist"
   ]
  },
  {
   "cell_type": "code",
   "execution_count": 48,
   "metadata": {},
   "outputs": [
    {
     "output_type": "execute_result",
     "data": {
      "text/plain": [
       "array(['Q12996', 'MESH:D033461', 'Q6L8G5', ..., 'MESH:D004487',\n",
       "       'MESH:D013927', 'MESH:D009202'], dtype=object)"
      ]
     },
     "metadata": {},
     "execution_count": 48
    }
   ],
   "source": [
    "nodelist = palette_wl(e_subgraph, link)\n",
    "nodelist"
   ]
  },
  {
   "cell_type": "code",
   "execution_count": 49,
   "metadata": {},
   "outputs": [],
   "source": [
    "size = 10\n",
    "if len(nodelist) > size:\n",
    "    nodelist = nodelist[:size]\n",
    "    e_subgraph = e_subgraph.subgraph(nodelist)\n",
    "    nodelist = palette_wl(e_subgraph, link)"
   ]
  },
  {
   "cell_type": "code",
   "execution_count": 50,
   "metadata": {},
   "outputs": [
    {
     "output_type": "execute_result",
     "data": {
      "text/plain": [
       "matrix([[0, 1, 0, 0, 0, 0, 0, 0, 0, 0],\n",
       "        [1, 0, 1, 1, 1, 1, 1, 1, 1, 1],\n",
       "        [0, 1, 0, 0, 0, 0, 0, 0, 0, 0],\n",
       "        [0, 1, 0, 0, 0, 0, 0, 0, 0, 0],\n",
       "        [0, 1, 0, 0, 0, 0, 0, 0, 0, 0],\n",
       "        [0, 1, 0, 0, 0, 0, 0, 0, 0, 0],\n",
       "        [0, 1, 0, 0, 0, 0, 0, 0, 0, 0],\n",
       "        [0, 1, 0, 0, 0, 0, 0, 0, 0, 0],\n",
       "        [0, 1, 0, 0, 0, 0, 0, 0, 0, 0],\n",
       "        [0, 1, 0, 0, 0, 0, 0, 0, 0, 0]], dtype=int64)"
      ]
     },
     "metadata": {},
     "execution_count": 50
    }
   ],
   "source": [
    "nx.adj_matrix(e_subgraph, nodelist).todense()"
   ]
  },
  {
   "cell_type": "code",
   "execution_count": 51,
   "metadata": {},
   "outputs": [
    {
     "output_type": "execute_result",
     "data": {
      "text/plain": [
       "array(['Q12996', 'MESH:D033461', 'E2JJS1', 'Q587J8', 'Q6L8G5', 'Q6UXX5',\n",
       "       'Q6ZN06', 'Q8NHC8', 'Q8WUE5', 'Q96KT7'], dtype=object)"
      ]
     },
     "metadata": {},
     "execution_count": 51
    }
   ],
   "source": [
    "nodelist"
   ]
  },
  {
   "cell_type": "code",
   "execution_count": 52,
   "metadata": {},
   "outputs": [
    {
     "output_type": "display_data",
     "data": {
      "text/plain": "<Figure size 432x288 with 1 Axes>",
      "image/svg+xml": "<?xml version=\"1.0\" encoding=\"utf-8\" standalone=\"no\"?>\n<!DOCTYPE svg PUBLIC \"-//W3C//DTD SVG 1.1//EN\"\n  \"http://www.w3.org/Graphics/SVG/1.1/DTD/svg11.dtd\">\n<!-- Created with matplotlib (https://matplotlib.org/) -->\n<svg height=\"302.4pt\" version=\"1.1\" viewBox=\"0 0 446.4 302.4\" width=\"446.4pt\" xmlns=\"http://www.w3.org/2000/svg\" xmlns:xlink=\"http://www.w3.org/1999/xlink\">\n <defs>\n  <style type=\"text/css\">\n*{stroke-linecap:butt;stroke-linejoin:round;}\n  </style>\n </defs>\n <g id=\"figure_1\">\n  <g id=\"patch_1\">\n   <path d=\"M 0 302.4 \nL 446.4 302.4 \nL 446.4 0 \nL 0 0 \nz\n\" style=\"fill:#ffffff;\"/>\n  </g>\n  <g id=\"axes_1\">\n   <g id=\"LineCollection_1\">\n    <path clip-path=\"url(#p5f39c24195)\" d=\"M 367.494622 63.94024 \nL 218.902678 150.623624 \n\" style=\"fill:none;stroke:#000000;\"/>\n    <path clip-path=\"url(#p5f39c24195)\" d=\"M 415.615092 147.086871 \nL 218.902678 150.623624 \n\" style=\"fill:none;stroke:#000000;\"/>\n    <path clip-path=\"url(#p5f39c24195)\" d=\"M 218.902678 150.623624 \nL 125.005634 265.383817 \n\" style=\"fill:none;stroke:#000000;\"/>\n    <path clip-path=\"url(#p5f39c24195)\" d=\"M 218.902678 150.623624 \nL 114.183348 39.521931 \n\" style=\"fill:none;stroke:#000000;\"/>\n    <path clip-path=\"url(#p5f39c24195)\" d=\"M 218.902678 150.623624 \nL 374.77756 231.590594 \n\" style=\"fill:none;stroke:#000000;\"/>\n    <path clip-path=\"url(#p5f39c24195)\" d=\"M 218.902678 150.623624 \nL 33.809813 199.101045 \n\" style=\"fill:none;stroke:#000000;\"/>\n    <path clip-path=\"url(#p5f39c24195)\" d=\"M 218.902678 150.623624 \nL 30.784908 110.129221 \n\" style=\"fill:none;stroke:#000000;\"/>\n    <path clip-path=\"url(#p5f39c24195)\" d=\"M 218.902678 150.623624 \nL 258.967512 278.216803 \n\" style=\"fill:none;stroke:#000000;\"/>\n    <path clip-path=\"url(#p5f39c24195)\" d=\"M 218.902678 150.623624 \nL 246.955073 24.183197 \n\" style=\"fill:none;stroke:#000000;\"/>\n   </g>\n   <g id=\"PathCollection_1\">\n    <defs>\n     <path d=\"M 0 8.660254 \nC 2.296726 8.660254 4.499694 7.747755 6.123724 6.123724 \nC 7.747755 4.499694 8.660254 2.296726 8.660254 0 \nC 8.660254 -2.296726 7.747755 -4.499694 6.123724 -6.123724 \nC 4.499694 -7.747755 2.296726 -8.660254 0 -8.660254 \nC -2.296726 -8.660254 -4.499694 -7.747755 -6.123724 -6.123724 \nC -7.747755 -4.499694 -8.660254 -2.296726 -8.660254 0 \nC -8.660254 2.296726 -7.747755 4.499694 -6.123724 6.123724 \nC -4.499694 7.747755 -2.296726 8.660254 0 8.660254 \nz\n\" id=\"md111f0b04a\" style=\"stroke:#1f78b4;\"/>\n    </defs>\n    <g clip-path=\"url(#p5f39c24195)\">\n     <use style=\"fill:#1f78b4;stroke:#1f78b4;\" x=\"367.494622\" xlink:href=\"#md111f0b04a\" y=\"63.94024\"/>\n     <use style=\"fill:#1f78b4;stroke:#1f78b4;\" x=\"415.615092\" xlink:href=\"#md111f0b04a\" y=\"147.086871\"/>\n     <use style=\"fill:#1f78b4;stroke:#1f78b4;\" x=\"218.902678\" xlink:href=\"#md111f0b04a\" y=\"150.623624\"/>\n     <use style=\"fill:#1f78b4;stroke:#1f78b4;\" x=\"33.809813\" xlink:href=\"#md111f0b04a\" y=\"199.101045\"/>\n     <use style=\"fill:#1f78b4;stroke:#1f78b4;\" x=\"114.183348\" xlink:href=\"#md111f0b04a\" y=\"39.521931\"/>\n     <use style=\"fill:#1f78b4;stroke:#1f78b4;\" x=\"125.005634\" xlink:href=\"#md111f0b04a\" y=\"265.383817\"/>\n     <use style=\"fill:#1f78b4;stroke:#1f78b4;\" x=\"374.77756\" xlink:href=\"#md111f0b04a\" y=\"231.590594\"/>\n     <use style=\"fill:#1f78b4;stroke:#1f78b4;\" x=\"30.784908\" xlink:href=\"#md111f0b04a\" y=\"110.129221\"/>\n     <use style=\"fill:#1f78b4;stroke:#1f78b4;\" x=\"246.955073\" xlink:href=\"#md111f0b04a\" y=\"24.183197\"/>\n     <use style=\"fill:#1f78b4;stroke:#1f78b4;\" x=\"258.967512\" xlink:href=\"#md111f0b04a\" y=\"278.216803\"/>\n    </g>\n   </g>\n   <g id=\"text_1\">\n    <g clip-path=\"url(#p5f39c24195)\">\n     <!-- Q6UXX5 -->\n     <defs>\n      <path d=\"M 39.40625 66.21875 \nQ 28.65625 66.21875 22.328125 58.203125 \nQ 16.015625 50.203125 16.015625 36.375 \nQ 16.015625 22.609375 22.328125 14.59375 \nQ 28.65625 6.59375 39.40625 6.59375 \nQ 50.140625 6.59375 56.421875 14.59375 \nQ 62.703125 22.609375 62.703125 36.375 \nQ 62.703125 50.203125 56.421875 58.203125 \nQ 50.140625 66.21875 39.40625 66.21875 \nz\nM 53.21875 1.3125 \nL 66.21875 -12.890625 \nL 54.296875 -12.890625 \nL 43.5 -1.21875 \nQ 41.890625 -1.3125 41.03125 -1.359375 \nQ 40.1875 -1.421875 39.40625 -1.421875 \nQ 24.03125 -1.421875 14.8125 8.859375 \nQ 5.609375 19.140625 5.609375 36.375 \nQ 5.609375 53.65625 14.8125 63.9375 \nQ 24.03125 74.21875 39.40625 74.21875 \nQ 54.734375 74.21875 63.90625 63.9375 \nQ 73.09375 53.65625 73.09375 36.375 \nQ 73.09375 23.6875 67.984375 14.640625 \nQ 62.890625 5.609375 53.21875 1.3125 \nz\n\" id=\"DejaVuSans-81\"/>\n      <path d=\"M 33.015625 40.375 \nQ 26.375 40.375 22.484375 35.828125 \nQ 18.609375 31.296875 18.609375 23.390625 \nQ 18.609375 15.53125 22.484375 10.953125 \nQ 26.375 6.390625 33.015625 6.390625 \nQ 39.65625 6.390625 43.53125 10.953125 \nQ 47.40625 15.53125 47.40625 23.390625 \nQ 47.40625 31.296875 43.53125 35.828125 \nQ 39.65625 40.375 33.015625 40.375 \nz\nM 52.59375 71.296875 \nL 52.59375 62.3125 \nQ 48.875 64.0625 45.09375 64.984375 \nQ 41.3125 65.921875 37.59375 65.921875 \nQ 27.828125 65.921875 22.671875 59.328125 \nQ 17.53125 52.734375 16.796875 39.40625 \nQ 19.671875 43.65625 24.015625 45.921875 \nQ 28.375 48.1875 33.59375 48.1875 \nQ 44.578125 48.1875 50.953125 41.515625 \nQ 57.328125 34.859375 57.328125 23.390625 \nQ 57.328125 12.15625 50.6875 5.359375 \nQ 44.046875 -1.421875 33.015625 -1.421875 \nQ 20.359375 -1.421875 13.671875 8.265625 \nQ 6.984375 17.96875 6.984375 36.375 \nQ 6.984375 53.65625 15.1875 63.9375 \nQ 23.390625 74.21875 37.203125 74.21875 \nQ 40.921875 74.21875 44.703125 73.484375 \nQ 48.484375 72.75 52.59375 71.296875 \nz\n\" id=\"DejaVuSans-54\"/>\n      <path d=\"M 8.6875 72.90625 \nL 18.609375 72.90625 \nL 18.609375 28.609375 \nQ 18.609375 16.890625 22.84375 11.734375 \nQ 27.09375 6.59375 36.625 6.59375 \nQ 46.09375 6.59375 50.34375 11.734375 \nQ 54.59375 16.890625 54.59375 28.609375 \nL 54.59375 72.90625 \nL 64.5 72.90625 \nL 64.5 27.390625 \nQ 64.5 13.140625 57.4375 5.859375 \nQ 50.390625 -1.421875 36.625 -1.421875 \nQ 22.796875 -1.421875 15.734375 5.859375 \nQ 8.6875 13.140625 8.6875 27.390625 \nz\n\" id=\"DejaVuSans-85\"/>\n      <path d=\"M 6.296875 72.90625 \nL 16.890625 72.90625 \nL 35.015625 45.796875 \nL 53.21875 72.90625 \nL 63.8125 72.90625 \nL 40.375 37.890625 \nL 65.375 0 \nL 54.78125 0 \nL 34.28125 31 \nL 13.625 0 \nL 2.984375 0 \nL 29 38.921875 \nz\n\" id=\"DejaVuSans-88\"/>\n      <path d=\"M 10.796875 72.90625 \nL 49.515625 72.90625 \nL 49.515625 64.59375 \nL 19.828125 64.59375 \nL 19.828125 46.734375 \nQ 21.96875 47.46875 24.109375 47.828125 \nQ 26.265625 48.1875 28.421875 48.1875 \nQ 40.625 48.1875 47.75 41.5 \nQ 54.890625 34.8125 54.890625 23.390625 \nQ 54.890625 11.625 47.5625 5.09375 \nQ 40.234375 -1.421875 26.90625 -1.421875 \nQ 22.3125 -1.421875 17.546875 -0.640625 \nQ 12.796875 0.140625 7.71875 1.703125 \nL 7.71875 11.625 \nQ 12.109375 9.234375 16.796875 8.0625 \nQ 21.484375 6.890625 26.703125 6.890625 \nQ 35.15625 6.890625 40.078125 11.328125 \nQ 45.015625 15.765625 45.015625 23.390625 \nQ 45.015625 31 40.078125 35.4375 \nQ 35.15625 39.890625 26.703125 39.890625 \nQ 22.75 39.890625 18.8125 39.015625 \nQ 14.890625 38.140625 10.796875 36.28125 \nz\n\" id=\"DejaVuSans-53\"/>\n     </defs>\n     <g transform=\"translate(342.525247 67.25149)scale(0.12 -0.12)\">\n      <use xlink:href=\"#DejaVuSans-81\"/>\n      <use x=\"78.710938\" xlink:href=\"#DejaVuSans-54\"/>\n      <use x=\"142.333984\" xlink:href=\"#DejaVuSans-85\"/>\n      <use x=\"215.527344\" xlink:href=\"#DejaVuSans-88\"/>\n      <use x=\"284.033203\" xlink:href=\"#DejaVuSans-88\"/>\n      <use x=\"352.539062\" xlink:href=\"#DejaVuSans-53\"/>\n     </g>\n    </g>\n   </g>\n   <g id=\"text_2\">\n    <g clip-path=\"url(#p5f39c24195)\">\n     <!-- Q96KT7 -->\n     <defs>\n      <path d=\"M 10.984375 1.515625 \nL 10.984375 10.5 \nQ 14.703125 8.734375 18.5 7.8125 \nQ 22.3125 6.890625 25.984375 6.890625 \nQ 35.75 6.890625 40.890625 13.453125 \nQ 46.046875 20.015625 46.78125 33.40625 \nQ 43.953125 29.203125 39.59375 26.953125 \nQ 35.25 24.703125 29.984375 24.703125 \nQ 19.046875 24.703125 12.671875 31.3125 \nQ 6.296875 37.9375 6.296875 49.421875 \nQ 6.296875 60.640625 12.9375 67.421875 \nQ 19.578125 74.21875 30.609375 74.21875 \nQ 43.265625 74.21875 49.921875 64.515625 \nQ 56.59375 54.828125 56.59375 36.375 \nQ 56.59375 19.140625 48.40625 8.859375 \nQ 40.234375 -1.421875 26.421875 -1.421875 \nQ 22.703125 -1.421875 18.890625 -0.6875 \nQ 15.09375 0.046875 10.984375 1.515625 \nz\nM 30.609375 32.421875 \nQ 37.25 32.421875 41.125 36.953125 \nQ 45.015625 41.5 45.015625 49.421875 \nQ 45.015625 57.28125 41.125 61.84375 \nQ 37.25 66.40625 30.609375 66.40625 \nQ 23.96875 66.40625 20.09375 61.84375 \nQ 16.21875 57.28125 16.21875 49.421875 \nQ 16.21875 41.5 20.09375 36.953125 \nQ 23.96875 32.421875 30.609375 32.421875 \nz\n\" id=\"DejaVuSans-57\"/>\n      <path d=\"M 9.8125 72.90625 \nL 19.671875 72.90625 \nL 19.671875 42.09375 \nL 52.390625 72.90625 \nL 65.09375 72.90625 \nL 28.90625 38.921875 \nL 67.671875 0 \nL 54.6875 0 \nL 19.671875 35.109375 \nL 19.671875 0 \nL 9.8125 0 \nz\n\" id=\"DejaVuSans-75\"/>\n      <path d=\"M -0.296875 72.90625 \nL 61.375 72.90625 \nL 61.375 64.59375 \nL 35.5 64.59375 \nL 35.5 0 \nL 25.59375 0 \nL 25.59375 64.59375 \nL -0.296875 64.59375 \nz\n\" id=\"DejaVuSans-84\"/>\n      <path d=\"M 8.203125 72.90625 \nL 55.078125 72.90625 \nL 55.078125 68.703125 \nL 28.609375 0 \nL 18.3125 0 \nL 43.21875 64.59375 \nL 8.203125 64.59375 \nz\n\" id=\"DejaVuSans-55\"/>\n     </defs>\n     <g transform=\"translate(391.846655 150.398121)scale(0.12 -0.12)\">\n      <use xlink:href=\"#DejaVuSans-81\"/>\n      <use x=\"78.710938\" xlink:href=\"#DejaVuSans-57\"/>\n      <use x=\"142.333984\" xlink:href=\"#DejaVuSans-54\"/>\n      <use x=\"205.957031\" xlink:href=\"#DejaVuSans-75\"/>\n      <use x=\"271.423828\" xlink:href=\"#DejaVuSans-84\"/>\n      <use x=\"332.507812\" xlink:href=\"#DejaVuSans-55\"/>\n     </g>\n    </g>\n   </g>\n   <g id=\"text_3\">\n    <g clip-path=\"url(#p5f39c24195)\">\n     <!-- MESH:D033461 -->\n     <defs>\n      <path d=\"M 9.8125 72.90625 \nL 24.515625 72.90625 \nL 43.109375 23.296875 \nL 61.8125 72.90625 \nL 76.515625 72.90625 \nL 76.515625 0 \nL 66.890625 0 \nL 66.890625 64.015625 \nL 48.09375 14.015625 \nL 38.1875 14.015625 \nL 19.390625 64.015625 \nL 19.390625 0 \nL 9.8125 0 \nz\n\" id=\"DejaVuSans-77\"/>\n      <path d=\"M 9.8125 72.90625 \nL 55.90625 72.90625 \nL 55.90625 64.59375 \nL 19.671875 64.59375 \nL 19.671875 43.015625 \nL 54.390625 43.015625 \nL 54.390625 34.71875 \nL 19.671875 34.71875 \nL 19.671875 8.296875 \nL 56.78125 8.296875 \nL 56.78125 0 \nL 9.8125 0 \nz\n\" id=\"DejaVuSans-69\"/>\n      <path d=\"M 53.515625 70.515625 \nL 53.515625 60.890625 \nQ 47.90625 63.578125 42.921875 64.890625 \nQ 37.9375 66.21875 33.296875 66.21875 \nQ 25.25 66.21875 20.875 63.09375 \nQ 16.5 59.96875 16.5 54.203125 \nQ 16.5 49.359375 19.40625 46.890625 \nQ 22.3125 44.4375 30.421875 42.921875 \nL 36.375 41.703125 \nQ 47.40625 39.59375 52.65625 34.296875 \nQ 57.90625 29 57.90625 20.125 \nQ 57.90625 9.515625 50.796875 4.046875 \nQ 43.703125 -1.421875 29.984375 -1.421875 \nQ 24.8125 -1.421875 18.96875 -0.25 \nQ 13.140625 0.921875 6.890625 3.21875 \nL 6.890625 13.375 \nQ 12.890625 10.015625 18.65625 8.296875 \nQ 24.421875 6.59375 29.984375 6.59375 \nQ 38.421875 6.59375 43.015625 9.90625 \nQ 47.609375 13.234375 47.609375 19.390625 \nQ 47.609375 24.75 44.3125 27.78125 \nQ 41.015625 30.8125 33.5 32.328125 \nL 27.484375 33.5 \nQ 16.453125 35.6875 11.515625 40.375 \nQ 6.59375 45.0625 6.59375 53.421875 \nQ 6.59375 63.09375 13.40625 68.65625 \nQ 20.21875 74.21875 32.171875 74.21875 \nQ 37.3125 74.21875 42.625 73.28125 \nQ 47.953125 72.359375 53.515625 70.515625 \nz\n\" id=\"DejaVuSans-83\"/>\n      <path d=\"M 9.8125 72.90625 \nL 19.671875 72.90625 \nL 19.671875 43.015625 \nL 55.515625 43.015625 \nL 55.515625 72.90625 \nL 65.375 72.90625 \nL 65.375 0 \nL 55.515625 0 \nL 55.515625 34.71875 \nL 19.671875 34.71875 \nL 19.671875 0 \nL 9.8125 0 \nz\n\" id=\"DejaVuSans-72\"/>\n      <path d=\"M 11.71875 12.40625 \nL 22.015625 12.40625 \nL 22.015625 0 \nL 11.71875 0 \nz\nM 11.71875 51.703125 \nL 22.015625 51.703125 \nL 22.015625 39.3125 \nL 11.71875 39.3125 \nz\n\" id=\"DejaVuSans-58\"/>\n      <path d=\"M 19.671875 64.796875 \nL 19.671875 8.109375 \nL 31.59375 8.109375 \nQ 46.6875 8.109375 53.6875 14.9375 \nQ 60.6875 21.78125 60.6875 36.53125 \nQ 60.6875 51.171875 53.6875 57.984375 \nQ 46.6875 64.796875 31.59375 64.796875 \nz\nM 9.8125 72.90625 \nL 30.078125 72.90625 \nQ 51.265625 72.90625 61.171875 64.09375 \nQ 71.09375 55.28125 71.09375 36.53125 \nQ 71.09375 17.671875 61.125 8.828125 \nQ 51.171875 0 30.078125 0 \nL 9.8125 0 \nz\n\" id=\"DejaVuSans-68\"/>\n      <path d=\"M 31.78125 66.40625 \nQ 24.171875 66.40625 20.328125 58.90625 \nQ 16.5 51.421875 16.5 36.375 \nQ 16.5 21.390625 20.328125 13.890625 \nQ 24.171875 6.390625 31.78125 6.390625 \nQ 39.453125 6.390625 43.28125 13.890625 \nQ 47.125 21.390625 47.125 36.375 \nQ 47.125 51.421875 43.28125 58.90625 \nQ 39.453125 66.40625 31.78125 66.40625 \nz\nM 31.78125 74.21875 \nQ 44.046875 74.21875 50.515625 64.515625 \nQ 56.984375 54.828125 56.984375 36.375 \nQ 56.984375 17.96875 50.515625 8.265625 \nQ 44.046875 -1.421875 31.78125 -1.421875 \nQ 19.53125 -1.421875 13.0625 8.265625 \nQ 6.59375 17.96875 6.59375 36.375 \nQ 6.59375 54.828125 13.0625 64.515625 \nQ 19.53125 74.21875 31.78125 74.21875 \nz\n\" id=\"DejaVuSans-48\"/>\n      <path d=\"M 40.578125 39.3125 \nQ 47.65625 37.796875 51.625 33 \nQ 55.609375 28.21875 55.609375 21.1875 \nQ 55.609375 10.40625 48.1875 4.484375 \nQ 40.765625 -1.421875 27.09375 -1.421875 \nQ 22.515625 -1.421875 17.65625 -0.515625 \nQ 12.796875 0.390625 7.625 2.203125 \nL 7.625 11.71875 \nQ 11.71875 9.328125 16.59375 8.109375 \nQ 21.484375 6.890625 26.8125 6.890625 \nQ 36.078125 6.890625 40.9375 10.546875 \nQ 45.796875 14.203125 45.796875 21.1875 \nQ 45.796875 27.640625 41.28125 31.265625 \nQ 36.765625 34.90625 28.71875 34.90625 \nL 20.21875 34.90625 \nL 20.21875 43.015625 \nL 29.109375 43.015625 \nQ 36.375 43.015625 40.234375 45.921875 \nQ 44.09375 48.828125 44.09375 54.296875 \nQ 44.09375 59.90625 40.109375 62.90625 \nQ 36.140625 65.921875 28.71875 65.921875 \nQ 24.65625 65.921875 20.015625 65.03125 \nQ 15.375 64.15625 9.8125 62.3125 \nL 9.8125 71.09375 \nQ 15.4375 72.65625 20.34375 73.4375 \nQ 25.25 74.21875 29.59375 74.21875 \nQ 40.828125 74.21875 47.359375 69.109375 \nQ 53.90625 64.015625 53.90625 55.328125 \nQ 53.90625 49.265625 50.4375 45.09375 \nQ 46.96875 40.921875 40.578125 39.3125 \nz\n\" id=\"DejaVuSans-51\"/>\n      <path d=\"M 37.796875 64.3125 \nL 12.890625 25.390625 \nL 37.796875 25.390625 \nz\nM 35.203125 72.90625 \nL 47.609375 72.90625 \nL 47.609375 25.390625 \nL 58.015625 25.390625 \nL 58.015625 17.1875 \nL 47.609375 17.1875 \nL 47.609375 0 \nL 37.796875 0 \nL 37.796875 17.1875 \nL 4.890625 17.1875 \nL 4.890625 26.703125 \nz\n\" id=\"DejaVuSans-52\"/>\n      <path d=\"M 12.40625 8.296875 \nL 28.515625 8.296875 \nL 28.515625 63.921875 \nL 10.984375 60.40625 \nL 10.984375 69.390625 \nL 28.421875 72.90625 \nL 38.28125 72.90625 \nL 38.28125 8.296875 \nL 54.390625 8.296875 \nL 54.390625 0 \nL 12.40625 0 \nz\n\" id=\"DejaVuSans-49\"/>\n     </defs>\n     <g transform=\"translate(172.067053 153.934874)scale(0.12 -0.12)\">\n      <use xlink:href=\"#DejaVuSans-77\"/>\n      <use x=\"86.279297\" xlink:href=\"#DejaVuSans-69\"/>\n      <use x=\"149.462891\" xlink:href=\"#DejaVuSans-83\"/>\n      <use x=\"212.939453\" xlink:href=\"#DejaVuSans-72\"/>\n      <use x=\"288.134766\" xlink:href=\"#DejaVuSans-58\"/>\n      <use x=\"321.826172\" xlink:href=\"#DejaVuSans-68\"/>\n      <use x=\"398.828125\" xlink:href=\"#DejaVuSans-48\"/>\n      <use x=\"462.451172\" xlink:href=\"#DejaVuSans-51\"/>\n      <use x=\"526.074219\" xlink:href=\"#DejaVuSans-51\"/>\n      <use x=\"589.697266\" xlink:href=\"#DejaVuSans-52\"/>\n      <use x=\"653.320312\" xlink:href=\"#DejaVuSans-54\"/>\n      <use x=\"716.943359\" xlink:href=\"#DejaVuSans-49\"/>\n     </g>\n    </g>\n   </g>\n   <g id=\"text_4\">\n    <g clip-path=\"url(#p5f39c24195)\">\n     <!-- Q587J8 -->\n     <defs>\n      <path d=\"M 31.78125 34.625 \nQ 24.75 34.625 20.71875 30.859375 \nQ 16.703125 27.09375 16.703125 20.515625 \nQ 16.703125 13.921875 20.71875 10.15625 \nQ 24.75 6.390625 31.78125 6.390625 \nQ 38.8125 6.390625 42.859375 10.171875 \nQ 46.921875 13.96875 46.921875 20.515625 \nQ 46.921875 27.09375 42.890625 30.859375 \nQ 38.875 34.625 31.78125 34.625 \nz\nM 21.921875 38.8125 \nQ 15.578125 40.375 12.03125 44.71875 \nQ 8.5 49.078125 8.5 55.328125 \nQ 8.5 64.0625 14.71875 69.140625 \nQ 20.953125 74.21875 31.78125 74.21875 \nQ 42.671875 74.21875 48.875 69.140625 \nQ 55.078125 64.0625 55.078125 55.328125 \nQ 55.078125 49.078125 51.53125 44.71875 \nQ 48 40.375 41.703125 38.8125 \nQ 48.828125 37.15625 52.796875 32.3125 \nQ 56.78125 27.484375 56.78125 20.515625 \nQ 56.78125 9.90625 50.3125 4.234375 \nQ 43.84375 -1.421875 31.78125 -1.421875 \nQ 19.734375 -1.421875 13.25 4.234375 \nQ 6.78125 9.90625 6.78125 20.515625 \nQ 6.78125 27.484375 10.78125 32.3125 \nQ 14.796875 37.15625 21.921875 38.8125 \nz\nM 18.3125 54.390625 \nQ 18.3125 48.734375 21.84375 45.5625 \nQ 25.390625 42.390625 31.78125 42.390625 \nQ 38.140625 42.390625 41.71875 45.5625 \nQ 45.3125 48.734375 45.3125 54.390625 \nQ 45.3125 60.0625 41.71875 63.234375 \nQ 38.140625 66.40625 31.78125 66.40625 \nQ 25.390625 66.40625 21.84375 63.234375 \nQ 18.3125 60.0625 18.3125 54.390625 \nz\n\" id=\"DejaVuSans-56\"/>\n      <path d=\"M 9.8125 72.90625 \nL 19.671875 72.90625 \nL 19.671875 5.078125 \nQ 19.671875 -8.109375 14.671875 -14.0625 \nQ 9.671875 -20.015625 -1.421875 -20.015625 \nL -5.171875 -20.015625 \nL -5.171875 -11.71875 \nL -2.09375 -11.71875 \nQ 4.4375 -11.71875 7.125 -8.046875 \nQ 9.8125 -4.390625 9.8125 5.078125 \nz\n\" id=\"DejaVuSans-74\"/>\n     </defs>\n     <g transform=\"translate(12.046688 202.412295)scale(0.12 -0.12)\">\n      <use xlink:href=\"#DejaVuSans-81\"/>\n      <use x=\"78.710938\" xlink:href=\"#DejaVuSans-53\"/>\n      <use x=\"142.333984\" xlink:href=\"#DejaVuSans-56\"/>\n      <use x=\"205.957031\" xlink:href=\"#DejaVuSans-55\"/>\n      <use x=\"269.580078\" xlink:href=\"#DejaVuSans-74\"/>\n      <use x=\"299.072266\" xlink:href=\"#DejaVuSans-56\"/>\n     </g>\n    </g>\n   </g>\n   <g id=\"text_5\">\n    <g clip-path=\"url(#p5f39c24195)\">\n     <!-- Q6L8G5 -->\n     <defs>\n      <path d=\"M 9.8125 72.90625 \nL 19.671875 72.90625 \nL 19.671875 8.296875 \nL 55.171875 8.296875 \nL 55.171875 0 \nL 9.8125 0 \nz\n\" id=\"DejaVuSans-76\"/>\n      <path d=\"M 59.515625 10.40625 \nL 59.515625 29.984375 \nL 43.40625 29.984375 \nL 43.40625 38.09375 \nL 69.28125 38.09375 \nL 69.28125 6.78125 \nQ 63.578125 2.734375 56.6875 0.65625 \nQ 49.8125 -1.421875 42 -1.421875 \nQ 24.90625 -1.421875 15.25 8.5625 \nQ 5.609375 18.5625 5.609375 36.375 \nQ 5.609375 54.25 15.25 64.234375 \nQ 24.90625 74.21875 42 74.21875 \nQ 49.125 74.21875 55.546875 72.453125 \nQ 61.96875 70.703125 67.390625 67.28125 \nL 67.390625 56.78125 \nQ 61.921875 61.421875 55.765625 63.765625 \nQ 49.609375 66.109375 42.828125 66.109375 \nQ 29.4375 66.109375 22.71875 58.640625 \nQ 16.015625 51.171875 16.015625 36.375 \nQ 16.015625 21.625 22.71875 14.15625 \nQ 29.4375 6.6875 42.828125 6.6875 \nQ 48.046875 6.6875 52.140625 7.59375 \nQ 56.25 8.5 59.515625 10.40625 \nz\n\" id=\"DejaVuSans-71\"/>\n     </defs>\n     <g transform=\"translate(90.015536 42.833181)scale(0.12 -0.12)\">\n      <use xlink:href=\"#DejaVuSans-81\"/>\n      <use x=\"78.710938\" xlink:href=\"#DejaVuSans-54\"/>\n      <use x=\"142.333984\" xlink:href=\"#DejaVuSans-76\"/>\n      <use x=\"198.046875\" xlink:href=\"#DejaVuSans-56\"/>\n      <use x=\"261.669922\" xlink:href=\"#DejaVuSans-71\"/>\n      <use x=\"339.160156\" xlink:href=\"#DejaVuSans-53\"/>\n     </g>\n    </g>\n   </g>\n   <g id=\"text_6\">\n    <g clip-path=\"url(#p5f39c24195)\">\n     <!-- Q6ZN06 -->\n     <defs>\n      <path d=\"M 5.609375 72.90625 \nL 62.890625 72.90625 \nL 62.890625 65.375 \nL 16.796875 8.296875 \nL 64.015625 8.296875 \nL 64.015625 0 \nL 4.5 0 \nL 4.5 7.515625 \nL 50.59375 64.59375 \nL 5.609375 64.59375 \nz\n\" id=\"DejaVuSans-90\"/>\n      <path d=\"M 9.8125 72.90625 \nL 23.09375 72.90625 \nL 55.421875 11.921875 \nL 55.421875 72.90625 \nL 64.984375 72.90625 \nL 64.984375 0 \nL 51.703125 0 \nL 19.390625 60.984375 \nL 19.390625 0 \nL 9.8125 0 \nz\n\" id=\"DejaVuSans-78\"/>\n     </defs>\n     <g transform=\"translate(100.231259 268.695067)scale(0.12 -0.12)\">\n      <use xlink:href=\"#DejaVuSans-81\"/>\n      <use x=\"78.710938\" xlink:href=\"#DejaVuSans-54\"/>\n      <use x=\"142.333984\" xlink:href=\"#DejaVuSans-90\"/>\n      <use x=\"210.839844\" xlink:href=\"#DejaVuSans-78\"/>\n      <use x=\"285.644531\" xlink:href=\"#DejaVuSans-48\"/>\n      <use x=\"349.267578\" xlink:href=\"#DejaVuSans-54\"/>\n     </g>\n    </g>\n   </g>\n   <g id=\"text_7\">\n    <g clip-path=\"url(#p5f39c24195)\">\n     <!-- Q8WUE5 -->\n     <defs>\n      <path d=\"M 3.328125 72.90625 \nL 13.28125 72.90625 \nL 28.609375 11.28125 \nL 43.890625 72.90625 \nL 54.984375 72.90625 \nL 70.3125 11.28125 \nL 85.59375 72.90625 \nL 95.609375 72.90625 \nL 77.296875 0 \nL 64.890625 0 \nL 49.515625 63.28125 \nL 33.984375 0 \nL 21.578125 0 \nz\n\" id=\"DejaVuSans-87\"/>\n     </defs>\n     <g transform=\"translate(348.304435 234.901844)scale(0.12 -0.12)\">\n      <use xlink:href=\"#DejaVuSans-81\"/>\n      <use x=\"78.710938\" xlink:href=\"#DejaVuSans-56\"/>\n      <use x=\"142.333984\" xlink:href=\"#DejaVuSans-87\"/>\n      <use x=\"241.210938\" xlink:href=\"#DejaVuSans-85\"/>\n      <use x=\"314.404297\" xlink:href=\"#DejaVuSans-69\"/>\n      <use x=\"377.587891\" xlink:href=\"#DejaVuSans-53\"/>\n     </g>\n    </g>\n   </g>\n   <g id=\"text_8\">\n    <g clip-path=\"url(#p5f39c24195)\">\n     <!-- E2JJS1 -->\n     <defs>\n      <path d=\"M 19.1875 8.296875 \nL 53.609375 8.296875 \nL 53.609375 0 \nL 7.328125 0 \nL 7.328125 8.296875 \nQ 12.9375 14.109375 22.625 23.890625 \nQ 32.328125 33.6875 34.8125 36.53125 \nQ 39.546875 41.84375 41.421875 45.53125 \nQ 43.3125 49.21875 43.3125 52.78125 \nQ 43.3125 58.59375 39.234375 62.25 \nQ 35.15625 65.921875 28.609375 65.921875 \nQ 23.96875 65.921875 18.8125 64.3125 \nQ 13.671875 62.703125 7.8125 59.421875 \nL 7.8125 69.390625 \nQ 13.765625 71.78125 18.9375 73 \nQ 24.125 74.21875 28.421875 74.21875 \nQ 39.75 74.21875 46.484375 68.546875 \nQ 53.21875 62.890625 53.21875 53.421875 \nQ 53.21875 48.921875 51.53125 44.890625 \nQ 49.859375 40.875 45.40625 35.40625 \nQ 44.1875 33.984375 37.640625 27.21875 \nQ 31.109375 20.453125 19.1875 8.296875 \nz\n\" id=\"DejaVuSans-50\"/>\n     </defs>\n     <g transform=\"translate(12.009595 113.440471)scale(0.12 -0.12)\">\n      <use xlink:href=\"#DejaVuSans-69\"/>\n      <use x=\"63.183594\" xlink:href=\"#DejaVuSans-50\"/>\n      <use x=\"126.806641\" xlink:href=\"#DejaVuSans-74\"/>\n      <use x=\"156.298828\" xlink:href=\"#DejaVuSans-74\"/>\n      <use x=\"185.791016\" xlink:href=\"#DejaVuSans-83\"/>\n      <use x=\"249.267578\" xlink:href=\"#DejaVuSans-49\"/>\n     </g>\n    </g>\n   </g>\n   <g id=\"text_9\">\n    <g clip-path=\"url(#p5f39c24195)\">\n     <!-- Q12996 -->\n     <g transform=\"translate(223.144448 27.494447)scale(0.12 -0.12)\">\n      <use xlink:href=\"#DejaVuSans-81\"/>\n      <use x=\"78.710938\" xlink:href=\"#DejaVuSans-49\"/>\n      <use x=\"142.333984\" xlink:href=\"#DejaVuSans-50\"/>\n      <use x=\"205.957031\" xlink:href=\"#DejaVuSans-57\"/>\n      <use x=\"269.580078\" xlink:href=\"#DejaVuSans-57\"/>\n      <use x=\"333.203125\" xlink:href=\"#DejaVuSans-54\"/>\n     </g>\n    </g>\n   </g>\n   <g id=\"text_10\">\n    <g clip-path=\"url(#p5f39c24195)\">\n     <!-- Q8NHC8 -->\n     <defs>\n      <path d=\"M 64.40625 67.28125 \nL 64.40625 56.890625 \nQ 59.421875 61.53125 53.78125 63.8125 \nQ 48.140625 66.109375 41.796875 66.109375 \nQ 29.296875 66.109375 22.65625 58.46875 \nQ 16.015625 50.828125 16.015625 36.375 \nQ 16.015625 21.96875 22.65625 14.328125 \nQ 29.296875 6.6875 41.796875 6.6875 \nQ 48.140625 6.6875 53.78125 8.984375 \nQ 59.421875 11.28125 64.40625 15.921875 \nL 64.40625 5.609375 \nQ 59.234375 2.09375 53.4375 0.328125 \nQ 47.65625 -1.421875 41.21875 -1.421875 \nQ 24.65625 -1.421875 15.125 8.703125 \nQ 5.609375 18.84375 5.609375 36.375 \nQ 5.609375 53.953125 15.125 64.078125 \nQ 24.65625 74.21875 41.21875 74.21875 \nQ 47.75 74.21875 53.53125 72.484375 \nQ 59.328125 70.75 64.40625 67.28125 \nz\n\" id=\"DejaVuSans-67\"/>\n     </defs>\n     <g transform=\"translate(233.418762 281.528053)scale(0.12 -0.12)\">\n      <use xlink:href=\"#DejaVuSans-81\"/>\n      <use x=\"78.710938\" xlink:href=\"#DejaVuSans-56\"/>\n      <use x=\"142.333984\" xlink:href=\"#DejaVuSans-78\"/>\n      <use x=\"217.138672\" xlink:href=\"#DejaVuSans-72\"/>\n      <use x=\"292.333984\" xlink:href=\"#DejaVuSans-67\"/>\n      <use x=\"362.158203\" xlink:href=\"#DejaVuSans-56\"/>\n     </g>\n    </g>\n   </g>\n  </g>\n </g>\n <defs>\n  <clipPath id=\"p5f39c24195\">\n   <rect height=\"288\" width=\"432\" x=\"7.2\" y=\"7.2\"/>\n  </clipPath>\n </defs>\n</svg>\n",
      "image/png": "[encoded data removed]"
     },
     "metadata": {}
    }
   ],
   "source": [
    "nx.draw(e_subgraph, with_labels=True)"
   ]
  },
  {
   "cell_type": "markdown",
   "metadata": {},
   "source": [
    "### Represent enclosing subgraphs as adjacency matrices"
   ]
  },
  {
   "cell_type": "code",
   "execution_count": 53,
   "metadata": {},
   "outputs": [],
   "source": [
    "def sample(subgraph, nodelist, weight='weight', size=10):\n",
    "    adj_matrix = nx.adj_matrix(subgraph, weight=weight, nodelist=nodelist).todense()\n",
    "    vector = np.asarray(adj_matrix)[np.triu_indices(len(adj_matrix), k=1)]\n",
    "    d = size * (size - 1) // 2\n",
    "    if len(vector) < d:\n",
    "        vector = np.append(vector, np.zeros(d - len(vector)))\n",
    "    return vector[1:]"
   ]
  },
  {
   "cell_type": "code",
   "execution_count": 54,
   "metadata": {},
   "outputs": [
    {
     "output_type": "execute_result",
     "data": {
      "text/plain": [
       "array([0, 0, 0, 0, 0, 0, 0, 0, 1, 1, 1, 1, 1, 1, 1, 1, 0, 0, 0, 0, 0, 0,\n",
       "       0, 0, 0, 0, 0, 0, 0, 0, 0, 0, 0, 0, 0, 0, 0, 0, 0, 0, 0, 0, 0, 0],\n",
       "      dtype=int64)"
      ]
     },
     "metadata": {},
     "execution_count": 54
    }
   ],
   "source": [
    "sample(e_subgraph, nodelist, size=10)"
   ]
  },
  {
   "cell_type": "markdown",
   "metadata": {},
   "source": [
    "### Subgraph encoding test"
   ]
  },
  {
   "cell_type": "code",
   "execution_count": 55,
   "metadata": {},
   "outputs": [
    {
     "output_type": "execute_result",
     "data": {
      "text/plain": [
       "('MESH:D033461', 'Q12996')"
      ]
     },
     "metadata": {},
     "execution_count": 55
    }
   ],
   "source": [
    "link"
   ]
  },
  {
   "cell_type": "code",
   "execution_count": 56,
   "metadata": {},
   "outputs": [],
   "source": [
    "e_subgraph = extract_enclosing_subgraph(link, network_train, size=10)\n",
    "e_subgraph = compute_geometric_mean_distance(e_subgraph, link)\n",
    "nodelist = palette_wl(e_subgraph, link)\n",
    "if len(nodelist) > size:\n",
    "    nodelist = nodelist[:size]\n",
    "    e_subgraph = e_subgraph.subgraph(nodelist)\n",
    "    nodelist = palette_wl(e_subgraph, link)\n",
    "embeded = sample(e_subgraph, nodelist, size=10)"
   ]
  },
  {
   "cell_type": "code",
   "execution_count": 57,
   "metadata": {},
   "outputs": [
    {
     "output_type": "execute_result",
     "data": {
      "text/plain": [
       "array([0, 0, 0, 0, 0, 0, 0, 0, 1, 1, 1, 1, 1, 1, 1, 1, 0, 0, 0, 0, 0, 0,\n",
       "       0, 0, 0, 0, 0, 0, 0, 0, 0, 0, 0, 0, 0, 0, 0, 0, 0, 0, 0, 0, 0, 0],\n",
       "      dtype=int64)"
      ]
     },
     "metadata": {},
     "execution_count": 57
    }
   ],
   "source": [
    "embeded"
   ]
  },
  {
   "cell_type": "markdown",
   "metadata": {},
   "source": [
    "## Enclosing subgraph encoding for each links"
   ]
  },
  {
   "cell_type": "code",
   "execution_count": 58,
   "metadata": {},
   "outputs": [],
   "source": [
    "def encode_link(link, network, weight='weight', size=10):\n",
    "    e_subgraph = extract_enclosing_subgraph(link, network, size=size)\n",
    "    e_subgraph = compute_geometric_mean_distance(e_subgraph, link)\n",
    "    nodelist = palette_wl(e_subgraph, link)\n",
    "    if len(nodelist) > size:\n",
    "        nodelist = nodelist[:size]\n",
    "        e_subgraph = e_subgraph.subgraph(nodelist)\n",
    "        nodelist = palette_wl(e_subgraph, link)\n",
    "    embeded_link = sample(e_subgraph, nodelist, weight=weight, size=size)\n",
    "    return embeded_link"
   ]
  },
  {
   "cell_type": "code",
   "execution_count": 63,
   "metadata": {},
   "outputs": [
    {
     "output_type": "stream",
     "name": "stdout",
     "text": [
      "32.2 s ± 290 ms per loop (mean ± std. dev. of 7 runs, 1 loop each)\n"
     ]
    }
   ],
   "source": [
    "%%timeit\n",
    "encode_link(link, network_train, weight='inverse_distance', size=10)"
   ]
  },
  {
   "cell_type": "code",
   "execution_count": 64,
   "metadata": {},
   "outputs": [],
   "source": [
    "from functools import partial"
   ]
  },
  {
   "cell_type": "code",
   "execution_count": 65,
   "metadata": {},
   "outputs": [],
   "source": [
    "pool = multiprocessing.Pool()\n",
    "X_train = np.array(list(pool.map(partial(encode_link, network=network_train, weight='weight', size=10), all_links_train)))"
   ]
  },
  {
   "cell_type": "code",
   "execution_count": 66,
   "metadata": {},
   "outputs": [
    {
     "output_type": "execute_result",
     "data": {
      "text/plain": [
       "(12390, 44)"
      ]
     },
     "metadata": {},
     "execution_count": 66
    }
   ],
   "source": [
    "X_train.shape"
   ]
  },
  {
   "cell_type": "code",
   "execution_count": 67,
   "metadata": {},
   "outputs": [],
   "source": [
    "X_test = np.array(list(pool.map(partial(encode_link, network=network_train, weight='weight', size=10), all_links_test)))"
   ]
  },
  {
   "cell_type": "code",
   "execution_count": 85,
   "metadata": {},
   "outputs": [
    {
     "output_type": "execute_result",
     "data": {
      "text/plain": [
       "(12390, 44)"
      ]
     },
     "metadata": {},
     "execution_count": 85
    }
   ],
   "source": [
    "X_test.shape"
   ]
  },
  {
   "cell_type": "code",
   "execution_count": 84,
   "metadata": {},
   "outputs": [
    {
     "output_type": "execute_result",
     "data": {
      "text/plain": [
       "(48, 48)"
      ]
     },
     "metadata": {},
     "execution_count": 84
    }
   ],
   "source": [
    "def convert_into_tuple(x):\n",
    "    return tuple(x)\n",
    "\n",
    "dist_elems_train = [convert_into_tuple(xi) for xi in X_train]\n",
    "dist_elems_test = [convert_into_tuple(xi) for xi in X_test]\n",
    "len(set(dist_elems_train)), len(set(dist_elems_test)) # We have only 48 different embs in the training set (same thing for the test set) among 12 390 links"
   ]
  },
  {
   "cell_type": "code",
   "execution_count": 86,
   "metadata": {},
   "outputs": [],
   "source": [
    "from numpy import save\n",
    "\n",
    "save('X_train.npy', X_train)\n",
    "save('X_test.npy', X_test)"
   ]
  },
  {
   "cell_type": "code",
   "execution_count": 90,
   "metadata": {},
   "outputs": [],
   "source": [
    "from sklearn.utils import shuffle\n",
    "X_train_shuffle, y_train_shuffle = shuffle(X_train, y_train)"
   ]
  },
  {
   "cell_type": "code",
   "execution_count": 91,
   "metadata": {},
   "outputs": [
    {
     "output_type": "execute_result",
     "data": {
      "text/plain": [
       "((12390, 44), (12390,))"
      ]
     },
     "metadata": {},
     "execution_count": 91
    }
   ],
   "source": [
    "X_train_shuffle.shape, y_train.shape"
   ]
  },
  {
   "cell_type": "markdown",
   "metadata": {},
   "source": [
    "## Neural Network Learning"
   ]
  },
  {
   "cell_type": "code",
   "execution_count": 114,
   "metadata": {},
   "outputs": [],
   "source": [
    "from sklearn.neural_network import MLPClassifier"
   ]
  },
  {
   "cell_type": "code",
   "execution_count": 115,
   "metadata": {},
   "outputs": [],
   "source": [
    "model = MLPClassifier(hidden_layer_sizes=(32, 32, 16),\n",
    "                      alpha=1e-3,\n",
    "                      batch_size=128,\n",
    "                      learning_rate_init=0.001,\n",
    "                      max_iter=10,\n",
    "                      verbose=0,\n",
    "                      early_stopping=False,\n",
    "                      tol=-10000)"
   ]
  },
  {
   "cell_type": "code",
   "execution_count": 116,
   "metadata": {},
   "outputs": [
    {
     "output_type": "stream",
     "name": "stdout",
     "text": [
      "epoch:  0\n",
      "epoch:  1\n",
      "epoch:  2\n",
      "epoch:  3\n",
      "epoch:  4\n",
      "epoch:  5\n",
      "epoch:  6\n",
      "epoch:  7\n",
      "epoch:  8\n",
      "epoch:  9\n",
      "epoch:  10\n",
      "epoch:  11\n",
      "epoch:  12\n",
      "epoch:  13\n",
      "epoch:  14\n",
      "epoch:  15\n",
      "epoch:  16\n",
      "epoch:  17\n",
      "epoch:  18\n",
      "epoch:  19\n",
      "epoch:  20\n",
      "epoch:  21\n",
      "epoch:  22\n",
      "epoch:  23\n",
      "epoch:  24\n",
      "epoch:  25\n",
      "epoch:  26\n",
      "epoch:  27\n",
      "epoch:  28\n",
      "epoch:  29\n",
      "epoch:  30\n",
      "epoch:  31\n",
      "epoch:  32\n",
      "epoch:  33\n",
      "epoch:  34\n",
      "epoch:  35\n",
      "epoch:  36\n",
      "epoch:  37\n",
      "epoch:  38\n",
      "epoch:  39\n",
      "epoch:  40\n",
      "epoch:  41\n",
      "epoch:  42\n",
      "epoch:  43\n",
      "epoch:  44\n",
      "epoch:  45\n",
      "epoch:  46\n",
      "epoch:  47\n",
      "epoch:  48\n",
      "epoch:  49\n",
      "epoch:  50\n",
      "epoch:  51\n",
      "epoch:  52\n",
      "epoch:  53\n",
      "epoch:  54\n",
      "epoch:  55\n",
      "epoch:  56\n",
      "epoch:  57\n",
      "epoch:  58\n",
      "epoch:  59\n",
      "epoch:  60\n",
      "epoch:  61\n",
      "epoch:  62\n",
      "epoch:  63\n",
      "epoch:  64\n",
      "epoch:  65\n",
      "epoch:  66\n",
      "epoch:  67\n",
      "epoch:  68\n",
      "epoch:  69\n",
      "epoch:  70\n",
      "epoch:  71\n",
      "epoch:  72\n",
      "epoch:  73\n",
      "epoch:  74\n",
      "epoch:  75\n",
      "epoch:  76\n",
      "epoch:  77\n",
      "epoch:  78\n",
      "epoch:  79\n",
      "epoch:  80\n",
      "epoch:  81\n",
      "epoch:  82\n",
      "epoch:  83\n",
      "epoch:  84\n",
      "epoch:  85\n",
      "epoch:  86\n",
      "epoch:  87\n",
      "epoch:  88\n",
      "epoch:  89\n",
      "epoch:  90\n",
      "epoch:  91\n",
      "epoch:  92\n",
      "epoch:  93\n",
      "epoch:  94\n",
      "epoch:  95\n",
      "epoch:  96\n",
      "epoch:  97\n",
      "epoch:  98\n",
      "epoch:  99\n"
     ]
    }
   ],
   "source": [
    "N_TRAIN_SAMPLES = X_train.shape[0]\n",
    "N_EPOCHS = 100\n",
    "N_BATCH = 128\n",
    "N_CLASSES = np.unique(y_train)\n",
    "\n",
    "scores_train = []\n",
    "scores_test = []\n",
    "\n",
    "# EPOCH\n",
    "epoch = 0\n",
    "while epoch < N_EPOCHS:\n",
    "    print('epoch: ', epoch)\n",
    "    # SHUFFLING\n",
    "    random_perm = np.random.permutation(X_train.shape[0])\n",
    "    mini_batch_index = 0\n",
    "    while True:\n",
    "        # MINI-BATCH\n",
    "        indices = random_perm[mini_batch_index:mini_batch_index + N_BATCH]\n",
    "        model.partial_fit(X_train[indices], y_train[indices], classes=N_CLASSES)\n",
    "        mini_batch_index += N_BATCH\n",
    "\n",
    "        if mini_batch_index >= N_TRAIN_SAMPLES:\n",
    "            break\n",
    "\n",
    "    # SCORE TRAIN\n",
    "    scores_train.append(model.score(X_train, y_train))\n",
    "\n",
    "    # SCORE TEST\n",
    "    scores_test.append(model.score(X_test, y_test))\n",
    "\n",
    "    epoch += 1"
   ]
  },
  {
   "cell_type": "code",
   "execution_count": 121,
   "metadata": {},
   "outputs": [
    {
     "output_type": "display_data",
     "data": {
      "text/plain": "<Figure size 1440x720 with 2 Axes>",
      "image/svg+xml": "<?xml version=\"1.0\" encoding=\"utf-8\" standalone=\"no\"?>\n<!DOCTYPE svg PUBLIC \"-//W3C//DTD SVG 1.1//EN\"\n  \"http://www.w3.org/Graphics/SVG/1.1/DTD/svg11.dtd\">\n<!-- Created with matplotlib (https://matplotlib.org/) -->\n<svg height=\"646.678125pt\" version=\"1.1\" viewBox=\"0 0 1159.665625 646.678125\" width=\"1159.665625pt\" xmlns=\"http://www.w3.org/2000/svg\" xmlns:xlink=\"http://www.w3.org/1999/xlink\">\n <defs>\n  <style type=\"text/css\">\n*{stroke-linecap:butt;stroke-linejoin:round;}\n  </style>\n </defs>\n <g id=\"figure_1\">\n  <g id=\"patch_1\">\n   <path d=\"M 0 646.678125 \nL 1159.665625 646.678125 \nL 1159.665625 0 \nL 0 0 \nz\n\" style=\"fill:none;\"/>\n  </g>\n  <g id=\"axes_1\">\n   <g id=\"patch_2\">\n    <path d=\"M 36.465625 326.290909 \nL 1152.465625 326.290909 \nL 1152.465625 79.2 \nL 36.465625 79.2 \nz\n\" style=\"fill:#ffffff;\"/>\n   </g>\n   <g id=\"matplotlib.axis_1\">\n    <g id=\"xtick_1\">\n     <g id=\"line2d_1\">\n      <defs>\n       <path d=\"M 0 0 \nL 0 3.5 \n\" id=\"mb6bc89969b\" style=\"stroke:#000000;stroke-width:0.8;\"/>\n      </defs>\n      <g>\n       <use style=\"stroke:#000000;stroke-width:0.8;\" x=\"87.192898\" xlink:href=\"#mb6bc89969b\" y=\"326.290909\"/>\n      </g>\n     </g>\n    </g>\n    <g id=\"xtick_2\">\n     <g id=\"line2d_2\">\n      <g>\n       <use style=\"stroke:#000000;stroke-width:0.8;\" x=\"292.151575\" xlink:href=\"#mb6bc89969b\" y=\"326.290909\"/>\n      </g>\n     </g>\n    </g>\n    <g id=\"xtick_3\">\n     <g id=\"line2d_3\">\n      <g>\n       <use style=\"stroke:#000000;stroke-width:0.8;\" x=\"497.110253\" xlink:href=\"#mb6bc89969b\" y=\"326.290909\"/>\n      </g>\n     </g>\n    </g>\n    <g id=\"xtick_4\">\n     <g id=\"line2d_4\">\n      <g>\n       <use style=\"stroke:#000000;stroke-width:0.8;\" x=\"702.068931\" xlink:href=\"#mb6bc89969b\" y=\"326.290909\"/>\n      </g>\n     </g>\n    </g>\n    <g id=\"xtick_5\">\n     <g id=\"line2d_5\">\n      <g>\n       <use style=\"stroke:#000000;stroke-width:0.8;\" x=\"907.027608\" xlink:href=\"#mb6bc89969b\" y=\"326.290909\"/>\n      </g>\n     </g>\n    </g>\n    <g id=\"xtick_6\">\n     <g id=\"line2d_6\">\n      <g>\n       <use style=\"stroke:#000000;stroke-width:0.8;\" x=\"1111.986286\" xlink:href=\"#mb6bc89969b\" y=\"326.290909\"/>\n      </g>\n     </g>\n    </g>\n   </g>\n   <g id=\"matplotlib.axis_2\">\n    <g id=\"ytick_1\">\n     <g id=\"line2d_7\">\n      <defs>\n       <path d=\"M 0 0 \nL -3.5 0 \n\" id=\"m61aefb4296\" style=\"stroke:#000000;stroke-width:0.8;\"/>\n      </defs>\n      <g>\n       <use style=\"stroke:#000000;stroke-width:0.8;\" x=\"36.465625\" xlink:href=\"#m61aefb4296\" y=\"304.646468\"/>\n      </g>\n     </g>\n     <g id=\"text_1\">\n      <!-- 0.51 -->\n      <defs>\n       <path d=\"M 31.78125 66.40625 \nQ 24.171875 66.40625 20.328125 58.90625 \nQ 16.5 51.421875 16.5 36.375 \nQ 16.5 21.390625 20.328125 13.890625 \nQ 24.171875 6.390625 31.78125 6.390625 \nQ 39.453125 6.390625 43.28125 13.890625 \nQ 47.125 21.390625 47.125 36.375 \nQ 47.125 51.421875 43.28125 58.90625 \nQ 39.453125 66.40625 31.78125 66.40625 \nz\nM 31.78125 74.21875 \nQ 44.046875 74.21875 50.515625 64.515625 \nQ 56.984375 54.828125 56.984375 36.375 \nQ 56.984375 17.96875 50.515625 8.265625 \nQ 44.046875 -1.421875 31.78125 -1.421875 \nQ 19.53125 -1.421875 13.0625 8.265625 \nQ 6.59375 17.96875 6.59375 36.375 \nQ 6.59375 54.828125 13.0625 64.515625 \nQ 19.53125 74.21875 31.78125 74.21875 \nz\n\" id=\"DejaVuSans-48\"/>\n       <path d=\"M 10.6875 12.40625 \nL 21 12.40625 \nL 21 0 \nL 10.6875 0 \nz\n\" id=\"DejaVuSans-46\"/>\n       <path d=\"M 10.796875 72.90625 \nL 49.515625 72.90625 \nL 49.515625 64.59375 \nL 19.828125 64.59375 \nL 19.828125 46.734375 \nQ 21.96875 47.46875 24.109375 47.828125 \nQ 26.265625 48.1875 28.421875 48.1875 \nQ 40.625 48.1875 47.75 41.5 \nQ 54.890625 34.8125 54.890625 23.390625 \nQ 54.890625 11.625 47.5625 5.09375 \nQ 40.234375 -1.421875 26.90625 -1.421875 \nQ 22.3125 -1.421875 17.546875 -0.640625 \nQ 12.796875 0.140625 7.71875 1.703125 \nL 7.71875 11.625 \nQ 12.109375 9.234375 16.796875 8.0625 \nQ 21.484375 6.890625 26.703125 6.890625 \nQ 35.15625 6.890625 40.078125 11.328125 \nQ 45.015625 15.765625 45.015625 23.390625 \nQ 45.015625 31 40.078125 35.4375 \nQ 35.15625 39.890625 26.703125 39.890625 \nQ 22.75 39.890625 18.8125 39.015625 \nQ 14.890625 38.140625 10.796875 36.28125 \nz\n\" id=\"DejaVuSans-53\"/>\n       <path d=\"M 12.40625 8.296875 \nL 28.515625 8.296875 \nL 28.515625 63.921875 \nL 10.984375 60.40625 \nL 10.984375 69.390625 \nL 28.421875 72.90625 \nL 38.28125 72.90625 \nL 38.28125 8.296875 \nL 54.390625 8.296875 \nL 54.390625 0 \nL 12.40625 0 \nz\n\" id=\"DejaVuSans-49\"/>\n      </defs>\n      <g transform=\"translate(7.2 308.445687)scale(0.1 -0.1)\">\n       <use xlink:href=\"#DejaVuSans-48\"/>\n       <use x=\"63.623047\" xlink:href=\"#DejaVuSans-46\"/>\n       <use x=\"95.410156\" xlink:href=\"#DejaVuSans-53\"/>\n       <use x=\"159.033203\" xlink:href=\"#DejaVuSans-49\"/>\n      </g>\n     </g>\n    </g>\n    <g id=\"ytick_2\">\n     <g id=\"line2d_8\">\n      <g>\n       <use style=\"stroke:#000000;stroke-width:0.8;\" x=\"36.465625\" xlink:href=\"#m61aefb4296\" y=\"269.682371\"/>\n      </g>\n     </g>\n     <g id=\"text_2\">\n      <!-- 0.52 -->\n      <defs>\n       <path d=\"M 19.1875 8.296875 \nL 53.609375 8.296875 \nL 53.609375 0 \nL 7.328125 0 \nL 7.328125 8.296875 \nQ 12.9375 14.109375 22.625 23.890625 \nQ 32.328125 33.6875 34.8125 36.53125 \nQ 39.546875 41.84375 41.421875 45.53125 \nQ 43.3125 49.21875 43.3125 52.78125 \nQ 43.3125 58.59375 39.234375 62.25 \nQ 35.15625 65.921875 28.609375 65.921875 \nQ 23.96875 65.921875 18.8125 64.3125 \nQ 13.671875 62.703125 7.8125 59.421875 \nL 7.8125 69.390625 \nQ 13.765625 71.78125 18.9375 73 \nQ 24.125 74.21875 28.421875 74.21875 \nQ 39.75 74.21875 46.484375 68.546875 \nQ 53.21875 62.890625 53.21875 53.421875 \nQ 53.21875 48.921875 51.53125 44.890625 \nQ 49.859375 40.875 45.40625 35.40625 \nQ 44.1875 33.984375 37.640625 27.21875 \nQ 31.109375 20.453125 19.1875 8.296875 \nz\n\" id=\"DejaVuSans-50\"/>\n      </defs>\n      <g transform=\"translate(7.2 273.481589)scale(0.1 -0.1)\">\n       <use xlink:href=\"#DejaVuSans-48\"/>\n       <use x=\"63.623047\" xlink:href=\"#DejaVuSans-46\"/>\n       <use x=\"95.410156\" xlink:href=\"#DejaVuSans-53\"/>\n       <use x=\"159.033203\" xlink:href=\"#DejaVuSans-50\"/>\n      </g>\n     </g>\n    </g>\n    <g id=\"ytick_3\">\n     <g id=\"line2d_9\">\n      <g>\n       <use style=\"stroke:#000000;stroke-width:0.8;\" x=\"36.465625\" xlink:href=\"#m61aefb4296\" y=\"234.718273\"/>\n      </g>\n     </g>\n     <g id=\"text_3\">\n      <!-- 0.53 -->\n      <defs>\n       <path d=\"M 40.578125 39.3125 \nQ 47.65625 37.796875 51.625 33 \nQ 55.609375 28.21875 55.609375 21.1875 \nQ 55.609375 10.40625 48.1875 4.484375 \nQ 40.765625 -1.421875 27.09375 -1.421875 \nQ 22.515625 -1.421875 17.65625 -0.515625 \nQ 12.796875 0.390625 7.625 2.203125 \nL 7.625 11.71875 \nQ 11.71875 9.328125 16.59375 8.109375 \nQ 21.484375 6.890625 26.8125 6.890625 \nQ 36.078125 6.890625 40.9375 10.546875 \nQ 45.796875 14.203125 45.796875 21.1875 \nQ 45.796875 27.640625 41.28125 31.265625 \nQ 36.765625 34.90625 28.71875 34.90625 \nL 20.21875 34.90625 \nL 20.21875 43.015625 \nL 29.109375 43.015625 \nQ 36.375 43.015625 40.234375 45.921875 \nQ 44.09375 48.828125 44.09375 54.296875 \nQ 44.09375 59.90625 40.109375 62.90625 \nQ 36.140625 65.921875 28.71875 65.921875 \nQ 24.65625 65.921875 20.015625 65.03125 \nQ 15.375 64.15625 9.8125 62.3125 \nL 9.8125 71.09375 \nQ 15.4375 72.65625 20.34375 73.4375 \nQ 25.25 74.21875 29.59375 74.21875 \nQ 40.828125 74.21875 47.359375 69.109375 \nQ 53.90625 64.015625 53.90625 55.328125 \nQ 53.90625 49.265625 50.4375 45.09375 \nQ 46.96875 40.921875 40.578125 39.3125 \nz\n\" id=\"DejaVuSans-51\"/>\n      </defs>\n      <g transform=\"translate(7.2 238.517492)scale(0.1 -0.1)\">\n       <use xlink:href=\"#DejaVuSans-48\"/>\n       <use x=\"63.623047\" xlink:href=\"#DejaVuSans-46\"/>\n       <use x=\"95.410156\" xlink:href=\"#DejaVuSans-53\"/>\n       <use x=\"159.033203\" xlink:href=\"#DejaVuSans-51\"/>\n      </g>\n     </g>\n    </g>\n    <g id=\"ytick_4\">\n     <g id=\"line2d_10\">\n      <g>\n       <use style=\"stroke:#000000;stroke-width:0.8;\" x=\"36.465625\" xlink:href=\"#m61aefb4296\" y=\"199.754176\"/>\n      </g>\n     </g>\n     <g id=\"text_4\">\n      <!-- 0.54 -->\n      <defs>\n       <path d=\"M 37.796875 64.3125 \nL 12.890625 25.390625 \nL 37.796875 25.390625 \nz\nM 35.203125 72.90625 \nL 47.609375 72.90625 \nL 47.609375 25.390625 \nL 58.015625 25.390625 \nL 58.015625 17.1875 \nL 47.609375 17.1875 \nL 47.609375 0 \nL 37.796875 0 \nL 37.796875 17.1875 \nL 4.890625 17.1875 \nL 4.890625 26.703125 \nz\n\" id=\"DejaVuSans-52\"/>\n      </defs>\n      <g transform=\"translate(7.2 203.553395)scale(0.1 -0.1)\">\n       <use xlink:href=\"#DejaVuSans-48\"/>\n       <use x=\"63.623047\" xlink:href=\"#DejaVuSans-46\"/>\n       <use x=\"95.410156\" xlink:href=\"#DejaVuSans-53\"/>\n       <use x=\"159.033203\" xlink:href=\"#DejaVuSans-52\"/>\n      </g>\n     </g>\n    </g>\n    <g id=\"ytick_5\">\n     <g id=\"line2d_11\">\n      <g>\n       <use style=\"stroke:#000000;stroke-width:0.8;\" x=\"36.465625\" xlink:href=\"#m61aefb4296\" y=\"164.790078\"/>\n      </g>\n     </g>\n     <g id=\"text_5\">\n      <!-- 0.55 -->\n      <g transform=\"translate(7.2 168.589297)scale(0.1 -0.1)\">\n       <use xlink:href=\"#DejaVuSans-48\"/>\n       <use x=\"63.623047\" xlink:href=\"#DejaVuSans-46\"/>\n       <use x=\"95.410156\" xlink:href=\"#DejaVuSans-53\"/>\n       <use x=\"159.033203\" xlink:href=\"#DejaVuSans-53\"/>\n      </g>\n     </g>\n    </g>\n    <g id=\"ytick_6\">\n     <g id=\"line2d_12\">\n      <g>\n       <use style=\"stroke:#000000;stroke-width:0.8;\" x=\"36.465625\" xlink:href=\"#m61aefb4296\" y=\"129.825981\"/>\n      </g>\n     </g>\n     <g id=\"text_6\">\n      <!-- 0.56 -->\n      <defs>\n       <path d=\"M 33.015625 40.375 \nQ 26.375 40.375 22.484375 35.828125 \nQ 18.609375 31.296875 18.609375 23.390625 \nQ 18.609375 15.53125 22.484375 10.953125 \nQ 26.375 6.390625 33.015625 6.390625 \nQ 39.65625 6.390625 43.53125 10.953125 \nQ 47.40625 15.53125 47.40625 23.390625 \nQ 47.40625 31.296875 43.53125 35.828125 \nQ 39.65625 40.375 33.015625 40.375 \nz\nM 52.59375 71.296875 \nL 52.59375 62.3125 \nQ 48.875 64.0625 45.09375 64.984375 \nQ 41.3125 65.921875 37.59375 65.921875 \nQ 27.828125 65.921875 22.671875 59.328125 \nQ 17.53125 52.734375 16.796875 39.40625 \nQ 19.671875 43.65625 24.015625 45.921875 \nQ 28.375 48.1875 33.59375 48.1875 \nQ 44.578125 48.1875 50.953125 41.515625 \nQ 57.328125 34.859375 57.328125 23.390625 \nQ 57.328125 12.15625 50.6875 5.359375 \nQ 44.046875 -1.421875 33.015625 -1.421875 \nQ 20.359375 -1.421875 13.671875 8.265625 \nQ 6.984375 17.96875 6.984375 36.375 \nQ 6.984375 53.65625 15.1875 63.9375 \nQ 23.390625 74.21875 37.203125 74.21875 \nQ 40.921875 74.21875 44.703125 73.484375 \nQ 48.484375 72.75 52.59375 71.296875 \nz\n\" id=\"DejaVuSans-54\"/>\n      </defs>\n      <g transform=\"translate(7.2 133.6252)scale(0.1 -0.1)\">\n       <use xlink:href=\"#DejaVuSans-48\"/>\n       <use x=\"63.623047\" xlink:href=\"#DejaVuSans-46\"/>\n       <use x=\"95.410156\" xlink:href=\"#DejaVuSans-53\"/>\n       <use x=\"159.033203\" xlink:href=\"#DejaVuSans-54\"/>\n      </g>\n     </g>\n    </g>\n    <g id=\"ytick_7\">\n     <g id=\"line2d_13\">\n      <g>\n       <use style=\"stroke:#000000;stroke-width:0.8;\" x=\"36.465625\" xlink:href=\"#m61aefb4296\" y=\"94.861884\"/>\n      </g>\n     </g>\n     <g id=\"text_7\">\n      <!-- 0.57 -->\n      <defs>\n       <path d=\"M 8.203125 72.90625 \nL 55.078125 72.90625 \nL 55.078125 68.703125 \nL 28.609375 0 \nL 18.3125 0 \nL 43.21875 64.59375 \nL 8.203125 64.59375 \nz\n\" id=\"DejaVuSans-55\"/>\n      </defs>\n      <g transform=\"translate(7.2 98.661103)scale(0.1 -0.1)\">\n       <use xlink:href=\"#DejaVuSans-48\"/>\n       <use x=\"63.623047\" xlink:href=\"#DejaVuSans-46\"/>\n       <use x=\"95.410156\" xlink:href=\"#DejaVuSans-53\"/>\n       <use x=\"159.033203\" xlink:href=\"#DejaVuSans-55\"/>\n      </g>\n     </g>\n    </g>\n   </g>\n   <g id=\"line2d_14\">\n    <path clip-path=\"url(#pf4125604a9)\" d=\"M 87.192898 109.056348 \nL 97.440832 100.308269 \nL 107.688765 99.179484 \nL 117.936699 98.332896 \nL 128.184633 98.332896 \nL 138.432567 98.332896 \nL 148.680501 98.0507 \nL 158.928435 98.0507 \nL 169.176369 98.0507 \nL 179.424303 98.0507 \nL 189.672237 98.0507 \nL 199.92017 98.0507 \nL 210.168104 98.0507 \nL 220.416038 98.0507 \nL 230.663972 98.0507 \nL 240.911906 98.0507 \nL 251.15984 98.0507 \nL 261.407774 98.0507 \nL 271.655708 97.768504 \nL 281.903642 97.768504 \nL 292.151575 98.0507 \nL 302.399509 97.486308 \nL 312.647443 97.768504 \nL 322.895377 97.486308 \nL 333.143311 97.486308 \nL 343.391245 97.486308 \nL 353.639179 97.486308 \nL 363.887113 97.486308 \nL 374.135046 97.486308 \nL 384.38298 97.486308 \nL 394.630914 97.486308 \nL 404.878848 97.486308 \nL 415.126782 97.486308 \nL 425.374716 97.486308 \nL 435.62265 97.486308 \nL 445.870584 97.486308 \nL 456.118518 97.486308 \nL 466.366451 97.486308 \nL 476.614385 96.921915 \nL 486.862319 96.921915 \nL 497.110253 96.921915 \nL 507.358187 96.921915 \nL 517.606121 96.921915 \nL 527.854055 96.921915 \nL 538.101989 96.921915 \nL 548.349923 96.921915 \nL 558.597856 96.921915 \nL 568.84579 96.921915 \nL 579.093724 96.921915 \nL 589.341658 96.921915 \nL 599.589592 96.921915 \nL 609.837526 96.921915 \nL 620.08546 96.921915 \nL 630.333394 96.921915 \nL 640.581327 96.921915 \nL 650.829261 96.921915 \nL 661.077195 96.921915 \nL 671.325129 96.921915 \nL 681.573063 96.921915 \nL 691.820997 96.921915 \nL 702.068931 96.921915 \nL 712.316865 96.921915 \nL 722.564799 96.921915 \nL 732.812732 96.921915 \nL 743.060666 96.921915 \nL 753.3086 96.921915 \nL 763.556534 96.921915 \nL 773.804468 96.921915 \nL 784.052402 96.921915 \nL 794.300336 96.921915 \nL 804.54827 96.921915 \nL 814.796204 96.921915 \nL 825.044137 96.921915 \nL 835.292071 96.921915 \nL 845.540005 96.921915 \nL 855.787939 96.921915 \nL 866.035873 96.921915 \nL 876.283807 96.921915 \nL 886.531741 96.921915 \nL 896.779675 96.921915 \nL 907.027608 96.921915 \nL 917.275542 96.921915 \nL 927.523476 96.921915 \nL 937.77141 96.921915 \nL 948.019344 96.921915 \nL 958.267278 96.921915 \nL 968.515212 96.921915 \nL 978.763146 96.921915 \nL 989.01108 96.921915 \nL 999.259013 96.921915 \nL 1009.506947 96.921915 \nL 1019.754881 96.921915 \nL 1030.002815 96.921915 \nL 1040.250749 96.921915 \nL 1050.498683 96.921915 \nL 1060.746617 100.026073 \nL 1070.994551 313.084131 \nL 1081.242485 96.921915 \nL 1091.490418 96.921915 \nL 1101.738352 96.921915 \n\" style=\"fill:none;stroke:#1f77b4;stroke-linecap:square;stroke-width:1.5;\"/>\n   </g>\n   <g id=\"patch_3\">\n    <path d=\"M 36.465625 326.290909 \nL 36.465625 79.2 \n\" style=\"fill:none;stroke:#000000;stroke-linecap:square;stroke-linejoin:miter;stroke-width:0.8;\"/>\n   </g>\n   <g id=\"patch_4\">\n    <path d=\"M 1152.465625 326.290909 \nL 1152.465625 79.2 \n\" style=\"fill:none;stroke:#000000;stroke-linecap:square;stroke-linejoin:miter;stroke-width:0.8;\"/>\n   </g>\n   <g id=\"patch_5\">\n    <path d=\"M 36.465625 326.290909 \nL 1152.465625 326.290909 \n\" style=\"fill:none;stroke:#000000;stroke-linecap:square;stroke-linejoin:miter;stroke-width:0.8;\"/>\n   </g>\n   <g id=\"patch_6\">\n    <path d=\"M 36.465625 79.2 \nL 1152.465625 79.2 \n\" style=\"fill:none;stroke:#000000;stroke-linecap:square;stroke-linejoin:miter;stroke-width:0.8;\"/>\n   </g>\n   <g id=\"text_8\">\n    <!-- Train -->\n    <defs>\n     <path d=\"M -0.296875 72.90625 \nL 61.375 72.90625 \nL 61.375 64.59375 \nL 35.5 64.59375 \nL 35.5 0 \nL 25.59375 0 \nL 25.59375 64.59375 \nL -0.296875 64.59375 \nz\n\" id=\"DejaVuSans-84\"/>\n     <path d=\"M 41.109375 46.296875 \nQ 39.59375 47.171875 37.8125 47.578125 \nQ 36.03125 48 33.890625 48 \nQ 26.265625 48 22.1875 43.046875 \nQ 18.109375 38.09375 18.109375 28.8125 \nL 18.109375 0 \nL 9.078125 0 \nL 9.078125 54.6875 \nL 18.109375 54.6875 \nL 18.109375 46.1875 \nQ 20.953125 51.171875 25.484375 53.578125 \nQ 30.03125 56 36.53125 56 \nQ 37.453125 56 38.578125 55.875 \nQ 39.703125 55.765625 41.0625 55.515625 \nz\n\" id=\"DejaVuSans-114\"/>\n     <path d=\"M 34.28125 27.484375 \nQ 23.390625 27.484375 19.1875 25 \nQ 14.984375 22.515625 14.984375 16.5 \nQ 14.984375 11.71875 18.140625 8.90625 \nQ 21.296875 6.109375 26.703125 6.109375 \nQ 34.1875 6.109375 38.703125 11.40625 \nQ 43.21875 16.703125 43.21875 25.484375 \nL 43.21875 27.484375 \nz\nM 52.203125 31.203125 \nL 52.203125 0 \nL 43.21875 0 \nL 43.21875 8.296875 \nQ 40.140625 3.328125 35.546875 0.953125 \nQ 30.953125 -1.421875 24.3125 -1.421875 \nQ 15.921875 -1.421875 10.953125 3.296875 \nQ 6 8.015625 6 15.921875 \nQ 6 25.140625 12.171875 29.828125 \nQ 18.359375 34.515625 30.609375 34.515625 \nL 43.21875 34.515625 \nL 43.21875 35.40625 \nQ 43.21875 41.609375 39.140625 45 \nQ 35.0625 48.390625 27.6875 48.390625 \nQ 23 48.390625 18.546875 47.265625 \nQ 14.109375 46.140625 10.015625 43.890625 \nL 10.015625 52.203125 \nQ 14.9375 54.109375 19.578125 55.046875 \nQ 24.21875 56 28.609375 56 \nQ 40.484375 56 46.34375 49.84375 \nQ 52.203125 43.703125 52.203125 31.203125 \nz\n\" id=\"DejaVuSans-97\"/>\n     <path d=\"M 9.421875 54.6875 \nL 18.40625 54.6875 \nL 18.40625 0 \nL 9.421875 0 \nz\nM 9.421875 75.984375 \nL 18.40625 75.984375 \nL 18.40625 64.59375 \nL 9.421875 64.59375 \nz\n\" id=\"DejaVuSans-105\"/>\n     <path d=\"M 54.890625 33.015625 \nL 54.890625 0 \nL 45.90625 0 \nL 45.90625 32.71875 \nQ 45.90625 40.484375 42.875 44.328125 \nQ 39.84375 48.1875 33.796875 48.1875 \nQ 26.515625 48.1875 22.3125 43.546875 \nQ 18.109375 38.921875 18.109375 30.90625 \nL 18.109375 0 \nL 9.078125 0 \nL 9.078125 54.6875 \nL 18.109375 54.6875 \nL 18.109375 46.1875 \nQ 21.34375 51.125 25.703125 53.5625 \nQ 30.078125 56 35.796875 56 \nQ 45.21875 56 50.046875 50.171875 \nQ 54.890625 44.34375 54.890625 33.015625 \nz\n\" id=\"DejaVuSans-110\"/>\n    </defs>\n    <g transform=\"translate(579.20125 73.2)scale(0.12 -0.12)\">\n     <use xlink:href=\"#DejaVuSans-84\"/>\n     <use x=\"60.865234\" xlink:href=\"#DejaVuSans-114\"/>\n     <use x=\"101.978516\" xlink:href=\"#DejaVuSans-97\"/>\n     <use x=\"163.257812\" xlink:href=\"#DejaVuSans-105\"/>\n     <use x=\"191.041016\" xlink:href=\"#DejaVuSans-110\"/>\n    </g>\n   </g>\n  </g>\n  <g id=\"axes_2\">\n   <g id=\"patch_7\">\n    <path d=\"M 36.465625 622.8 \nL 1152.465625 622.8 \nL 1152.465625 375.709091 \nL 36.465625 375.709091 \nz\n\" style=\"fill:#ffffff;\"/>\n   </g>\n   <g id=\"matplotlib.axis_3\">\n    <g id=\"xtick_7\">\n     <g id=\"line2d_15\">\n      <g>\n       <use style=\"stroke:#000000;stroke-width:0.8;\" x=\"87.192898\" xlink:href=\"#mb6bc89969b\" y=\"622.8\"/>\n      </g>\n     </g>\n     <g id=\"text_9\">\n      <!-- 0 -->\n      <g transform=\"translate(84.011648 637.398437)scale(0.1 -0.1)\">\n       <use xlink:href=\"#DejaVuSans-48\"/>\n      </g>\n     </g>\n    </g>\n    <g id=\"xtick_8\">\n     <g id=\"line2d_16\">\n      <g>\n       <use style=\"stroke:#000000;stroke-width:0.8;\" x=\"292.151575\" xlink:href=\"#mb6bc89969b\" y=\"622.8\"/>\n      </g>\n     </g>\n     <g id=\"text_10\">\n      <!-- 20 -->\n      <g transform=\"translate(285.789075 637.398437)scale(0.1 -0.1)\">\n       <use xlink:href=\"#DejaVuSans-50\"/>\n       <use x=\"63.623047\" xlink:href=\"#DejaVuSans-48\"/>\n      </g>\n     </g>\n    </g>\n    <g id=\"xtick_9\">\n     <g id=\"line2d_17\">\n      <g>\n       <use style=\"stroke:#000000;stroke-width:0.8;\" x=\"497.110253\" xlink:href=\"#mb6bc89969b\" y=\"622.8\"/>\n      </g>\n     </g>\n     <g id=\"text_11\">\n      <!-- 40 -->\n      <g transform=\"translate(490.747753 637.398437)scale(0.1 -0.1)\">\n       <use xlink:href=\"#DejaVuSans-52\"/>\n       <use x=\"63.623047\" xlink:href=\"#DejaVuSans-48\"/>\n      </g>\n     </g>\n    </g>\n    <g id=\"xtick_10\">\n     <g id=\"line2d_18\">\n      <g>\n       <use style=\"stroke:#000000;stroke-width:0.8;\" x=\"702.068931\" xlink:href=\"#mb6bc89969b\" y=\"622.8\"/>\n      </g>\n     </g>\n     <g id=\"text_12\">\n      <!-- 60 -->\n      <g transform=\"translate(695.706431 637.398437)scale(0.1 -0.1)\">\n       <use xlink:href=\"#DejaVuSans-54\"/>\n       <use x=\"63.623047\" xlink:href=\"#DejaVuSans-48\"/>\n      </g>\n     </g>\n    </g>\n    <g id=\"xtick_11\">\n     <g id=\"line2d_19\">\n      <g>\n       <use style=\"stroke:#000000;stroke-width:0.8;\" x=\"907.027608\" xlink:href=\"#mb6bc89969b\" y=\"622.8\"/>\n      </g>\n     </g>\n     <g id=\"text_13\">\n      <!-- 80 -->\n      <defs>\n       <path d=\"M 31.78125 34.625 \nQ 24.75 34.625 20.71875 30.859375 \nQ 16.703125 27.09375 16.703125 20.515625 \nQ 16.703125 13.921875 20.71875 10.15625 \nQ 24.75 6.390625 31.78125 6.390625 \nQ 38.8125 6.390625 42.859375 10.171875 \nQ 46.921875 13.96875 46.921875 20.515625 \nQ 46.921875 27.09375 42.890625 30.859375 \nQ 38.875 34.625 31.78125 34.625 \nz\nM 21.921875 38.8125 \nQ 15.578125 40.375 12.03125 44.71875 \nQ 8.5 49.078125 8.5 55.328125 \nQ 8.5 64.0625 14.71875 69.140625 \nQ 20.953125 74.21875 31.78125 74.21875 \nQ 42.671875 74.21875 48.875 69.140625 \nQ 55.078125 64.0625 55.078125 55.328125 \nQ 55.078125 49.078125 51.53125 44.71875 \nQ 48 40.375 41.703125 38.8125 \nQ 48.828125 37.15625 52.796875 32.3125 \nQ 56.78125 27.484375 56.78125 20.515625 \nQ 56.78125 9.90625 50.3125 4.234375 \nQ 43.84375 -1.421875 31.78125 -1.421875 \nQ 19.734375 -1.421875 13.25 4.234375 \nQ 6.78125 9.90625 6.78125 20.515625 \nQ 6.78125 27.484375 10.78125 32.3125 \nQ 14.796875 37.15625 21.921875 38.8125 \nz\nM 18.3125 54.390625 \nQ 18.3125 48.734375 21.84375 45.5625 \nQ 25.390625 42.390625 31.78125 42.390625 \nQ 38.140625 42.390625 41.71875 45.5625 \nQ 45.3125 48.734375 45.3125 54.390625 \nQ 45.3125 60.0625 41.71875 63.234375 \nQ 38.140625 66.40625 31.78125 66.40625 \nQ 25.390625 66.40625 21.84375 63.234375 \nQ 18.3125 60.0625 18.3125 54.390625 \nz\n\" id=\"DejaVuSans-56\"/>\n      </defs>\n      <g transform=\"translate(900.665108 637.398437)scale(0.1 -0.1)\">\n       <use xlink:href=\"#DejaVuSans-56\"/>\n       <use x=\"63.623047\" xlink:href=\"#DejaVuSans-48\"/>\n      </g>\n     </g>\n    </g>\n    <g id=\"xtick_12\">\n     <g id=\"line2d_20\">\n      <g>\n       <use style=\"stroke:#000000;stroke-width:0.8;\" x=\"1111.986286\" xlink:href=\"#mb6bc89969b\" y=\"622.8\"/>\n      </g>\n     </g>\n     <g id=\"text_14\">\n      <!-- 100 -->\n      <g transform=\"translate(1102.442536 637.398437)scale(0.1 -0.1)\">\n       <use xlink:href=\"#DejaVuSans-49\"/>\n       <use x=\"63.623047\" xlink:href=\"#DejaVuSans-48\"/>\n       <use x=\"127.246094\" xlink:href=\"#DejaVuSans-48\"/>\n      </g>\n     </g>\n    </g>\n   </g>\n   <g id=\"matplotlib.axis_4\">\n    <g id=\"ytick_8\">\n     <g id=\"line2d_21\">\n      <g>\n       <use style=\"stroke:#000000;stroke-width:0.8;\" x=\"36.465625\" xlink:href=\"#m61aefb4296\" y=\"601.155559\"/>\n      </g>\n     </g>\n     <g id=\"text_15\">\n      <!-- 0.51 -->\n      <g transform=\"translate(7.2 604.954778)scale(0.1 -0.1)\">\n       <use xlink:href=\"#DejaVuSans-48\"/>\n       <use x=\"63.623047\" xlink:href=\"#DejaVuSans-46\"/>\n       <use x=\"95.410156\" xlink:href=\"#DejaVuSans-53\"/>\n       <use x=\"159.033203\" xlink:href=\"#DejaVuSans-49\"/>\n      </g>\n     </g>\n    </g>\n    <g id=\"ytick_9\">\n     <g id=\"line2d_22\">\n      <g>\n       <use style=\"stroke:#000000;stroke-width:0.8;\" x=\"36.465625\" xlink:href=\"#m61aefb4296\" y=\"566.191461\"/>\n      </g>\n     </g>\n     <g id=\"text_16\">\n      <!-- 0.52 -->\n      <g transform=\"translate(7.2 569.99068)scale(0.1 -0.1)\">\n       <use xlink:href=\"#DejaVuSans-48\"/>\n       <use x=\"63.623047\" xlink:href=\"#DejaVuSans-46\"/>\n       <use x=\"95.410156\" xlink:href=\"#DejaVuSans-53\"/>\n       <use x=\"159.033203\" xlink:href=\"#DejaVuSans-50\"/>\n      </g>\n     </g>\n    </g>\n    <g id=\"ytick_10\">\n     <g id=\"line2d_23\">\n      <g>\n       <use style=\"stroke:#000000;stroke-width:0.8;\" x=\"36.465625\" xlink:href=\"#m61aefb4296\" y=\"531.227364\"/>\n      </g>\n     </g>\n     <g id=\"text_17\">\n      <!-- 0.53 -->\n      <g transform=\"translate(7.2 535.026583)scale(0.1 -0.1)\">\n       <use xlink:href=\"#DejaVuSans-48\"/>\n       <use x=\"63.623047\" xlink:href=\"#DejaVuSans-46\"/>\n       <use x=\"95.410156\" xlink:href=\"#DejaVuSans-53\"/>\n       <use x=\"159.033203\" xlink:href=\"#DejaVuSans-51\"/>\n      </g>\n     </g>\n    </g>\n    <g id=\"ytick_11\">\n     <g id=\"line2d_24\">\n      <g>\n       <use style=\"stroke:#000000;stroke-width:0.8;\" x=\"36.465625\" xlink:href=\"#m61aefb4296\" y=\"496.263267\"/>\n      </g>\n     </g>\n     <g id=\"text_18\">\n      <!-- 0.54 -->\n      <g transform=\"translate(7.2 500.062485)scale(0.1 -0.1)\">\n       <use xlink:href=\"#DejaVuSans-48\"/>\n       <use x=\"63.623047\" xlink:href=\"#DejaVuSans-46\"/>\n       <use x=\"95.410156\" xlink:href=\"#DejaVuSans-53\"/>\n       <use x=\"159.033203\" xlink:href=\"#DejaVuSans-52\"/>\n      </g>\n     </g>\n    </g>\n    <g id=\"ytick_12\">\n     <g id=\"line2d_25\">\n      <g>\n       <use style=\"stroke:#000000;stroke-width:0.8;\" x=\"36.465625\" xlink:href=\"#m61aefb4296\" y=\"461.299169\"/>\n      </g>\n     </g>\n     <g id=\"text_19\">\n      <!-- 0.55 -->\n      <g transform=\"translate(7.2 465.098388)scale(0.1 -0.1)\">\n       <use xlink:href=\"#DejaVuSans-48\"/>\n       <use x=\"63.623047\" xlink:href=\"#DejaVuSans-46\"/>\n       <use x=\"95.410156\" xlink:href=\"#DejaVuSans-53\"/>\n       <use x=\"159.033203\" xlink:href=\"#DejaVuSans-53\"/>\n      </g>\n     </g>\n    </g>\n    <g id=\"ytick_13\">\n     <g id=\"line2d_26\">\n      <g>\n       <use style=\"stroke:#000000;stroke-width:0.8;\" x=\"36.465625\" xlink:href=\"#m61aefb4296\" y=\"426.335072\"/>\n      </g>\n     </g>\n     <g id=\"text_20\">\n      <!-- 0.56 -->\n      <g transform=\"translate(7.2 430.134291)scale(0.1 -0.1)\">\n       <use xlink:href=\"#DejaVuSans-48\"/>\n       <use x=\"63.623047\" xlink:href=\"#DejaVuSans-46\"/>\n       <use x=\"95.410156\" xlink:href=\"#DejaVuSans-53\"/>\n       <use x=\"159.033203\" xlink:href=\"#DejaVuSans-54\"/>\n      </g>\n     </g>\n    </g>\n    <g id=\"ytick_14\">\n     <g id=\"line2d_27\">\n      <g>\n       <use style=\"stroke:#000000;stroke-width:0.8;\" x=\"36.465625\" xlink:href=\"#m61aefb4296\" y=\"391.370975\"/>\n      </g>\n     </g>\n     <g id=\"text_21\">\n      <!-- 0.57 -->\n      <g transform=\"translate(7.2 395.170193)scale(0.1 -0.1)\">\n       <use xlink:href=\"#DejaVuSans-48\"/>\n       <use x=\"63.623047\" xlink:href=\"#DejaVuSans-46\"/>\n       <use x=\"95.410156\" xlink:href=\"#DejaVuSans-53\"/>\n       <use x=\"159.033203\" xlink:href=\"#DejaVuSans-55\"/>\n      </g>\n     </g>\n    </g>\n   </g>\n   <g id=\"line2d_28\">\n    <path clip-path=\"url(#p41269c31fb)\" d=\"M 87.192898 397.381752 \nL 97.440832 391.455634 \nL 107.688765 389.198065 \nL 117.936699 387.787084 \nL 128.184633 387.787084 \nL 138.432567 387.787084 \nL 148.680501 387.222692 \nL 158.928435 387.222692 \nL 169.176369 387.222692 \nL 179.424303 387.222692 \nL 189.672237 387.222692 \nL 199.92017 387.222692 \nL 210.168104 386.940496 \nL 220.416038 387.222692 \nL 230.663972 386.940496 \nL 240.911906 386.940496 \nL 251.15984 387.222692 \nL 261.407774 386.940496 \nL 271.655708 386.940496 \nL 281.903642 387.222692 \nL 292.151575 386.940496 \nL 302.399509 387.222692 \nL 312.647443 386.940496 \nL 322.895377 387.222692 \nL 333.143311 387.222692 \nL 343.391245 386.940496 \nL 353.639179 387.222692 \nL 363.887113 386.940496 \nL 374.135046 387.222692 \nL 384.38298 387.222692 \nL 394.630914 387.222692 \nL 404.878848 387.222692 \nL 415.126782 386.940496 \nL 425.374716 387.222692 \nL 435.62265 387.222692 \nL 445.870584 387.222692 \nL 456.118518 387.222692 \nL 466.366451 387.222692 \nL 476.614385 388.06928 \nL 486.862319 388.06928 \nL 497.110253 388.06928 \nL 507.358187 388.06928 \nL 517.606121 388.06928 \nL 527.854055 388.06928 \nL 538.101989 388.06928 \nL 548.349923 388.06928 \nL 558.597856 388.06928 \nL 568.84579 388.06928 \nL 579.093724 388.06928 \nL 589.341658 388.06928 \nL 599.589592 388.06928 \nL 609.837526 388.06928 \nL 620.08546 388.351476 \nL 630.333394 387.787084 \nL 640.581327 388.06928 \nL 650.829261 388.351476 \nL 661.077195 388.06928 \nL 671.325129 388.06928 \nL 681.573063 387.787084 \nL 691.820997 388.633672 \nL 702.068931 388.06928 \nL 712.316865 388.06928 \nL 722.564799 388.06928 \nL 732.812732 388.06928 \nL 743.060666 388.06928 \nL 753.3086 388.06928 \nL 763.556534 388.06928 \nL 773.804468 388.06928 \nL 784.052402 388.06928 \nL 794.300336 387.787084 \nL 804.54827 388.633672 \nL 814.796204 387.787084 \nL 825.044137 388.06928 \nL 835.292071 388.633672 \nL 845.540005 388.06928 \nL 855.787939 388.06928 \nL 866.035873 388.06928 \nL 876.283807 388.06928 \nL 886.531741 388.06928 \nL 896.779675 388.06928 \nL 907.027608 387.787084 \nL 917.275542 388.06928 \nL 927.523476 388.351476 \nL 937.77141 388.351476 \nL 948.019344 388.351476 \nL 958.267278 388.351476 \nL 968.515212 388.06928 \nL 978.763146 388.06928 \nL 989.01108 388.351476 \nL 999.259013 388.351476 \nL 1009.506947 388.06928 \nL 1019.754881 388.351476 \nL 1030.002815 388.351476 \nL 1040.250749 388.351476 \nL 1050.498683 388.351476 \nL 1060.746617 391.73783 \nL 1070.994551 611.568595 \nL 1081.242485 388.06928 \nL 1091.490418 388.351476 \nL 1101.738352 388.06928 \n\" style=\"fill:none;stroke:#1f77b4;stroke-linecap:square;stroke-width:1.5;\"/>\n   </g>\n   <g id=\"patch_8\">\n    <path d=\"M 36.465625 622.8 \nL 36.465625 375.709091 \n\" style=\"fill:none;stroke:#000000;stroke-linecap:square;stroke-linejoin:miter;stroke-width:0.8;\"/>\n   </g>\n   <g id=\"patch_9\">\n    <path d=\"M 1152.465625 622.8 \nL 1152.465625 375.709091 \n\" style=\"fill:none;stroke:#000000;stroke-linecap:square;stroke-linejoin:miter;stroke-width:0.8;\"/>\n   </g>\n   <g id=\"patch_10\">\n    <path d=\"M 36.465625 622.8 \nL 1152.465625 622.8 \n\" style=\"fill:none;stroke:#000000;stroke-linecap:square;stroke-linejoin:miter;stroke-width:0.8;\"/>\n   </g>\n   <g id=\"patch_11\">\n    <path d=\"M 36.465625 375.709091 \nL 1152.465625 375.709091 \n\" style=\"fill:none;stroke:#000000;stroke-linecap:square;stroke-linejoin:miter;stroke-width:0.8;\"/>\n   </g>\n   <g id=\"text_22\">\n    <!-- Test -->\n    <defs>\n     <path d=\"M 56.203125 29.59375 \nL 56.203125 25.203125 \nL 14.890625 25.203125 \nQ 15.484375 15.921875 20.484375 11.0625 \nQ 25.484375 6.203125 34.421875 6.203125 \nQ 39.59375 6.203125 44.453125 7.46875 \nQ 49.3125 8.734375 54.109375 11.28125 \nL 54.109375 2.78125 \nQ 49.265625 0.734375 44.1875 -0.34375 \nQ 39.109375 -1.421875 33.890625 -1.421875 \nQ 20.796875 -1.421875 13.15625 6.1875 \nQ 5.515625 13.8125 5.515625 26.8125 \nQ 5.515625 40.234375 12.765625 48.109375 \nQ 20.015625 56 32.328125 56 \nQ 43.359375 56 49.78125 48.890625 \nQ 56.203125 41.796875 56.203125 29.59375 \nz\nM 47.21875 32.234375 \nQ 47.125 39.59375 43.09375 43.984375 \nQ 39.0625 48.390625 32.421875 48.390625 \nQ 24.90625 48.390625 20.390625 44.140625 \nQ 15.875 39.890625 15.1875 32.171875 \nz\n\" id=\"DejaVuSans-101\"/>\n     <path d=\"M 44.28125 53.078125 \nL 44.28125 44.578125 \nQ 40.484375 46.53125 36.375 47.5 \nQ 32.28125 48.484375 27.875 48.484375 \nQ 21.1875 48.484375 17.84375 46.4375 \nQ 14.5 44.390625 14.5 40.28125 \nQ 14.5 37.15625 16.890625 35.375 \nQ 19.28125 33.59375 26.515625 31.984375 \nL 29.59375 31.296875 \nQ 39.15625 29.25 43.1875 25.515625 \nQ 47.21875 21.78125 47.21875 15.09375 \nQ 47.21875 7.46875 41.1875 3.015625 \nQ 35.15625 -1.421875 24.609375 -1.421875 \nQ 20.21875 -1.421875 15.453125 -0.5625 \nQ 10.6875 0.296875 5.421875 2 \nL 5.421875 11.28125 \nQ 10.40625 8.6875 15.234375 7.390625 \nQ 20.0625 6.109375 24.8125 6.109375 \nQ 31.15625 6.109375 34.5625 8.28125 \nQ 37.984375 10.453125 37.984375 14.40625 \nQ 37.984375 18.0625 35.515625 20.015625 \nQ 33.0625 21.96875 24.703125 23.78125 \nL 21.578125 24.515625 \nQ 13.234375 26.265625 9.515625 29.90625 \nQ 5.8125 33.546875 5.8125 39.890625 \nQ 5.8125 47.609375 11.28125 51.796875 \nQ 16.75 56 26.8125 56 \nQ 31.78125 56 36.171875 55.265625 \nQ 40.578125 54.546875 44.28125 53.078125 \nz\n\" id=\"DejaVuSans-115\"/>\n     <path d=\"M 18.3125 70.21875 \nL 18.3125 54.6875 \nL 36.8125 54.6875 \nL 36.8125 47.703125 \nL 18.3125 47.703125 \nL 18.3125 18.015625 \nQ 18.3125 11.328125 20.140625 9.421875 \nQ 21.96875 7.515625 27.59375 7.515625 \nL 36.8125 7.515625 \nL 36.8125 0 \nL 27.59375 0 \nQ 17.1875 0 13.234375 3.875 \nQ 9.28125 7.765625 9.28125 18.015625 \nL 9.28125 47.703125 \nL 2.6875 47.703125 \nL 2.6875 54.6875 \nL 9.28125 54.6875 \nL 9.28125 70.21875 \nz\n\" id=\"DejaVuSans-116\"/>\n    </defs>\n    <g transform=\"translate(581.647188 369.709091)scale(0.12 -0.12)\">\n     <use xlink:href=\"#DejaVuSans-84\"/>\n     <use x=\"60.818359\" xlink:href=\"#DejaVuSans-101\"/>\n     <use x=\"122.341797\" xlink:href=\"#DejaVuSans-115\"/>\n     <use x=\"174.441406\" xlink:href=\"#DejaVuSans-116\"/>\n    </g>\n   </g>\n  </g>\n  <g id=\"text_23\">\n   <!-- Accuracy over epochs -->\n   <defs>\n    <path d=\"M 34.1875 63.1875 \nL 20.796875 26.90625 \nL 47.609375 26.90625 \nz\nM 28.609375 72.90625 \nL 39.796875 72.90625 \nL 67.578125 0 \nL 57.328125 0 \nL 50.6875 18.703125 \nL 17.828125 18.703125 \nL 11.1875 0 \nL 0.78125 0 \nz\n\" id=\"DejaVuSans-65\"/>\n    <path d=\"M 48.78125 52.59375 \nL 48.78125 44.1875 \nQ 44.96875 46.296875 41.140625 47.34375 \nQ 37.3125 48.390625 33.40625 48.390625 \nQ 24.65625 48.390625 19.8125 42.84375 \nQ 14.984375 37.3125 14.984375 27.296875 \nQ 14.984375 17.28125 19.8125 11.734375 \nQ 24.65625 6.203125 33.40625 6.203125 \nQ 37.3125 6.203125 41.140625 7.25 \nQ 44.96875 8.296875 48.78125 10.40625 \nL 48.78125 2.09375 \nQ 45.015625 0.34375 40.984375 -0.53125 \nQ 36.96875 -1.421875 32.421875 -1.421875 \nQ 20.0625 -1.421875 12.78125 6.34375 \nQ 5.515625 14.109375 5.515625 27.296875 \nQ 5.515625 40.671875 12.859375 48.328125 \nQ 20.21875 56 33.015625 56 \nQ 37.15625 56 41.109375 55.140625 \nQ 45.0625 54.296875 48.78125 52.59375 \nz\n\" id=\"DejaVuSans-99\"/>\n    <path d=\"M 8.5 21.578125 \nL 8.5 54.6875 \nL 17.484375 54.6875 \nL 17.484375 21.921875 \nQ 17.484375 14.15625 20.5 10.265625 \nQ 23.53125 6.390625 29.59375 6.390625 \nQ 36.859375 6.390625 41.078125 11.03125 \nQ 45.3125 15.671875 45.3125 23.6875 \nL 45.3125 54.6875 \nL 54.296875 54.6875 \nL 54.296875 0 \nL 45.3125 0 \nL 45.3125 8.40625 \nQ 42.046875 3.421875 37.71875 1 \nQ 33.40625 -1.421875 27.6875 -1.421875 \nQ 18.265625 -1.421875 13.375 4.4375 \nQ 8.5 10.296875 8.5 21.578125 \nz\nM 31.109375 56 \nz\n\" id=\"DejaVuSans-117\"/>\n    <path d=\"M 32.171875 -5.078125 \nQ 28.375 -14.84375 24.75 -17.8125 \nQ 21.140625 -20.796875 15.09375 -20.796875 \nL 7.90625 -20.796875 \nL 7.90625 -13.28125 \nL 13.1875 -13.28125 \nQ 16.890625 -13.28125 18.9375 -11.515625 \nQ 21 -9.765625 23.484375 -3.21875 \nL 25.09375 0.875 \nL 2.984375 54.6875 \nL 12.5 54.6875 \nL 29.59375 11.921875 \nL 46.6875 54.6875 \nL 56.203125 54.6875 \nz\n\" id=\"DejaVuSans-121\"/>\n    <path id=\"DejaVuSans-32\"/>\n    <path d=\"M 30.609375 48.390625 \nQ 23.390625 48.390625 19.1875 42.75 \nQ 14.984375 37.109375 14.984375 27.296875 \nQ 14.984375 17.484375 19.15625 11.84375 \nQ 23.34375 6.203125 30.609375 6.203125 \nQ 37.796875 6.203125 41.984375 11.859375 \nQ 46.1875 17.53125 46.1875 27.296875 \nQ 46.1875 37.015625 41.984375 42.703125 \nQ 37.796875 48.390625 30.609375 48.390625 \nz\nM 30.609375 56 \nQ 42.328125 56 49.015625 48.375 \nQ 55.71875 40.765625 55.71875 27.296875 \nQ 55.71875 13.875 49.015625 6.21875 \nQ 42.328125 -1.421875 30.609375 -1.421875 \nQ 18.84375 -1.421875 12.171875 6.21875 \nQ 5.515625 13.875 5.515625 27.296875 \nQ 5.515625 40.765625 12.171875 48.375 \nQ 18.84375 56 30.609375 56 \nz\n\" id=\"DejaVuSans-111\"/>\n    <path d=\"M 2.984375 54.6875 \nL 12.5 54.6875 \nL 29.59375 8.796875 \nL 46.6875 54.6875 \nL 56.203125 54.6875 \nL 35.6875 0 \nL 23.484375 0 \nz\n\" id=\"DejaVuSans-118\"/>\n    <path d=\"M 18.109375 8.203125 \nL 18.109375 -20.796875 \nL 9.078125 -20.796875 \nL 9.078125 54.6875 \nL 18.109375 54.6875 \nL 18.109375 46.390625 \nQ 20.953125 51.265625 25.265625 53.625 \nQ 29.59375 56 35.59375 56 \nQ 45.5625 56 51.78125 48.09375 \nQ 58.015625 40.1875 58.015625 27.296875 \nQ 58.015625 14.40625 51.78125 6.484375 \nQ 45.5625 -1.421875 35.59375 -1.421875 \nQ 29.59375 -1.421875 25.265625 0.953125 \nQ 20.953125 3.328125 18.109375 8.203125 \nz\nM 48.6875 27.296875 \nQ 48.6875 37.203125 44.609375 42.84375 \nQ 40.53125 48.484375 33.40625 48.484375 \nQ 26.265625 48.484375 22.1875 42.84375 \nQ 18.109375 37.203125 18.109375 27.296875 \nQ 18.109375 17.390625 22.1875 11.75 \nQ 26.265625 6.109375 33.40625 6.109375 \nQ 40.53125 6.109375 44.609375 11.75 \nQ 48.6875 17.390625 48.6875 27.296875 \nz\n\" id=\"DejaVuSans-112\"/>\n    <path d=\"M 54.890625 33.015625 \nL 54.890625 0 \nL 45.90625 0 \nL 45.90625 32.71875 \nQ 45.90625 40.484375 42.875 44.328125 \nQ 39.84375 48.1875 33.796875 48.1875 \nQ 26.515625 48.1875 22.3125 43.546875 \nQ 18.109375 38.921875 18.109375 30.90625 \nL 18.109375 0 \nL 9.078125 0 \nL 9.078125 75.984375 \nL 18.109375 75.984375 \nL 18.109375 46.1875 \nQ 21.34375 51.125 25.703125 53.5625 \nQ 30.078125 56 35.796875 56 \nQ 45.21875 56 50.046875 50.171875 \nQ 54.890625 44.34375 54.890625 33.015625 \nz\n\" id=\"DejaVuSans-104\"/>\n   </defs>\n   <g transform=\"translate(499.358438 17.837812)scale(0.14 -0.14)\">\n    <use xlink:href=\"#DejaVuSans-65\"/>\n    <use x=\"68.392578\" xlink:href=\"#DejaVuSans-99\"/>\n    <use x=\"123.373047\" xlink:href=\"#DejaVuSans-99\"/>\n    <use x=\"178.353516\" xlink:href=\"#DejaVuSans-117\"/>\n    <use x=\"241.732422\" xlink:href=\"#DejaVuSans-114\"/>\n    <use x=\"282.845703\" xlink:href=\"#DejaVuSans-97\"/>\n    <use x=\"344.125\" xlink:href=\"#DejaVuSans-99\"/>\n    <use x=\"399.105469\" xlink:href=\"#DejaVuSans-121\"/>\n    <use x=\"458.285156\" xlink:href=\"#DejaVuSans-32\"/>\n    <use x=\"490.072266\" xlink:href=\"#DejaVuSans-111\"/>\n    <use x=\"551.253906\" xlink:href=\"#DejaVuSans-118\"/>\n    <use x=\"610.433594\" xlink:href=\"#DejaVuSans-101\"/>\n    <use x=\"671.957031\" xlink:href=\"#DejaVuSans-114\"/>\n    <use x=\"713.070312\" xlink:href=\"#DejaVuSans-32\"/>\n    <use x=\"744.857422\" xlink:href=\"#DejaVuSans-101\"/>\n    <use x=\"806.380859\" xlink:href=\"#DejaVuSans-112\"/>\n    <use x=\"869.857422\" xlink:href=\"#DejaVuSans-111\"/>\n    <use x=\"931.039062\" xlink:href=\"#DejaVuSans-99\"/>\n    <use x=\"986.019531\" xlink:href=\"#DejaVuSans-104\"/>\n    <use x=\"1049.398438\" xlink:href=\"#DejaVuSans-115\"/>\n   </g>\n  </g>\n </g>\n <defs>\n  <clipPath id=\"pf4125604a9\">\n   <rect height=\"247.090909\" width=\"1116\" x=\"36.465625\" y=\"79.2\"/>\n  </clipPath>\n  <clipPath id=\"p41269c31fb\">\n   <rect height=\"247.090909\" width=\"1116\" x=\"36.465625\" y=\"375.709091\"/>\n  </clipPath>\n </defs>\n</svg>\n",
      "image/png": "[encoded data removed]"
     },
     "metadata": {
      "needs_background": "light"
     }
    }
   ],
   "source": [
    "plt.rcParams[\"figure.figsize\"] = (20,10)\n",
    "fig, ax = plt.subplots(2, sharex=True, sharey=True)\n",
    "ax[0].plot(scores_train)\n",
    "ax[0].set_title('Train')\n",
    "ax[1].plot(scores_test)\n",
    "ax[1].set_title('Test')\n",
    "fig.suptitle(\"Accuracy over epochs\", fontsize=14)\n",
    "plt.show()"
   ]
  },
  {
   "cell_type": "code",
   "execution_count": 118,
   "metadata": {},
   "outputs": [],
   "source": [
    "predictions = model.predict(X_test)"
   ]
  },
  {
   "cell_type": "code",
   "execution_count": 119,
   "metadata": {},
   "outputs": [],
   "source": [
    "from sklearn import metrics"
   ]
  },
  {
   "cell_type": "code",
   "execution_count": 120,
   "metadata": {},
   "outputs": [
    {
     "output_type": "execute_result",
     "data": {
      "text/plain": [
       "0.5709443099273608"
      ]
     },
     "metadata": {},
     "execution_count": 120
    }
   ],
   "source": [
    "metrics.accuracy_score(y_test, predictions)"
   ]
  }
 ],
 "metadata": {
  "kernelspec": {
   "name": "python3",
   "display_name": "Python 3.8.5 64-bit",
   "metadata": {
    "interpreter": {
     "hash": "31f2aee4e71d21fbe5cf8b01ff0e069b9275f58929596ceb00d14d90e3e16cd6"
    }
   }
  },
  "language_info": {
   "codemirror_mode": {
    "name": "ipython",
    "version": 3
   },
   "file_extension": ".py",
   "mimetype": "text/x-python",
   "name": "python",
   "nbconvert_exporter": "python",
   "pygments_lexer": "ipython3",
   "version": "3.8.5-final"
  }
 },
 "nbformat": 4,
 "nbformat_minor": 4
}